{
 "cells": [
  {
   "cell_type": "markdown",
   "metadata": {},
   "source": [
    "# Bibliotecas"
   ]
  },
  {
   "cell_type": "code",
   "execution_count": 1,
   "metadata": {
    "ExecuteTime": {
     "end_time": "2020-01-12T20:11:39.897113Z",
     "start_time": "2020-01-12T20:11:38.400073Z"
    }
   },
   "outputs": [],
   "source": [
    "%run libs.py"
   ]
  },
  {
   "cell_type": "markdown",
   "metadata": {},
   "source": [
    "# Ingest Data"
   ]
  },
  {
   "cell_type": "markdown",
   "metadata": {},
   "source": [
    "## cargo das"
   ]
  },
  {
   "cell_type": "code",
   "execution_count": 2,
   "metadata": {
    "ExecuteTime": {
     "end_time": "2020-01-12T20:11:42.415977Z",
     "start_time": "2020-01-12T20:11:39.900555Z"
    }
   },
   "outputs": [
    {
     "data": {
      "text/plain": [
       "(371789, 15)"
      ]
     },
     "execution_count": 2,
     "metadata": {},
     "output_type": "execute_result"
    }
   ],
   "source": [
    "df_DAS = pd.read_csv('data/cargodas.csv.gz', compression='gzip')\n",
    "df_DAS.shape"
   ]
  },
  {
   "cell_type": "code",
   "execution_count": 3,
   "metadata": {
    "ExecuteTime": {
     "end_time": "2020-01-12T20:11:42.836108Z",
     "start_time": "2020-01-12T20:11:42.419565Z"
    }
   },
   "outputs": [
    {
     "name": "stdout",
     "output_type": "stream",
     "text": [
      "<class 'pandas.core.frame.DataFrame'>\n",
      "RangeIndex: 371789 entries, 0 to 371788\n",
      "Data columns (total 15 columns):\n",
      "Unnamed: 0                            371789 non-null int64\n",
      "Nome                                  371789 non-null object\n",
      "CPF                                   371789 non-null object\n",
      "Descrição do cargo emprego            141638 non-null object\n",
      "Nível de Escolaridade                 371788 non-null object\n",
      "Situação servidor                     371789 non-null object\n",
      "Denominação do órgão de atuação       371789 non-null object\n",
      "UF da UPAG de vinculação              371789 non-null object\n",
      "Denominação unidade organizacional    371789 non-null object\n",
      "UF da Residência                      371761 non-null object\n",
      "Cidade da residência                  371789 non-null object\n",
      "Data início DAS                       371789 non-null int64\n",
      "DL nomeação                           365888 non-null object\n",
      "Valor da DAS                          371789 non-null object\n",
      "Unnamed: 14                           0 non-null float64\n",
      "dtypes: float64(1), int64(2), object(12)\n",
      "memory usage: 42.5+ MB\n"
     ]
    }
   ],
   "source": [
    "df_DAS.info()"
   ]
  },
  {
   "cell_type": "code",
   "execution_count": 4,
   "metadata": {
    "ExecuteTime": {
     "end_time": "2020-01-12T20:11:42.896346Z",
     "start_time": "2020-01-12T20:11:42.839330Z"
    }
   },
   "outputs": [
    {
     "data": {
      "text/html": [
       "<div>\n",
       "<style scoped>\n",
       "    .dataframe tbody tr th:only-of-type {\n",
       "        vertical-align: middle;\n",
       "    }\n",
       "\n",
       "    .dataframe tbody tr th {\n",
       "        vertical-align: top;\n",
       "    }\n",
       "\n",
       "    .dataframe thead th {\n",
       "        text-align: right;\n",
       "    }\n",
       "</style>\n",
       "<table border=\"1\" class=\"dataframe\">\n",
       "  <thead>\n",
       "    <tr style=\"text-align: right;\">\n",
       "      <th></th>\n",
       "      <th>Unnamed: 0</th>\n",
       "      <th>Nome</th>\n",
       "      <th>CPF</th>\n",
       "      <th>Descrição do cargo emprego</th>\n",
       "      <th>Nível de Escolaridade</th>\n",
       "      <th>Situação servidor</th>\n",
       "      <th>Denominação do órgão de atuação</th>\n",
       "      <th>UF da UPAG de vinculação</th>\n",
       "      <th>Denominação unidade organizacional</th>\n",
       "      <th>UF da Residência</th>\n",
       "      <th>Cidade da residência</th>\n",
       "      <th>Data início DAS</th>\n",
       "      <th>DL nomeação</th>\n",
       "      <th>Valor da DAS</th>\n",
       "      <th>Unnamed: 14</th>\n",
       "    </tr>\n",
       "  </thead>\n",
       "  <tbody>\n",
       "    <tr>\n",
       "      <th>23736</th>\n",
       "      <td>4478</td>\n",
       "      <td>MARCELO MACHADO DE CARVALHO</td>\n",
       "      <td>***638861**</td>\n",
       "      <td>NaN</td>\n",
       "      <td>ENSINO MEDIO</td>\n",
       "      <td>NOMEADO CARGO COMIS.</td>\n",
       "      <td>MINISTERIO DA SAUDE</td>\n",
       "      <td>DF</td>\n",
       "      <td>UNIDADE PAGADORA/DF</td>\n",
       "      <td>DF</td>\n",
       "      <td>BRASILIA</td>\n",
       "      <td>20110822</td>\n",
       "      <td>PORT 003665/2010, MS PUB: DO 25NOV2010</td>\n",
       "      <td>5440,72</td>\n",
       "      <td>NaN</td>\n",
       "    </tr>\n",
       "  </tbody>\n",
       "</table>\n",
       "</div>"
      ],
      "text/plain": [
       "       Unnamed: 0                         Nome          CPF  \\\n",
       "23736        4478  MARCELO MACHADO DE CARVALHO  ***638861**   \n",
       "\n",
       "      Descrição do cargo emprego Nível de Escolaridade     Situação servidor  \\\n",
       "23736                        NaN          ENSINO MEDIO  NOMEADO CARGO COMIS.   \n",
       "\n",
       "      Denominação do órgão de atuação UF da UPAG de vinculação  \\\n",
       "23736             MINISTERIO DA SAUDE                       DF   \n",
       "\n",
       "      Denominação unidade organizacional UF da Residência  \\\n",
       "23736                UNIDADE PAGADORA/DF               DF   \n",
       "\n",
       "      Cidade da residência  Data início DAS  \\\n",
       "23736             BRASILIA         20110822   \n",
       "\n",
       "                                  DL nomeação Valor da DAS  Unnamed: 14  \n",
       "23736  PORT 003665/2010, MS PUB: DO 25NOV2010      5440,72          NaN  "
      ]
     },
     "execution_count": 4,
     "metadata": {},
     "output_type": "execute_result"
    }
   ],
   "source": [
    "df_DAS.sample()"
   ]
  },
  {
   "cell_type": "markdown",
   "metadata": {},
   "source": [
    "## df militares"
   ]
  },
  {
   "cell_type": "code",
   "execution_count": 5,
   "metadata": {
    "ExecuteTime": {
     "end_time": "2020-01-12T20:11:47.846324Z",
     "start_time": "2020-01-12T20:11:42.900104Z"
    }
   },
   "outputs": [
    {
     "name": "stderr",
     "output_type": "stream",
     "text": [
      "/Users/mattosoerick/anaconda3/lib/python3.6/site-packages/IPython/core/interactiveshell.py:2728: DtypeWarning: Columns (30) have mixed types. Specify dtype option on import or set low_memory=False.\n",
      "  interactivity=interactivity, compiler=compiler, result=result)\n"
     ]
    },
    {
     "data": {
      "text/plain": [
       "(376678, 44)"
      ]
     },
     "execution_count": 5,
     "metadata": {},
     "output_type": "execute_result"
    }
   ],
   "source": [
    "df_militares = pd.read_csv('data/df_militares.csv.gz',compression='gzip')\n",
    "df_militares.shape"
   ]
  },
  {
   "cell_type": "code",
   "execution_count": 6,
   "metadata": {
    "ExecuteTime": {
     "end_time": "2020-01-12T20:11:48.665134Z",
     "start_time": "2020-01-12T20:11:47.850576Z"
    }
   },
   "outputs": [
    {
     "name": "stdout",
     "output_type": "stream",
     "text": [
      "<class 'pandas.core.frame.DataFrame'>\n",
      "RangeIndex: 376678 entries, 0 to 376677\n",
      "Data columns (total 44 columns):\n",
      "Unnamed: 0                              376678 non-null int64\n",
      "Id_SERVIDOR_PORTAL                      376678 non-null int64\n",
      "NOME                                    376678 non-null object\n",
      "CPF                                     376678 non-null object\n",
      "MATRICULA                               376678 non-null object\n",
      "DESCRICAO_CARGO                         376678 non-null object\n",
      "CLASSE_CARGO                            376678 non-null int64\n",
      "REFERENCIA_CARGO                        376678 non-null int64\n",
      "PADRAO_CARGO                            376678 non-null int64\n",
      "NIVEL_CARGO                             376678 non-null int64\n",
      "SIGLA_FUNCAO                            376678 non-null int64\n",
      "NIVEL_FUNCAO                            376678 non-null int64\n",
      "FUNCAO                                  376678 non-null object\n",
      "CODIGO_ATIVIDADE                        376678 non-null int64\n",
      "ATIVIDADE                               376678 non-null object\n",
      "OPCAO_PARCIAL                           0 non-null float64\n",
      "COD_UORG_LOTACAO                        376678 non-null int64\n",
      "UORG_LOTACAO                            376678 non-null object\n",
      "COD_ORG_LOTACAO                         376678 non-null int64\n",
      "ORG_LOTACAO                             376678 non-null object\n",
      "COD_ORGSUP_LOTACAO                      376678 non-null int64\n",
      "ORGSUP_LOTACAO                          376678 non-null object\n",
      "COD_UORG_EXERCICIO                      376678 non-null int64\n",
      "UORG_EXERCICIO                          376678 non-null object\n",
      "COD_ORG_EXERCICIO                       376678 non-null int64\n",
      "ORG_EXERCICIO                           376678 non-null object\n",
      "COD_ORGSUP_EXERCICIO                    376678 non-null int64\n",
      "ORGSUP_EXERCICIO                        376678 non-null object\n",
      "TIPO_VINCULO                            376678 non-null int64\n",
      "SITUACAO_VINCULO                        376678 non-null object\n",
      "DATA_INICIO_AFASTAMENTO                 41 non-null object\n",
      "DATA_TERMINO_AFASTAMENTO                0 non-null float64\n",
      "REGIME_JURIDICO                         376678 non-null object\n",
      "JORNADA_DE_TRABALHO                     376678 non-null object\n",
      "DATA_INGRESSO_CARGOFUNCAO               0 non-null float64\n",
      "DATA_NOMEACAO_CARGOFUNCAO               0 non-null float64\n",
      "DATA_INGRESSO_ORGAO                     0 non-null float64\n",
      "DOCUMENTO_INGRESSO_SERVICOPUBLICO       318976 non-null object\n",
      "DATA_DIPLOMA_INGRESSO_SERVICOPUBLICO    0 non-null float64\n",
      "DIPLOMA_INGRESSO_CARGOFUNCAO            0 non-null float64\n",
      "DIPLOMA_INGRESSO_ORGAO                  376678 non-null object\n",
      "DIPLOMA_INGRESSO_SERVICOPUBLICO         376678 non-null object\n",
      "UF_EXERCICIO                            376678 non-null int64\n",
      "file                                    376678 non-null int64\n",
      "dtypes: float64(7), int64(18), object(19)\n",
      "memory usage: 126.4+ MB\n"
     ]
    }
   ],
   "source": [
    "df_militares.info()"
   ]
  },
  {
   "cell_type": "code",
   "execution_count": 7,
   "metadata": {
    "ExecuteTime": {
     "end_time": "2020-01-12T20:11:48.733998Z",
     "start_time": "2020-01-12T20:11:48.669086Z"
    }
   },
   "outputs": [
    {
     "data": {
      "text/html": [
       "<div>\n",
       "<style scoped>\n",
       "    .dataframe tbody tr th:only-of-type {\n",
       "        vertical-align: middle;\n",
       "    }\n",
       "\n",
       "    .dataframe tbody tr th {\n",
       "        vertical-align: top;\n",
       "    }\n",
       "\n",
       "    .dataframe thead th {\n",
       "        text-align: right;\n",
       "    }\n",
       "</style>\n",
       "<table border=\"1\" class=\"dataframe\">\n",
       "  <thead>\n",
       "    <tr style=\"text-align: right;\">\n",
       "      <th></th>\n",
       "      <th>Unnamed: 0</th>\n",
       "      <th>Id_SERVIDOR_PORTAL</th>\n",
       "      <th>NOME</th>\n",
       "      <th>CPF</th>\n",
       "      <th>MATRICULA</th>\n",
       "      <th>DESCRICAO_CARGO</th>\n",
       "      <th>CLASSE_CARGO</th>\n",
       "      <th>REFERENCIA_CARGO</th>\n",
       "      <th>PADRAO_CARGO</th>\n",
       "      <th>NIVEL_CARGO</th>\n",
       "      <th>SIGLA_FUNCAO</th>\n",
       "      <th>NIVEL_FUNCAO</th>\n",
       "      <th>FUNCAO</th>\n",
       "      <th>CODIGO_ATIVIDADE</th>\n",
       "      <th>ATIVIDADE</th>\n",
       "      <th>OPCAO_PARCIAL</th>\n",
       "      <th>COD_UORG_LOTACAO</th>\n",
       "      <th>UORG_LOTACAO</th>\n",
       "      <th>COD_ORG_LOTACAO</th>\n",
       "      <th>ORG_LOTACAO</th>\n",
       "      <th>COD_ORGSUP_LOTACAO</th>\n",
       "      <th>ORGSUP_LOTACAO</th>\n",
       "      <th>COD_UORG_EXERCICIO</th>\n",
       "      <th>UORG_EXERCICIO</th>\n",
       "      <th>COD_ORG_EXERCICIO</th>\n",
       "      <th>ORG_EXERCICIO</th>\n",
       "      <th>COD_ORGSUP_EXERCICIO</th>\n",
       "      <th>ORGSUP_EXERCICIO</th>\n",
       "      <th>TIPO_VINCULO</th>\n",
       "      <th>SITUACAO_VINCULO</th>\n",
       "      <th>DATA_INICIO_AFASTAMENTO</th>\n",
       "      <th>DATA_TERMINO_AFASTAMENTO</th>\n",
       "      <th>REGIME_JURIDICO</th>\n",
       "      <th>JORNADA_DE_TRABALHO</th>\n",
       "      <th>DATA_INGRESSO_CARGOFUNCAO</th>\n",
       "      <th>DATA_NOMEACAO_CARGOFUNCAO</th>\n",
       "      <th>DATA_INGRESSO_ORGAO</th>\n",
       "      <th>DOCUMENTO_INGRESSO_SERVICOPUBLICO</th>\n",
       "      <th>DATA_DIPLOMA_INGRESSO_SERVICOPUBLICO</th>\n",
       "      <th>DIPLOMA_INGRESSO_CARGOFUNCAO</th>\n",
       "      <th>DIPLOMA_INGRESSO_ORGAO</th>\n",
       "      <th>DIPLOMA_INGRESSO_SERVICOPUBLICO</th>\n",
       "      <th>UF_EXERCICIO</th>\n",
       "      <th>file</th>\n",
       "    </tr>\n",
       "  </thead>\n",
       "  <tbody>\n",
       "    <tr>\n",
       "      <th>372123</th>\n",
       "      <td>372123</td>\n",
       "      <td>6810281</td>\n",
       "      <td>WILLIAM TENORIO DOS SANTOS</td>\n",
       "      <td>***.686.087-**</td>\n",
       "      <td>059****</td>\n",
       "      <td>Soldado</td>\n",
       "      <td>0</td>\n",
       "      <td>0</td>\n",
       "      <td>0</td>\n",
       "      <td>0</td>\n",
       "      <td>-1</td>\n",
       "      <td>-1</td>\n",
       "      <td>Sem informação</td>\n",
       "      <td>-1</td>\n",
       "      <td>Sem informação</td>\n",
       "      <td>NaN</td>\n",
       "      <td>-1</td>\n",
       "      <td>Sem informação</td>\n",
       "      <td>16000</td>\n",
       "      <td>Comando do Exército</td>\n",
       "      <td>40105</td>\n",
       "      <td>Ministério da Defesa</td>\n",
       "      <td>-1</td>\n",
       "      <td>Sem informação</td>\n",
       "      <td>16000</td>\n",
       "      <td>Comando do Exército</td>\n",
       "      <td>40105</td>\n",
       "      <td>Ministério da Defesa</td>\n",
       "      <td>2</td>\n",
       "      <td>MILITAR DA ATIVA</td>\n",
       "      <td>NaN</td>\n",
       "      <td>NaN</td>\n",
       "      <td>ESTATUTO DOS MILITARES</td>\n",
       "      <td>DSPN. PERMANENTE</td>\n",
       "      <td>NaN</td>\n",
       "      <td>NaN</td>\n",
       "      <td>NaN</td>\n",
       "      <td>001</td>\n",
       "      <td>NaN</td>\n",
       "      <td>NaN</td>\n",
       "      <td>Sem informação</td>\n",
       "      <td>BOLETIM INTERNO</td>\n",
       "      <td>-1</td>\n",
       "      <td>201505</td>\n",
       "    </tr>\n",
       "  </tbody>\n",
       "</table>\n",
       "</div>"
      ],
      "text/plain": [
       "        Unnamed: 0  Id_SERVIDOR_PORTAL                        NOME  \\\n",
       "372123      372123             6810281  WILLIAM TENORIO DOS SANTOS   \n",
       "\n",
       "                   CPF MATRICULA DESCRICAO_CARGO  CLASSE_CARGO  \\\n",
       "372123  ***.686.087-**   059****         Soldado             0   \n",
       "\n",
       "        REFERENCIA_CARGO  PADRAO_CARGO  NIVEL_CARGO  SIGLA_FUNCAO  \\\n",
       "372123                 0             0            0            -1   \n",
       "\n",
       "        NIVEL_FUNCAO          FUNCAO  CODIGO_ATIVIDADE       ATIVIDADE  \\\n",
       "372123            -1  Sem informação                -1  Sem informação   \n",
       "\n",
       "        OPCAO_PARCIAL  COD_UORG_LOTACAO    UORG_LOTACAO  COD_ORG_LOTACAO  \\\n",
       "372123            NaN                -1  Sem informação            16000   \n",
       "\n",
       "                ORG_LOTACAO  COD_ORGSUP_LOTACAO        ORGSUP_LOTACAO  \\\n",
       "372123  Comando do Exército               40105  Ministério da Defesa   \n",
       "\n",
       "        COD_UORG_EXERCICIO  UORG_EXERCICIO  COD_ORG_EXERCICIO  \\\n",
       "372123                  -1  Sem informação              16000   \n",
       "\n",
       "              ORG_EXERCICIO  COD_ORGSUP_EXERCICIO      ORGSUP_EXERCICIO  \\\n",
       "372123  Comando do Exército                 40105  Ministério da Defesa   \n",
       "\n",
       "        TIPO_VINCULO  SITUACAO_VINCULO DATA_INICIO_AFASTAMENTO  \\\n",
       "372123             2  MILITAR DA ATIVA                     NaN   \n",
       "\n",
       "        DATA_TERMINO_AFASTAMENTO         REGIME_JURIDICO JORNADA_DE_TRABALHO  \\\n",
       "372123                       NaN  ESTATUTO DOS MILITARES    DSPN. PERMANENTE   \n",
       "\n",
       "        DATA_INGRESSO_CARGOFUNCAO  DATA_NOMEACAO_CARGOFUNCAO  \\\n",
       "372123                        NaN                        NaN   \n",
       "\n",
       "        DATA_INGRESSO_ORGAO DOCUMENTO_INGRESSO_SERVICOPUBLICO  \\\n",
       "372123                  NaN                               001   \n",
       "\n",
       "        DATA_DIPLOMA_INGRESSO_SERVICOPUBLICO  DIPLOMA_INGRESSO_CARGOFUNCAO  \\\n",
       "372123                                   NaN                           NaN   \n",
       "\n",
       "       DIPLOMA_INGRESSO_ORGAO DIPLOMA_INGRESSO_SERVICOPUBLICO  UF_EXERCICIO  \\\n",
       "372123         Sem informação                 BOLETIM INTERNO            -1   \n",
       "\n",
       "          file  \n",
       "372123  201505  "
      ]
     },
     "execution_count": 7,
     "metadata": {},
     "output_type": "execute_result"
    }
   ],
   "source": [
    "df_militares.sample()"
   ]
  },
  {
   "cell_type": "markdown",
   "metadata": {},
   "source": [
    "# Merge"
   ]
  },
  {
   "cell_type": "code",
   "execution_count": 8,
   "metadata": {
    "ExecuteTime": {
     "end_time": "2020-01-12T20:11:48.751955Z",
     "start_time": "2020-01-12T20:11:48.737555Z"
    }
   },
   "outputs": [
    {
     "name": "stdout",
     "output_type": "stream",
     "text": [
      "df_militares (376678, 44)\n",
      "df_DAS (371789, 15)\n"
     ]
    }
   ],
   "source": [
    "print('df_militares', df_militares.shape)\n",
    "print('df_DAS', df_DAS.shape)"
   ]
  },
  {
   "cell_type": "code",
   "execution_count": 9,
   "metadata": {
    "ExecuteTime": {
     "end_time": "2020-01-12T20:11:50.675945Z",
     "start_time": "2020-01-12T20:11:48.757705Z"
    }
   },
   "outputs": [],
   "source": [
    "df_militares['unique_id'] = df_militares['NOME'] + \\\n",
    "    df_militares['CPF'].str.replace('[.-]', '', regex=True)\n",
    "df_DAS['unique_id'] = df_DAS['Nome'] + \\\n",
    "    df_DAS['CPF'].str.replace('[.-]', '', regex=True)"
   ]
  },
  {
   "cell_type": "markdown",
   "metadata": {},
   "source": [
    "![Figure 1-1](http://www.datasciencemadesimple.com/wp-content/uploads/2017/09/join-or-merge-in-python-pandas-1.png \"Figure 1-1\")"
   ]
  },
  {
   "cell_type": "markdown",
   "metadata": {},
   "source": [
    "Vamos juntar as tabelas de Militares e DAS em uma só usando a propriedade 'INNER' para garantir que temos somente os militares em cargos DAS. Mas para isso precisamos criar uma chave única formada por nome do servidor + CPF."
   ]
  },
  {
   "cell_type": "code",
   "execution_count": 10,
   "metadata": {
    "ExecuteTime": {
     "end_time": "2020-01-12T20:11:52.030905Z",
     "start_time": "2020-01-12T20:11:50.679259Z"
    }
   },
   "outputs": [
    {
     "name": "stdout",
     "output_type": "stream",
     "text": [
      "df_DAS_mil (6497, 60)\n"
     ]
    }
   ],
   "source": [
    "df_DAS_mil = pd.merge(df_DAS, df_militares, how='inner', on='unique_id')\n",
    "print('df_DAS_mil', df_DAS_mil.shape)"
   ]
  },
  {
   "cell_type": "code",
   "execution_count": 11,
   "metadata": {
    "ExecuteTime": {
     "end_time": "2020-01-12T20:11:52.171170Z",
     "start_time": "2020-01-12T20:11:52.034855Z"
    }
   },
   "outputs": [
    {
     "data": {
      "text/html": [
       "<div>\n",
       "<style scoped>\n",
       "    .dataframe tbody tr th:only-of-type {\n",
       "        vertical-align: middle;\n",
       "    }\n",
       "\n",
       "    .dataframe tbody tr th {\n",
       "        vertical-align: top;\n",
       "    }\n",
       "\n",
       "    .dataframe thead th {\n",
       "        text-align: right;\n",
       "    }\n",
       "</style>\n",
       "<table border=\"1\" class=\"dataframe\">\n",
       "  <thead>\n",
       "    <tr style=\"text-align: right;\">\n",
       "      <th></th>\n",
       "      <th>Unnamed: 0_x</th>\n",
       "      <th>Nome</th>\n",
       "      <th>CPF_x</th>\n",
       "      <th>Descrição do cargo emprego</th>\n",
       "      <th>Nível de Escolaridade</th>\n",
       "      <th>Situação servidor</th>\n",
       "      <th>Denominação do órgão de atuação</th>\n",
       "      <th>UF da UPAG de vinculação</th>\n",
       "      <th>Denominação unidade organizacional</th>\n",
       "      <th>UF da Residência</th>\n",
       "      <th>Cidade da residência</th>\n",
       "      <th>Data início DAS</th>\n",
       "      <th>DL nomeação</th>\n",
       "      <th>Valor da DAS</th>\n",
       "      <th>Unnamed: 14</th>\n",
       "      <th>unique_id</th>\n",
       "      <th>Unnamed: 0_y</th>\n",
       "      <th>Id_SERVIDOR_PORTAL</th>\n",
       "      <th>NOME</th>\n",
       "      <th>CPF_y</th>\n",
       "      <th>MATRICULA</th>\n",
       "      <th>DESCRICAO_CARGO</th>\n",
       "      <th>CLASSE_CARGO</th>\n",
       "      <th>REFERENCIA_CARGO</th>\n",
       "      <th>PADRAO_CARGO</th>\n",
       "      <th>NIVEL_CARGO</th>\n",
       "      <th>SIGLA_FUNCAO</th>\n",
       "      <th>NIVEL_FUNCAO</th>\n",
       "      <th>FUNCAO</th>\n",
       "      <th>CODIGO_ATIVIDADE</th>\n",
       "      <th>ATIVIDADE</th>\n",
       "      <th>OPCAO_PARCIAL</th>\n",
       "      <th>COD_UORG_LOTACAO</th>\n",
       "      <th>UORG_LOTACAO</th>\n",
       "      <th>COD_ORG_LOTACAO</th>\n",
       "      <th>ORG_LOTACAO</th>\n",
       "      <th>COD_ORGSUP_LOTACAO</th>\n",
       "      <th>ORGSUP_LOTACAO</th>\n",
       "      <th>COD_UORG_EXERCICIO</th>\n",
       "      <th>UORG_EXERCICIO</th>\n",
       "      <th>COD_ORG_EXERCICIO</th>\n",
       "      <th>ORG_EXERCICIO</th>\n",
       "      <th>COD_ORGSUP_EXERCICIO</th>\n",
       "      <th>ORGSUP_EXERCICIO</th>\n",
       "      <th>TIPO_VINCULO</th>\n",
       "      <th>SITUACAO_VINCULO</th>\n",
       "      <th>DATA_INICIO_AFASTAMENTO</th>\n",
       "      <th>DATA_TERMINO_AFASTAMENTO</th>\n",
       "      <th>REGIME_JURIDICO</th>\n",
       "      <th>JORNADA_DE_TRABALHO</th>\n",
       "      <th>DATA_INGRESSO_CARGOFUNCAO</th>\n",
       "      <th>DATA_NOMEACAO_CARGOFUNCAO</th>\n",
       "      <th>DATA_INGRESSO_ORGAO</th>\n",
       "      <th>DOCUMENTO_INGRESSO_SERVICOPUBLICO</th>\n",
       "      <th>DATA_DIPLOMA_INGRESSO_SERVICOPUBLICO</th>\n",
       "      <th>DIPLOMA_INGRESSO_CARGOFUNCAO</th>\n",
       "      <th>DIPLOMA_INGRESSO_ORGAO</th>\n",
       "      <th>DIPLOMA_INGRESSO_SERVICOPUBLICO</th>\n",
       "      <th>UF_EXERCICIO</th>\n",
       "      <th>file</th>\n",
       "    </tr>\n",
       "  </thead>\n",
       "  <tbody>\n",
       "    <tr>\n",
       "      <th>5189</th>\n",
       "      <td>6834</td>\n",
       "      <td>ADILSON LOPES DE FARIA</td>\n",
       "      <td>***579096**</td>\n",
       "      <td>NaN</td>\n",
       "      <td>ENSINO SUPERIOR</td>\n",
       "      <td>REQ. MILITAR F. ARM</td>\n",
       "      <td>COMANDO DA AERONAUTICA</td>\n",
       "      <td>DF</td>\n",
       "      <td>GERENCIA DE GESTAO DE PESSOAS</td>\n",
       "      <td>DF</td>\n",
       "      <td>BRASILIA</td>\n",
       "      <td>20170703</td>\n",
       "      <td>PORT 2567/SEPESD/SG/MD, 28JUN2017, DOU 123 29J...</td>\n",
       "      <td>0</td>\n",
       "      <td>NaN</td>\n",
       "      <td>ADILSON LOPES DE FARIA***579096**</td>\n",
       "      <td>2493</td>\n",
       "      <td>8510982</td>\n",
       "      <td>ADILSON LOPES DE FARIA</td>\n",
       "      <td>***.579.096-**</td>\n",
       "      <td>020****</td>\n",
       "      <td>Suboficial</td>\n",
       "      <td>0</td>\n",
       "      <td>0</td>\n",
       "      <td>0</td>\n",
       "      <td>0</td>\n",
       "      <td>-1</td>\n",
       "      <td>-1</td>\n",
       "      <td>Sem informação</td>\n",
       "      <td>-1</td>\n",
       "      <td>Sem informação</td>\n",
       "      <td>NaN</td>\n",
       "      <td>-1</td>\n",
       "      <td>Sem informação</td>\n",
       "      <td>21000</td>\n",
       "      <td>Comando da Aeronáutica</td>\n",
       "      <td>40105</td>\n",
       "      <td>Ministério da Defesa</td>\n",
       "      <td>-1</td>\n",
       "      <td>Sem informação</td>\n",
       "      <td>21000</td>\n",
       "      <td>Comando da Aeronáutica</td>\n",
       "      <td>40105</td>\n",
       "      <td>Ministério da Defesa</td>\n",
       "      <td>2</td>\n",
       "      <td>MILITAR DA ATIVA</td>\n",
       "      <td>NaN</td>\n",
       "      <td>NaN</td>\n",
       "      <td>ESTATUTO DOS MILITARES</td>\n",
       "      <td>DSPN. PERMANENTE</td>\n",
       "      <td>NaN</td>\n",
       "      <td>NaN</td>\n",
       "      <td>NaN</td>\n",
       "      <td>NaN</td>\n",
       "      <td>NaN</td>\n",
       "      <td>NaN</td>\n",
       "      <td>Sem informação</td>\n",
       "      <td>PORTARIA</td>\n",
       "      <td>-1</td>\n",
       "      <td>201505</td>\n",
       "    </tr>\n",
       "  </tbody>\n",
       "</table>\n",
       "</div>"
      ],
      "text/plain": [
       "      Unnamed: 0_x                    Nome        CPF_x  \\\n",
       "5189          6834  ADILSON LOPES DE FARIA  ***579096**   \n",
       "\n",
       "     Descrição do cargo emprego Nível de Escolaridade    Situação servidor  \\\n",
       "5189                        NaN       ENSINO SUPERIOR  REQ. MILITAR F. ARM   \n",
       "\n",
       "     Denominação do órgão de atuação UF da UPAG de vinculação  \\\n",
       "5189          COMANDO DA AERONAUTICA                       DF   \n",
       "\n",
       "     Denominação unidade organizacional UF da Residência Cidade da residência  \\\n",
       "5189      GERENCIA DE GESTAO DE PESSOAS               DF             BRASILIA   \n",
       "\n",
       "      Data início DAS                                        DL nomeação  \\\n",
       "5189         20170703  PORT 2567/SEPESD/SG/MD, 28JUN2017, DOU 123 29J...   \n",
       "\n",
       "     Valor da DAS  Unnamed: 14                          unique_id  \\\n",
       "5189            0          NaN  ADILSON LOPES DE FARIA***579096**   \n",
       "\n",
       "      Unnamed: 0_y  Id_SERVIDOR_PORTAL                    NOME  \\\n",
       "5189          2493             8510982  ADILSON LOPES DE FARIA   \n",
       "\n",
       "               CPF_y MATRICULA DESCRICAO_CARGO  CLASSE_CARGO  \\\n",
       "5189  ***.579.096-**   020****      Suboficial             0   \n",
       "\n",
       "      REFERENCIA_CARGO  PADRAO_CARGO  NIVEL_CARGO  SIGLA_FUNCAO  NIVEL_FUNCAO  \\\n",
       "5189                 0             0            0            -1            -1   \n",
       "\n",
       "              FUNCAO  CODIGO_ATIVIDADE       ATIVIDADE  OPCAO_PARCIAL  \\\n",
       "5189  Sem informação                -1  Sem informação            NaN   \n",
       "\n",
       "      COD_UORG_LOTACAO    UORG_LOTACAO  COD_ORG_LOTACAO  \\\n",
       "5189                -1  Sem informação            21000   \n",
       "\n",
       "                 ORG_LOTACAO  COD_ORGSUP_LOTACAO        ORGSUP_LOTACAO  \\\n",
       "5189  Comando da Aeronáutica               40105  Ministério da Defesa   \n",
       "\n",
       "      COD_UORG_EXERCICIO  UORG_EXERCICIO  COD_ORG_EXERCICIO  \\\n",
       "5189                  -1  Sem informação              21000   \n",
       "\n",
       "               ORG_EXERCICIO  COD_ORGSUP_EXERCICIO      ORGSUP_EXERCICIO  \\\n",
       "5189  Comando da Aeronáutica                 40105  Ministério da Defesa   \n",
       "\n",
       "      TIPO_VINCULO  SITUACAO_VINCULO DATA_INICIO_AFASTAMENTO  \\\n",
       "5189             2  MILITAR DA ATIVA                     NaN   \n",
       "\n",
       "      DATA_TERMINO_AFASTAMENTO         REGIME_JURIDICO JORNADA_DE_TRABALHO  \\\n",
       "5189                       NaN  ESTATUTO DOS MILITARES    DSPN. PERMANENTE   \n",
       "\n",
       "      DATA_INGRESSO_CARGOFUNCAO  DATA_NOMEACAO_CARGOFUNCAO  \\\n",
       "5189                        NaN                        NaN   \n",
       "\n",
       "      DATA_INGRESSO_ORGAO DOCUMENTO_INGRESSO_SERVICOPUBLICO  \\\n",
       "5189                  NaN                               NaN   \n",
       "\n",
       "      DATA_DIPLOMA_INGRESSO_SERVICOPUBLICO  DIPLOMA_INGRESSO_CARGOFUNCAO  \\\n",
       "5189                                   NaN                           NaN   \n",
       "\n",
       "     DIPLOMA_INGRESSO_ORGAO DIPLOMA_INGRESSO_SERVICOPUBLICO  UF_EXERCICIO  \\\n",
       "5189         Sem informação                        PORTARIA            -1   \n",
       "\n",
       "        file  \n",
       "5189  201505  "
      ]
     },
     "execution_count": 11,
     "metadata": {},
     "output_type": "execute_result"
    }
   ],
   "source": [
    "df_DAS_mil.sample()"
   ]
  },
  {
   "cell_type": "code",
   "execution_count": 12,
   "metadata": {
    "ExecuteTime": {
     "end_time": "2020-01-12T20:11:52.194027Z",
     "start_time": "2020-01-12T20:11:52.177655Z"
    }
   },
   "outputs": [],
   "source": [
    "df_militares_no_governo = df_DAS_mil[[\n",
    "    'Nome', 'CPF_x', 'ORG_EXERCICIO','ORG_LOTACAO','DESCRICAO_CARGO','Descrição do cargo emprego', 'Situação servidor',\n",
    "    'Denominação do órgão de atuação', 'UF da UPAG de vinculação',\n",
    "    'Denominação unidade organizacional', 'UF da Residência',\n",
    "    'Cidade da residência', 'Data início DAS', 'DL nomeação', 'Valor da DAS',\n",
    "    'unique_id', 'Id_SERVIDOR_PORTAL', 'MATRICULA',\n",
    "    'UF_EXERCICIO', 'file'\n",
    "]]"
   ]
  },
  {
   "cell_type": "code",
   "execution_count": 13,
   "metadata": {
    "ExecuteTime": {
     "end_time": "2020-01-12T20:11:52.228563Z",
     "start_time": "2020-01-12T20:11:52.198357Z"
    }
   },
   "outputs": [
    {
     "data": {
      "text/plain": [
       "Coronel                                 1158\n",
       "Segundo-Sargento                         810\n",
       "Primeiro-Tenente                         737\n",
       "Tenente-Coronel                          479\n",
       "Segundo-Tenente                          369\n",
       "Suboficial                               315\n",
       "Terceiro-Sargento                        309\n",
       "Primeiro-Sargento                        277\n",
       "Cabo (engajado)                          245\n",
       "Capitao-de-Mar-e-Guerra                  236\n",
       "Capitao                                  201\n",
       "Major                                    194\n",
       "General-de-Brigada                       162\n",
       "General-de-Divisao                       157\n",
       "Brigadeiro                               134\n",
       "Subtenente                               122\n",
       "Contra-Almirante                          93\n",
       "Soldado                                   78\n",
       "Tenente-Brigadeiro-do-Ar                  77\n",
       "Capitao-de-Fragata                        71\n",
       "General-de-Exercito                       56\n",
       "Vice-Almirante                            46\n",
       "Major-Brigadeiro                          38\n",
       "Aspirante-a-Oficial                       34\n",
       "Capitao-Tenente                           28\n",
       "Capitao-de-Corveta                        28\n",
       "Soldado de 1ª Classe                      18\n",
       "Soldado-Recruta/Soldado de 2ª Classe      15\n",
       "Soldado-Recruta                           10\n",
       "Name: DESCRICAO_CARGO, dtype: int64"
      ]
     },
     "execution_count": 13,
     "metadata": {},
     "output_type": "execute_result"
    }
   ],
   "source": [
    "df_militares_no_governo['DESCRICAO_CARGO'].value_counts()"
   ]
  },
  {
   "cell_type": "code",
   "execution_count": 14,
   "metadata": {
    "ExecuteTime": {
     "end_time": "2020-01-12T20:11:52.253482Z",
     "start_time": "2020-01-12T20:11:52.233338Z"
    }
   },
   "outputs": [],
   "source": [
    "filter_ = 'Soldado'\n",
    "df_oficiais_no_governo = df_militares_no_governo[~(\n",
    "    df_militares_no_governo['DESCRICAO_CARGO'].str.contains(filter_))]"
   ]
  },
  {
   "cell_type": "markdown",
   "metadata": {},
   "source": [
    "# Ajustando strings"
   ]
  },
  {
   "cell_type": "code",
   "execution_count": 15,
   "metadata": {
    "ExecuteTime": {
     "end_time": "2020-01-12T20:11:52.621086Z",
     "start_time": "2020-01-12T20:11:52.257197Z"
    }
   },
   "outputs": [
    {
     "name": "stderr",
     "output_type": "stream",
     "text": [
      "/Users/mattosoerick/anaconda3/lib/python3.6/site-packages/ipykernel_launcher.py:3: SettingWithCopyWarning: \n",
      "A value is trying to be set on a copy of a slice from a DataFrame.\n",
      "Try using .loc[row_indexer,col_indexer] = value instead\n",
      "\n",
      "See the caveats in the documentation: http://pandas.pydata.org/pandas-docs/stable/indexing.html#indexing-view-versus-copy\n",
      "  This is separate from the ipykernel package so we can avoid doing imports until\n",
      "/Users/mattosoerick/anaconda3/lib/python3.6/site-packages/ipykernel_launcher.py:5: SettingWithCopyWarning: \n",
      "A value is trying to be set on a copy of a slice from a DataFrame.\n",
      "Try using .loc[row_indexer,col_indexer] = value instead\n",
      "\n",
      "See the caveats in the documentation: http://pandas.pydata.org/pandas-docs/stable/indexing.html#indexing-view-versus-copy\n",
      "  \"\"\"\n",
      "/Users/mattosoerick/anaconda3/lib/python3.6/site-packages/ipykernel_launcher.py:7: SettingWithCopyWarning: \n",
      "A value is trying to be set on a copy of a slice from a DataFrame.\n",
      "Try using .loc[row_indexer,col_indexer] = value instead\n",
      "\n",
      "See the caveats in the documentation: http://pandas.pydata.org/pandas-docs/stable/indexing.html#indexing-view-versus-copy\n",
      "  import sys\n",
      "/Users/mattosoerick/anaconda3/lib/python3.6/site-packages/ipykernel_launcher.py:9: SettingWithCopyWarning: \n",
      "A value is trying to be set on a copy of a slice from a DataFrame.\n",
      "Try using .loc[row_indexer,col_indexer] = value instead\n",
      "\n",
      "See the caveats in the documentation: http://pandas.pydata.org/pandas-docs/stable/indexing.html#indexing-view-versus-copy\n",
      "  if __name__ == '__main__':\n"
     ]
    }
   ],
   "source": [
    "col = 'Denominação do órgão de atuação'\n",
    "df_oficiais_no_governo[col] = df_oficiais_no_governo[col].str.replace(\n",
    "    ('.*' + 'JUSTI.*A' + '.*'), ('MINISTERIO DA JUSTIÇA'), regex=True)\n",
    "df_oficiais_no_governo[col] = df_oficiais_no_governo[col].str.replace(\n",
    "    ('.*' + 'ESTADOS.*MUNICIPIOS' + '.*'), ('ESTADOS/MUNICIPIOS/ADM.DIR-AUT/FUNDACOES'), regex=True)\n",
    "df_oficiais_no_governo[col] = df_oficiais_no_governo[col].str.replace(\n",
    "    ('.*' + 'MINIST.DA CI' + '.*'), ('MINISTÉRIO CIÊNCIA TEC.INOV.COMUNICAÇÕES'), regex=True)\n",
    "df_oficiais_no_governo[col] = df_oficiais_no_governo[col].str.replace(\n",
    "    ('.*' + 'HUMANOS' + '.*'), ('MINISTERIO DOS DIREITOS HUMANOS'), regex=True)"
   ]
  },
  {
   "cell_type": "code",
   "execution_count": 16,
   "metadata": {
    "ExecuteTime": {
     "end_time": "2020-01-12T20:11:52.932015Z",
     "start_time": "2020-01-12T20:11:52.625455Z"
    }
   },
   "outputs": [
    {
     "name": "stderr",
     "output_type": "stream",
     "text": [
      "/Users/mattosoerick/anaconda3/lib/python3.6/site-packages/ipykernel_launcher.py:3: SettingWithCopyWarning: \n",
      "A value is trying to be set on a copy of a slice from a DataFrame.\n",
      "Try using .loc[row_indexer,col_indexer] = value instead\n",
      "\n",
      "See the caveats in the documentation: http://pandas.pydata.org/pandas-docs/stable/indexing.html#indexing-view-versus-copy\n",
      "  This is separate from the ipykernel package so we can avoid doing imports until\n",
      "/Users/mattosoerick/anaconda3/lib/python3.6/site-packages/ipykernel_launcher.py:5: SettingWithCopyWarning: \n",
      "A value is trying to be set on a copy of a slice from a DataFrame.\n",
      "Try using .loc[row_indexer,col_indexer] = value instead\n",
      "\n",
      "See the caveats in the documentation: http://pandas.pydata.org/pandas-docs/stable/indexing.html#indexing-view-versus-copy\n",
      "  \"\"\"\n",
      "/Users/mattosoerick/anaconda3/lib/python3.6/site-packages/ipykernel_launcher.py:7: SettingWithCopyWarning: \n",
      "A value is trying to be set on a copy of a slice from a DataFrame.\n",
      "Try using .loc[row_indexer,col_indexer] = value instead\n",
      "\n",
      "See the caveats in the documentation: http://pandas.pydata.org/pandas-docs/stable/indexing.html#indexing-view-versus-copy\n",
      "  import sys\n",
      "/Users/mattosoerick/anaconda3/lib/python3.6/site-packages/ipykernel_launcher.py:9: SettingWithCopyWarning: \n",
      "A value is trying to be set on a copy of a slice from a DataFrame.\n",
      "Try using .loc[row_indexer,col_indexer] = value instead\n",
      "\n",
      "See the caveats in the documentation: http://pandas.pydata.org/pandas-docs/stable/indexing.html#indexing-view-versus-copy\n",
      "  if __name__ == '__main__':\n",
      "/Users/mattosoerick/anaconda3/lib/python3.6/site-packages/ipykernel_launcher.py:11: SettingWithCopyWarning: \n",
      "A value is trying to be set on a copy of a slice from a DataFrame.\n",
      "Try using .loc[row_indexer,col_indexer] = value instead\n",
      "\n",
      "See the caveats in the documentation: http://pandas.pydata.org/pandas-docs/stable/indexing.html#indexing-view-versus-copy\n",
      "  # This is added back by InteractiveShellApp.init_path()\n"
     ]
    }
   ],
   "source": [
    "col = 'Cidade da residência'\n",
    "df_oficiais_no_governo[col] = df_oficiais_no_governo[col].str.replace(\n",
    "    ('.*BRAS.*A$'), ('BRASILIA'))\n",
    "df_oficiais_no_governo[col] = df_oficiais_no_governo[col].str.replace(\n",
    "    ('GRAVATAI - RS'), ('GRAVATAI'))\n",
    "df_oficiais_no_governo[col] = df_oficiais_no_governo[col].str.replace(\n",
    "    ('RJ$'), ('RIO DE JANEIRO'))\n",
    "df_oficiais_no_governo[col] = df_oficiais_no_governo[col].str.replace(\n",
    "    ('.*TAGUATING.*'), ('TAGUATINGUA'))\n",
    "df_oficiais_no_governo['endereço'] = (\n",
    "    df_oficiais_no_governo[col]+' - '+df_oficiais_no_governo['UF da Residência'])"
   ]
  },
  {
   "cell_type": "code",
   "execution_count": 17,
   "metadata": {
    "ExecuteTime": {
     "end_time": "2020-01-12T20:11:53.041183Z",
     "start_time": "2020-01-12T20:11:52.937721Z"
    }
   },
   "outputs": [
    {
     "name": "stderr",
     "output_type": "stream",
     "text": [
      "/Users/mattosoerick/anaconda3/lib/python3.6/site-packages/ipykernel_launcher.py:3: SettingWithCopyWarning: \n",
      "A value is trying to be set on a copy of a slice from a DataFrame.\n",
      "Try using .loc[row_indexer,col_indexer] = value instead\n",
      "\n",
      "See the caveats in the documentation: http://pandas.pydata.org/pandas-docs/stable/indexing.html#indexing-view-versus-copy\n",
      "  This is separate from the ipykernel package so we can avoid doing imports until\n"
     ]
    }
   ],
   "source": [
    "col = 'Data início DAS'\n",
    "df_oficiais_no_governo[col] = pd.to_datetime(\n",
    "    df_oficiais_no_governo[col], format=\"%Y%m%d\")\n",
    "df_oficiais_no_governo2 = df_oficiais_no_governo[(\n",
    "    df_oficiais_no_governo[col] > '2018-12-31') & (df_oficiais_no_governo[col] < '2021-01-01')]"
   ]
  },
  {
   "cell_type": "code",
   "execution_count": 18,
   "metadata": {
    "ExecuteTime": {
     "end_time": "2020-01-12T20:11:53.156540Z",
     "start_time": "2020-01-12T20:11:53.046861Z"
    }
   },
   "outputs": [
    {
     "name": "stderr",
     "output_type": "stream",
     "text": [
      "/Users/mattosoerick/anaconda3/lib/python3.6/site-packages/ipykernel_launcher.py:2: SettingWithCopyWarning: \n",
      "A value is trying to be set on a copy of a slice from a DataFrame.\n",
      "Try using .loc[row_indexer,col_indexer] = value instead\n",
      "\n",
      "See the caveats in the documentation: http://pandas.pydata.org/pandas-docs/stable/indexing.html#indexing-view-versus-copy\n",
      "  \n",
      "/Users/mattosoerick/anaconda3/lib/python3.6/site-packages/ipykernel_launcher.py:3: SettingWithCopyWarning: \n",
      "A value is trying to be set on a copy of a slice from a DataFrame.\n",
      "Try using .loc[row_indexer,col_indexer] = value instead\n",
      "\n",
      "See the caveats in the documentation: http://pandas.pydata.org/pandas-docs/stable/indexing.html#indexing-view-versus-copy\n",
      "  This is separate from the ipykernel package so we can avoid doing imports until\n"
     ]
    }
   ],
   "source": [
    "col = 'Valor da DAS'\n",
    "df_oficiais_no_governo[col] = df_oficiais_no_governo[col].str.replace((','),('.'))\n",
    "df_oficiais_no_governo[col] = df_oficiais_no_governo[col].astype(float)"
   ]
  },
  {
   "cell_type": "markdown",
   "metadata": {},
   "source": [
    "# fim"
   ]
  },
  {
   "cell_type": "code",
   "execution_count": 19,
   "metadata": {
    "ExecuteTime": {
     "end_time": "2020-01-12T20:11:53.211462Z",
     "start_time": "2020-01-12T20:11:53.167262Z"
    }
   },
   "outputs": [],
   "source": [
    "df_oficiais_no_governo = df_oficiais_no_governo.drop_duplicates()"
   ]
  },
  {
   "cell_type": "code",
   "execution_count": 20,
   "metadata": {
    "ExecuteTime": {
     "end_time": "2020-01-12T20:11:53.327058Z",
     "start_time": "2020-01-12T20:11:53.214251Z"
    }
   },
   "outputs": [
    {
     "data": {
      "text/html": [
       "<div>\n",
       "<style scoped>\n",
       "    .dataframe tbody tr th:only-of-type {\n",
       "        vertical-align: middle;\n",
       "    }\n",
       "\n",
       "    .dataframe tbody tr th {\n",
       "        vertical-align: top;\n",
       "    }\n",
       "\n",
       "    .dataframe thead th {\n",
       "        text-align: right;\n",
       "    }\n",
       "</style>\n",
       "<table border=\"1\" class=\"dataframe\">\n",
       "  <thead>\n",
       "    <tr style=\"text-align: right;\">\n",
       "      <th></th>\n",
       "      <th>Nome</th>\n",
       "      <th>CPF_x</th>\n",
       "      <th>ORG_EXERCICIO</th>\n",
       "      <th>ORG_LOTACAO</th>\n",
       "      <th>DESCRICAO_CARGO</th>\n",
       "      <th>Descrição do cargo emprego</th>\n",
       "      <th>Situação servidor</th>\n",
       "      <th>Denominação do órgão de atuação</th>\n",
       "      <th>UF da UPAG de vinculação</th>\n",
       "      <th>Denominação unidade organizacional</th>\n",
       "      <th>UF da Residência</th>\n",
       "      <th>Cidade da residência</th>\n",
       "      <th>Data início DAS</th>\n",
       "      <th>DL nomeação</th>\n",
       "      <th>Valor da DAS</th>\n",
       "      <th>unique_id</th>\n",
       "      <th>Id_SERVIDOR_PORTAL</th>\n",
       "      <th>MATRICULA</th>\n",
       "      <th>UF_EXERCICIO</th>\n",
       "      <th>file</th>\n",
       "      <th>endereço</th>\n",
       "      <th>presidente</th>\n",
       "    </tr>\n",
       "  </thead>\n",
       "  <tbody>\n",
       "    <tr>\n",
       "      <th>0</th>\n",
       "      <td>IVO BARBOSA LEITE</td>\n",
       "      <td>***035598**</td>\n",
       "      <td>Comando da Marinha</td>\n",
       "      <td>Comando da Marinha</td>\n",
       "      <td>Suboficial</td>\n",
       "      <td>NaN</td>\n",
       "      <td>NOMEADO CARGO COMIS.</td>\n",
       "      <td>MINIST.DA AGRICULTURA,PECUARIA E ABAST.</td>\n",
       "      <td>DF</td>\n",
       "      <td>COORD GERAL ADM DE PESSOAS</td>\n",
       "      <td>GO</td>\n",
       "      <td>AGUAS LINDAS DE GOIAS</td>\n",
       "      <td>2019-03-13</td>\n",
       "      <td>PORT 001166/2019, SE PUB: DO 13MAR2019</td>\n",
       "      <td>5685.55</td>\n",
       "      <td>IVO BARBOSA LEITE***035598**</td>\n",
       "      <td>213879</td>\n",
       "      <td>057****</td>\n",
       "      <td>-1</td>\n",
       "      <td>201505</td>\n",
       "      <td>AGUAS LINDAS DE GOIAS - GO</td>\n",
       "      <td>Jair Bolsonaro</td>\n",
       "    </tr>\n",
       "    <tr>\n",
       "      <th>1</th>\n",
       "      <td>IVO BARBOSA LEITE</td>\n",
       "      <td>***035598**</td>\n",
       "      <td>Comando da Marinha</td>\n",
       "      <td>Comando da Marinha</td>\n",
       "      <td>Suboficial</td>\n",
       "      <td>NaN</td>\n",
       "      <td>NOMEADO CARGO COMIS.</td>\n",
       "      <td>MINISTERIO DA JUSTIÇA</td>\n",
       "      <td>DF</td>\n",
       "      <td>MJ/SE/SAA/CGGP</td>\n",
       "      <td>GO</td>\n",
       "      <td>AGUAS LINDAS DE GOIAS</td>\n",
       "      <td>2019-01-03</td>\n",
       "      <td>PORT 000022/2019, SE PUB: DO 03JAN2019</td>\n",
       "      <td>10719.07</td>\n",
       "      <td>IVO BARBOSA LEITE***035598**</td>\n",
       "      <td>213879</td>\n",
       "      <td>057****</td>\n",
       "      <td>-1</td>\n",
       "      <td>201505</td>\n",
       "      <td>AGUAS LINDAS DE GOIAS - GO</td>\n",
       "      <td>Jair Bolsonaro</td>\n",
       "    </tr>\n",
       "    <tr>\n",
       "      <th>2</th>\n",
       "      <td>IVO BARBOSA LEITE</td>\n",
       "      <td>***035598**</td>\n",
       "      <td>Comando da Marinha</td>\n",
       "      <td>Comando da Marinha</td>\n",
       "      <td>Suboficial</td>\n",
       "      <td>NaN</td>\n",
       "      <td>NOMEADO CARGO COMIS.</td>\n",
       "      <td>MINISTERIO DA DEFESA</td>\n",
       "      <td>DF</td>\n",
       "      <td>GERENCIA DE GESTAO DE PESSOAS</td>\n",
       "      <td>DF</td>\n",
       "      <td>BRASILIA</td>\n",
       "      <td>2017-03-07</td>\n",
       "      <td>PORT 000782/2017, DEADI PUB: DO 07MAR2017</td>\n",
       "      <td>5440.72</td>\n",
       "      <td>IVO BARBOSA LEITE***035598**</td>\n",
       "      <td>213879</td>\n",
       "      <td>057****</td>\n",
       "      <td>-1</td>\n",
       "      <td>201505</td>\n",
       "      <td>BRASILIA - DF</td>\n",
       "      <td>Michel Temer</td>\n",
       "    </tr>\n",
       "    <tr>\n",
       "      <th>3</th>\n",
       "      <td>IVO BARBOSA LEITE</td>\n",
       "      <td>***035598**</td>\n",
       "      <td>Comando da Marinha</td>\n",
       "      <td>Comando da Marinha</td>\n",
       "      <td>Suboficial</td>\n",
       "      <td>NaN</td>\n",
       "      <td>NOMEADO CARGO COMIS.</td>\n",
       "      <td>MINISTERIO DA JUSTIÇA</td>\n",
       "      <td>DF</td>\n",
       "      <td>MJ/SE/SAA/CGGP</td>\n",
       "      <td>DF</td>\n",
       "      <td>BRASILIA</td>\n",
       "      <td>2018-05-22</td>\n",
       "      <td>PORTARIA Nº181/CASA CIVIL DOU 22MAI2018</td>\n",
       "      <td>9926.60</td>\n",
       "      <td>IVO BARBOSA LEITE***035598**</td>\n",
       "      <td>213879</td>\n",
       "      <td>057****</td>\n",
       "      <td>-1</td>\n",
       "      <td>201505</td>\n",
       "      <td>BRASILIA - DF</td>\n",
       "      <td>Michel Temer</td>\n",
       "    </tr>\n",
       "    <tr>\n",
       "      <th>4</th>\n",
       "      <td>IVO BARBOSA LEITE</td>\n",
       "      <td>***035598**</td>\n",
       "      <td>Comando da Marinha</td>\n",
       "      <td>Comando da Marinha</td>\n",
       "      <td>Suboficial</td>\n",
       "      <td>NaN</td>\n",
       "      <td>NOMEADO CARGO COMIS.</td>\n",
       "      <td>MINISTERIO DA DEFESA</td>\n",
       "      <td>DF</td>\n",
       "      <td>GERENCIA DE GESTAO DE PESSOAS</td>\n",
       "      <td>DF</td>\n",
       "      <td>BRASILIA</td>\n",
       "      <td>2017-03-07</td>\n",
       "      <td>PORT 000782/2017, DEADI PUB: DO 07MAR2017</td>\n",
       "      <td>5194.01</td>\n",
       "      <td>IVO BARBOSA LEITE***035598**</td>\n",
       "      <td>213879</td>\n",
       "      <td>057****</td>\n",
       "      <td>-1</td>\n",
       "      <td>201505</td>\n",
       "      <td>BRASILIA - DF</td>\n",
       "      <td>Michel Temer</td>\n",
       "    </tr>\n",
       "  </tbody>\n",
       "</table>\n",
       "</div>"
      ],
      "text/plain": [
       "                Nome        CPF_x       ORG_EXERCICIO         ORG_LOTACAO  \\\n",
       "0  IVO BARBOSA LEITE  ***035598**  Comando da Marinha  Comando da Marinha   \n",
       "1  IVO BARBOSA LEITE  ***035598**  Comando da Marinha  Comando da Marinha   \n",
       "2  IVO BARBOSA LEITE  ***035598**  Comando da Marinha  Comando da Marinha   \n",
       "3  IVO BARBOSA LEITE  ***035598**  Comando da Marinha  Comando da Marinha   \n",
       "4  IVO BARBOSA LEITE  ***035598**  Comando da Marinha  Comando da Marinha   \n",
       "\n",
       "  DESCRICAO_CARGO Descrição do cargo emprego     Situação servidor  \\\n",
       "0      Suboficial                        NaN  NOMEADO CARGO COMIS.   \n",
       "1      Suboficial                        NaN  NOMEADO CARGO COMIS.   \n",
       "2      Suboficial                        NaN  NOMEADO CARGO COMIS.   \n",
       "3      Suboficial                        NaN  NOMEADO CARGO COMIS.   \n",
       "4      Suboficial                        NaN  NOMEADO CARGO COMIS.   \n",
       "\n",
       "           Denominação do órgão de atuação UF da UPAG de vinculação  \\\n",
       "0  MINIST.DA AGRICULTURA,PECUARIA E ABAST.                       DF   \n",
       "1                    MINISTERIO DA JUSTIÇA                       DF   \n",
       "2                     MINISTERIO DA DEFESA                       DF   \n",
       "3                    MINISTERIO DA JUSTIÇA                       DF   \n",
       "4                     MINISTERIO DA DEFESA                       DF   \n",
       "\n",
       "  Denominação unidade organizacional UF da Residência   Cidade da residência  \\\n",
       "0         COORD GERAL ADM DE PESSOAS               GO  AGUAS LINDAS DE GOIAS   \n",
       "1                     MJ/SE/SAA/CGGP               GO  AGUAS LINDAS DE GOIAS   \n",
       "2      GERENCIA DE GESTAO DE PESSOAS               DF               BRASILIA   \n",
       "3                     MJ/SE/SAA/CGGP               DF               BRASILIA   \n",
       "4      GERENCIA DE GESTAO DE PESSOAS               DF               BRASILIA   \n",
       "\n",
       "  Data início DAS                                DL nomeação  Valor da DAS  \\\n",
       "0      2019-03-13     PORT 001166/2019, SE PUB: DO 13MAR2019       5685.55   \n",
       "1      2019-01-03     PORT 000022/2019, SE PUB: DO 03JAN2019      10719.07   \n",
       "2      2017-03-07  PORT 000782/2017, DEADI PUB: DO 07MAR2017       5440.72   \n",
       "3      2018-05-22    PORTARIA Nº181/CASA CIVIL DOU 22MAI2018       9926.60   \n",
       "4      2017-03-07  PORT 000782/2017, DEADI PUB: DO 07MAR2017       5194.01   \n",
       "\n",
       "                      unique_id  Id_SERVIDOR_PORTAL MATRICULA  UF_EXERCICIO  \\\n",
       "0  IVO BARBOSA LEITE***035598**              213879   057****            -1   \n",
       "1  IVO BARBOSA LEITE***035598**              213879   057****            -1   \n",
       "2  IVO BARBOSA LEITE***035598**              213879   057****            -1   \n",
       "3  IVO BARBOSA LEITE***035598**              213879   057****            -1   \n",
       "4  IVO BARBOSA LEITE***035598**              213879   057****            -1   \n",
       "\n",
       "     file                    endereço      presidente  \n",
       "0  201505  AGUAS LINDAS DE GOIAS - GO  Jair Bolsonaro  \n",
       "1  201505  AGUAS LINDAS DE GOIAS - GO  Jair Bolsonaro  \n",
       "2  201505               BRASILIA - DF    Michel Temer  \n",
       "3  201505               BRASILIA - DF    Michel Temer  \n",
       "4  201505               BRASILIA - DF    Michel Temer  "
      ]
     },
     "execution_count": 20,
     "metadata": {},
     "output_type": "execute_result"
    }
   ],
   "source": [
    "Dilma_Rousseff = (df_oficiais_no_governo['Data início DAS'] >=\n",
    "                  '2011-01-01') & (df_oficiais_no_governo['Data início DAS'] < '2016-08-31')\n",
    "Michel_Temer = (df_oficiais_no_governo['Data início DAS'] >=\n",
    "                '2016-08-01') & (df_oficiais_no_governo['Data início DAS'] < '2019-01-01')\n",
    "Jair_Bolsonaro = (df_oficiais_no_governo['Data início DAS'] >=\n",
    "                  '2019-01-01') & (df_oficiais_no_governo['Data início DAS'] < '2022-01-01')\n",
    "\n",
    "df_oficiais_no_governo.loc[Dilma_Rousseff, 'presidente'] = 'Dilma Rousseff'\n",
    "df_oficiais_no_governo.loc[Michel_Temer, 'presidente'] = 'Michel Temer'\n",
    "df_oficiais_no_governo.loc[Jair_Bolsonaro, 'presidente'] = 'Jair Bolsonaro'\n",
    "\n",
    "df_oficiais_no_governo.head()"
   ]
  },
  {
   "cell_type": "code",
   "execution_count": 21,
   "metadata": {
    "ExecuteTime": {
     "end_time": "2020-01-12T20:11:54.763866Z",
     "start_time": "2020-01-12T20:11:53.335917Z"
    }
   },
   "outputs": [
    {
     "name": "stderr",
     "output_type": "stream",
     "text": [
      "/Users/mattosoerick/anaconda3/lib/python3.6/site-packages/pandas/plotting/_converter.py:129: FutureWarning: Using an implicitly registered datetime converter for a matplotlib plotting method. The converter was registered by pandas on import. Future versions of pandas will require you to explicitly register matplotlib converters.\n",
      "\n",
      "To register the converters:\n",
      "\t>>> from pandas.plotting import register_matplotlib_converters\n",
      "\t>>> register_matplotlib_converters()\n",
      "  warnings.warn(msg, FutureWarning)\n"
     ]
    },
    {
     "name": "stdout",
     "output_type": "stream",
     "text": [
      "presidente\n",
      "Dilma Rousseff     136\n",
      "Jair Bolsonaro     873\n",
      "Michel Temer      1030\n",
      "Name: Nome, dtype: int64\n"
     ]
    },
    {
     "data": {
      "image/png": "[encoded data removed]",
      "text/plain": [
       "<Figure size 1080x288 with 1 Axes>"
      ]
     },
     "metadata": {},
     "output_type": "display_data"
    }
   ],
   "source": [
    "sns.set()\n",
    "plot_df = pd.DataFrame(\n",
    "    df_oficiais_no_governo.groupby(['Data início DAS',\n",
    "                   'presidente'])['unique_id'].count()).reset_index()\n",
    "plt.figure(figsize=(15, 4))\n",
    "sns.lineplot(x='Data início DAS',\n",
    "             y='Nome',\n",
    "             hue=\"presidente\",\n",
    "             markers=\"o\",\n",
    "             data=plot_df)\n",
    "print(df_oficiais_no_governo.groupby(['presidente'])['unique_id'].count())"
   ]
  },
  {
   "cell_type": "code",
   "execution_count": 22,
   "metadata": {
    "ExecuteTime": {
     "end_time": "2020-01-12T20:11:54.793567Z",
     "start_time": "2020-01-12T20:11:54.770841Z"
    }
   },
   "outputs": [],
   "source": [
    "Jair_Bolsonaro = (df_oficiais_no_governo['Data início DAS'] >= '2019-01-01') & (df_oficiais_no_governo['Data início DAS'] < '2022-01-01')\n",
    "df_oficiais_bolsonaro = df_oficiais_no_governo[Jair_Bolsonaro]"
   ]
  },
  {
   "cell_type": "code",
   "execution_count": 23,
   "metadata": {
    "ExecuteTime": {
     "end_time": "2020-01-12T20:16:41.250368Z",
     "start_time": "2020-01-12T20:11:54.799984Z"
    }
   },
   "outputs": [
    {
     "name": "stderr",
     "output_type": "stream",
     "text": [
      "/Users/mattosoerick/anaconda3/lib/python3.6/site-packages/ipykernel_launcher.py:3: SettingWithCopyWarning: \n",
      "A value is trying to be set on a copy of a slice from a DataFrame.\n",
      "Try using .loc[row_indexer,col_indexer] = value instead\n",
      "\n",
      "See the caveats in the documentation: http://pandas.pydata.org/pandas-docs/stable/indexing.html#indexing-view-versus-copy\n",
      "  This is separate from the ipykernel package so we can avoid doing imports until\n",
      "/Users/mattosoerick/anaconda3/lib/python3.6/site-packages/pandas/core/indexing.py:362: SettingWithCopyWarning: \n",
      "A value is trying to be set on a copy of a slice from a DataFrame.\n",
      "Try using .loc[row_indexer,col_indexer] = value instead\n",
      "\n",
      "See the caveats in the documentation: http://pandas.pydata.org/pandas-docs/stable/indexing.html#indexing-view-versus-copy\n",
      "  self.obj[key] = _infer_fill_value(value)\n",
      "/Users/mattosoerick/anaconda3/lib/python3.6/site-packages/pandas/core/indexing.py:543: SettingWithCopyWarning: \n",
      "A value is trying to be set on a copy of a slice from a DataFrame.\n",
      "Try using .loc[row_indexer,col_indexer] = value instead\n",
      "\n",
      "See the caveats in the documentation: http://pandas.pydata.org/pandas-docs/stable/indexing.html#indexing-view-versus-copy\n",
      "  self.obj[item] = s\n"
     ]
    }
   ],
   "source": [
    "from key_google import *\n",
    "\n",
    "df_oficiais_bolsonaro['endereço'] = (df_oficiais_bolsonaro['Cidade da residência']+' - '+df_oficiais_bolsonaro['UF da Residência'])\n",
    "\n",
    "for address in df_oficiais_bolsonaro['endereço']:   \n",
    "    gmaps = googlemaps.Client(key=key)\n",
    "    try:\n",
    "        geocode_result = gmaps.geocode(address)\n",
    "        lat = geocode_result[0]['geometry']['location']['lat']\n",
    "        lng = geocode_result[0]['geometry']['location']['lng']\n",
    "        \n",
    "        df_oficiais_bolsonaro.loc[df_oficiais_bolsonaro['endereço']==address,'lat'] = lat\n",
    "        df_oficiais_bolsonaro.loc[df_oficiais_bolsonaro['endereço']==address,'lng'] = lng\n",
    "    except:\n",
    "        pass"
   ]
  },
  {
   "cell_type": "code",
   "execution_count": 24,
   "metadata": {
    "ExecuteTime": {
     "end_time": "2020-01-12T20:16:41.260222Z",
     "start_time": "2020-01-12T20:16:41.253799Z"
    }
   },
   "outputs": [],
   "source": [
    "da"
   ]
  },
  {
   "cell_type": "code",
   "execution_count": 25,
   "metadata": {
    "ExecuteTime": {
     "end_time": "2020-01-12T20:16:41.371672Z",
     "start_time": "2020-01-12T20:16:41.267455Z"
    }
   },
   "outputs": [],
   "source": [
    "# Save to a compress format\n",
    "df_oficiais_bolsonaro.to_csv('data/df_cc.csv.gz', compression='gzip')"
   ]
  }
 ],
 "metadata": {
  "kernelspec": {
   "display_name": "Python 3",
   "language": "python",
   "name": "python3"
  },
  "language_info": {
   "codemirror_mode": {
    "name": "ipython",
    "version": 3
   },
   "file_extension": ".py",
   "mimetype": "text/x-python",
   "name": "python",
   "nbconvert_exporter": "python",
   "pygments_lexer": "ipython3",
   "version": "3.6.4"
  },
  "toc": {
   "base_numbering": 1,
   "nav_menu": {},
   "number_sections": true,
   "sideBar": true,
   "skip_h1_title": false,
   "title_cell": "Table of Contents",
   "title_sidebar": "Contents",
   "toc_cell": false,
   "toc_position": {},
   "toc_section_display": true,
   "toc_window_display": false
  },
  "varInspector": {
   "cols": {
    "lenName": 16,
    "lenType": 16,
    "lenVar": 40
   },
   "kernels_config": {
    "python": {
     "delete_cmd_postfix": "",
     "delete_cmd_prefix": "del ",
     "library": "var_list.py",
     "varRefreshCmd": "print(var_dic_list())"
    },
    "r": {
     "delete_cmd_postfix": ") ",
     "delete_cmd_prefix": "rm(",
     "library": "var_list.r",
     "varRefreshCmd": "cat(var_dic_list()) "
    }
   },
   "types_to_exclude": [
    "module",
    "function",
    "builtin_function_or_method",
    "instance",
    "_Feature"
   ],
   "window_display": false
  }
 },
 "nbformat": 4,
 "nbformat_minor": 2
}
