{
 "cells": [
  {
   "cell_type": "markdown",
   "metadata": {},
   "source": [
    "# Bibliotecas"
   ]
  },
  {
   "cell_type": "code",
   "execution_count": 1,
   "metadata": {
    "ExecuteTime": {
     "end_time": "2020-01-14T20:04:15.011530Z",
     "start_time": "2020-01-14T20:04:12.128026Z"
    }
   },
   "outputs": [],
   "source": [
    "%run libs.py"
   ]
  },
  {
   "cell_type": "markdown",
   "metadata": {},
   "source": [
    "# Ingest Data"
   ]
  },
  {
   "cell_type": "markdown",
   "metadata": {},
   "source": [
    "## cargo das"
   ]
  },
  {
   "cell_type": "code",
   "execution_count": 2,
   "metadata": {
    "ExecuteTime": {
     "end_time": "2020-01-14T20:04:17.433285Z",
     "start_time": "2020-01-14T20:04:15.014427Z"
    }
   },
   "outputs": [
    {
     "data": {
      "text/plain": [
       "(371789, 15)"
      ]
     },
     "execution_count": 2,
     "metadata": {},
     "output_type": "execute_result"
    }
   ],
   "source": [
    "df_DAS = pd.read_csv('data/cargodas.csv.gz', compression='gzip')\n",
    "df_DAS.shape"
   ]
  },
  {
   "cell_type": "code",
   "execution_count": 3,
   "metadata": {
    "ExecuteTime": {
     "end_time": "2020-01-14T20:04:17.795792Z",
     "start_time": "2020-01-14T20:04:17.436875Z"
    }
   },
   "outputs": [
    {
     "name": "stdout",
     "output_type": "stream",
     "text": [
      "<class 'pandas.core.frame.DataFrame'>\n",
      "RangeIndex: 371789 entries, 0 to 371788\n",
      "Data columns (total 15 columns):\n",
      "Unnamed: 0                            371789 non-null int64\n",
      "Nome                                  371789 non-null object\n",
      "CPF                                   371789 non-null object\n",
      "Descrição do cargo emprego            141638 non-null object\n",
      "Nível de Escolaridade                 371788 non-null object\n",
      "Situação servidor                     371789 non-null object\n",
      "Denominação do órgão de atuação       371789 non-null object\n",
      "UF da UPAG de vinculação              371789 non-null object\n",
      "Denominação unidade organizacional    371789 non-null object\n",
      "UF da Residência                      371761 non-null object\n",
      "Cidade da residência                  371789 non-null object\n",
      "Data início DAS                       371789 non-null int64\n",
      "DL nomeação                           365888 non-null object\n",
      "Valor da DAS                          371789 non-null object\n",
      "Unnamed: 14                           0 non-null float64\n",
      "dtypes: float64(1), int64(2), object(12)\n",
      "memory usage: 42.5+ MB\n"
     ]
    }
   ],
   "source": [
    "df_DAS.info()"
   ]
  },
  {
   "cell_type": "code",
   "execution_count": 4,
   "metadata": {
    "ExecuteTime": {
     "end_time": "2020-01-14T20:04:17.851227Z",
     "start_time": "2020-01-14T20:04:17.799726Z"
    }
   },
   "outputs": [
    {
     "data": {
      "text/html": [
       "<div>\n",
       "<style scoped>\n",
       "    .dataframe tbody tr th:only-of-type {\n",
       "        vertical-align: middle;\n",
       "    }\n",
       "\n",
       "    .dataframe tbody tr th {\n",
       "        vertical-align: top;\n",
       "    }\n",
       "\n",
       "    .dataframe thead th {\n",
       "        text-align: right;\n",
       "    }\n",
       "</style>\n",
       "<table border=\"1\" class=\"dataframe\">\n",
       "  <thead>\n",
       "    <tr style=\"text-align: right;\">\n",
       "      <th></th>\n",
       "      <th>Unnamed: 0</th>\n",
       "      <th>Nome</th>\n",
       "      <th>CPF</th>\n",
       "      <th>Descrição do cargo emprego</th>\n",
       "      <th>Nível de Escolaridade</th>\n",
       "      <th>Situação servidor</th>\n",
       "      <th>Denominação do órgão de atuação</th>\n",
       "      <th>UF da UPAG de vinculação</th>\n",
       "      <th>Denominação unidade organizacional</th>\n",
       "      <th>UF da Residência</th>\n",
       "      <th>Cidade da residência</th>\n",
       "      <th>Data início DAS</th>\n",
       "      <th>DL nomeação</th>\n",
       "      <th>Valor da DAS</th>\n",
       "      <th>Unnamed: 14</th>\n",
       "    </tr>\n",
       "  </thead>\n",
       "  <tbody>\n",
       "    <tr>\n",
       "      <th>265099</th>\n",
       "      <td>4456</td>\n",
       "      <td>EDUARDO PELOSI SILVA DA CRUZ</td>\n",
       "      <td>***589807**</td>\n",
       "      <td>ASSISTENTE EM CIENCIA E TECNOLOGIA</td>\n",
       "      <td>ENSINO SUPERIOR</td>\n",
       "      <td>ATIVO PERMANENTE</td>\n",
       "      <td>MINISTERIO DA SAUDE</td>\n",
       "      <td>RJ</td>\n",
       "      <td>INSTITUTO NACIONAL DO CANCER (UPAG)</td>\n",
       "      <td>RJ</td>\n",
       "      <td>RIO DE JANEIRO</td>\n",
       "      <td>20170216</td>\n",
       "      <td>PORT 002130/2011, UPAG/INCA PUB: DO 08SET2011</td>\n",
       "      <td>1620,88</td>\n",
       "      <td>NaN</td>\n",
       "    </tr>\n",
       "  </tbody>\n",
       "</table>\n",
       "</div>"
      ],
      "text/plain": [
       "        Unnamed: 0                          Nome          CPF  \\\n",
       "265099        4456  EDUARDO PELOSI SILVA DA CRUZ  ***589807**   \n",
       "\n",
       "                Descrição do cargo emprego Nível de Escolaridade  \\\n",
       "265099  ASSISTENTE EM CIENCIA E TECNOLOGIA       ENSINO SUPERIOR   \n",
       "\n",
       "       Situação servidor Denominação do órgão de atuação  \\\n",
       "265099  ATIVO PERMANENTE             MINISTERIO DA SAUDE   \n",
       "\n",
       "       UF da UPAG de vinculação   Denominação unidade organizacional  \\\n",
       "265099                       RJ  INSTITUTO NACIONAL DO CANCER (UPAG)   \n",
       "\n",
       "       UF da Residência Cidade da residência  Data início DAS  \\\n",
       "265099               RJ       RIO DE JANEIRO         20170216   \n",
       "\n",
       "                                          DL nomeação Valor da DAS  \\\n",
       "265099  PORT 002130/2011, UPAG/INCA PUB: DO 08SET2011      1620,88   \n",
       "\n",
       "        Unnamed: 14  \n",
       "265099          NaN  "
      ]
     },
     "execution_count": 4,
     "metadata": {},
     "output_type": "execute_result"
    }
   ],
   "source": [
    "df_DAS.sample()"
   ]
  },
  {
   "cell_type": "markdown",
   "metadata": {},
   "source": [
    "## df militares"
   ]
  },
  {
   "cell_type": "code",
   "execution_count": 5,
   "metadata": {
    "ExecuteTime": {
     "end_time": "2020-01-14T20:04:22.685513Z",
     "start_time": "2020-01-14T20:04:17.855219Z"
    }
   },
   "outputs": [
    {
     "name": "stderr",
     "output_type": "stream",
     "text": [
      "/Users/mattosoerick/anaconda3/lib/python3.6/site-packages/IPython/core/interactiveshell.py:2728: DtypeWarning: Columns (30) have mixed types. Specify dtype option on import or set low_memory=False.\n",
      "  interactivity=interactivity, compiler=compiler, result=result)\n"
     ]
    },
    {
     "data": {
      "text/plain": [
       "(376678, 44)"
      ]
     },
     "execution_count": 5,
     "metadata": {},
     "output_type": "execute_result"
    }
   ],
   "source": [
    "df_militares = pd.read_csv('data/df_militares.csv.gz',compression='gzip')\n",
    "df_militares.shape"
   ]
  },
  {
   "cell_type": "code",
   "execution_count": 6,
   "metadata": {
    "ExecuteTime": {
     "end_time": "2020-01-14T20:04:22.773361Z",
     "start_time": "2020-01-14T20:04:22.699899Z"
    }
   },
   "outputs": [
    {
     "data": {
      "text/html": [
       "<div>\n",
       "<style scoped>\n",
       "    .dataframe tbody tr th:only-of-type {\n",
       "        vertical-align: middle;\n",
       "    }\n",
       "\n",
       "    .dataframe tbody tr th {\n",
       "        vertical-align: top;\n",
       "    }\n",
       "\n",
       "    .dataframe thead th {\n",
       "        text-align: right;\n",
       "    }\n",
       "</style>\n",
       "<table border=\"1\" class=\"dataframe\">\n",
       "  <thead>\n",
       "    <tr style=\"text-align: right;\">\n",
       "      <th></th>\n",
       "      <th>Unnamed: 0</th>\n",
       "      <th>Id_SERVIDOR_PORTAL</th>\n",
       "      <th>NOME</th>\n",
       "      <th>CPF</th>\n",
       "      <th>MATRICULA</th>\n",
       "      <th>DESCRICAO_CARGO</th>\n",
       "      <th>CLASSE_CARGO</th>\n",
       "      <th>REFERENCIA_CARGO</th>\n",
       "      <th>PADRAO_CARGO</th>\n",
       "      <th>NIVEL_CARGO</th>\n",
       "      <th>SIGLA_FUNCAO</th>\n",
       "      <th>NIVEL_FUNCAO</th>\n",
       "      <th>FUNCAO</th>\n",
       "      <th>CODIGO_ATIVIDADE</th>\n",
       "      <th>ATIVIDADE</th>\n",
       "      <th>OPCAO_PARCIAL</th>\n",
       "      <th>COD_UORG_LOTACAO</th>\n",
       "      <th>UORG_LOTACAO</th>\n",
       "      <th>COD_ORG_LOTACAO</th>\n",
       "      <th>ORG_LOTACAO</th>\n",
       "      <th>COD_ORGSUP_LOTACAO</th>\n",
       "      <th>ORGSUP_LOTACAO</th>\n",
       "      <th>COD_UORG_EXERCICIO</th>\n",
       "      <th>UORG_EXERCICIO</th>\n",
       "      <th>COD_ORG_EXERCICIO</th>\n",
       "      <th>ORG_EXERCICIO</th>\n",
       "      <th>COD_ORGSUP_EXERCICIO</th>\n",
       "      <th>ORGSUP_EXERCICIO</th>\n",
       "      <th>TIPO_VINCULO</th>\n",
       "      <th>SITUACAO_VINCULO</th>\n",
       "      <th>DATA_INICIO_AFASTAMENTO</th>\n",
       "      <th>DATA_TERMINO_AFASTAMENTO</th>\n",
       "      <th>REGIME_JURIDICO</th>\n",
       "      <th>JORNADA_DE_TRABALHO</th>\n",
       "      <th>DATA_INGRESSO_CARGOFUNCAO</th>\n",
       "      <th>DATA_NOMEACAO_CARGOFUNCAO</th>\n",
       "      <th>DATA_INGRESSO_ORGAO</th>\n",
       "      <th>DOCUMENTO_INGRESSO_SERVICOPUBLICO</th>\n",
       "      <th>DATA_DIPLOMA_INGRESSO_SERVICOPUBLICO</th>\n",
       "      <th>DIPLOMA_INGRESSO_CARGOFUNCAO</th>\n",
       "      <th>DIPLOMA_INGRESSO_ORGAO</th>\n",
       "      <th>DIPLOMA_INGRESSO_SERVICOPUBLICO</th>\n",
       "      <th>UF_EXERCICIO</th>\n",
       "      <th>file</th>\n",
       "    </tr>\n",
       "  </thead>\n",
       "  <tbody>\n",
       "    <tr>\n",
       "      <th>96539</th>\n",
       "      <td>96539</td>\n",
       "      <td>2211750</td>\n",
       "      <td>EDUARDO HENRIQUE DA SILVA</td>\n",
       "      <td>***.535.784-**</td>\n",
       "      <td>045****</td>\n",
       "      <td>Soldado</td>\n",
       "      <td>0</td>\n",
       "      <td>0</td>\n",
       "      <td>0</td>\n",
       "      <td>0</td>\n",
       "      <td>-1</td>\n",
       "      <td>-1</td>\n",
       "      <td>Sem informação</td>\n",
       "      <td>-1</td>\n",
       "      <td>Sem informação</td>\n",
       "      <td>NaN</td>\n",
       "      <td>-1</td>\n",
       "      <td>Sem informação</td>\n",
       "      <td>16000</td>\n",
       "      <td>Comando do Exército</td>\n",
       "      <td>40105</td>\n",
       "      <td>Ministério da Defesa</td>\n",
       "      <td>-1</td>\n",
       "      <td>Sem informação</td>\n",
       "      <td>16000</td>\n",
       "      <td>Comando do Exército</td>\n",
       "      <td>40105</td>\n",
       "      <td>Ministério da Defesa</td>\n",
       "      <td>2</td>\n",
       "      <td>MILITAR DA ATIVA</td>\n",
       "      <td>NaN</td>\n",
       "      <td>NaN</td>\n",
       "      <td>ESTATUTO DOS MILITARES</td>\n",
       "      <td>DSPN. PERMANENTE</td>\n",
       "      <td>NaN</td>\n",
       "      <td>NaN</td>\n",
       "      <td>NaN</td>\n",
       "      <td>001</td>\n",
       "      <td>NaN</td>\n",
       "      <td>NaN</td>\n",
       "      <td>Sem informação</td>\n",
       "      <td>OUTROS</td>\n",
       "      <td>-1</td>\n",
       "      <td>201505</td>\n",
       "    </tr>\n",
       "  </tbody>\n",
       "</table>\n",
       "</div>"
      ],
      "text/plain": [
       "       Unnamed: 0  Id_SERVIDOR_PORTAL                       NOME  \\\n",
       "96539       96539             2211750  EDUARDO HENRIQUE DA SILVA   \n",
       "\n",
       "                  CPF MATRICULA DESCRICAO_CARGO  CLASSE_CARGO  \\\n",
       "96539  ***.535.784-**   045****         Soldado             0   \n",
       "\n",
       "       REFERENCIA_CARGO  PADRAO_CARGO  NIVEL_CARGO  SIGLA_FUNCAO  \\\n",
       "96539                 0             0            0            -1   \n",
       "\n",
       "       NIVEL_FUNCAO          FUNCAO  CODIGO_ATIVIDADE       ATIVIDADE  \\\n",
       "96539            -1  Sem informação                -1  Sem informação   \n",
       "\n",
       "       OPCAO_PARCIAL  COD_UORG_LOTACAO    UORG_LOTACAO  COD_ORG_LOTACAO  \\\n",
       "96539            NaN                -1  Sem informação            16000   \n",
       "\n",
       "               ORG_LOTACAO  COD_ORGSUP_LOTACAO        ORGSUP_LOTACAO  \\\n",
       "96539  Comando do Exército               40105  Ministério da Defesa   \n",
       "\n",
       "       COD_UORG_EXERCICIO  UORG_EXERCICIO  COD_ORG_EXERCICIO  \\\n",
       "96539                  -1  Sem informação              16000   \n",
       "\n",
       "             ORG_EXERCICIO  COD_ORGSUP_EXERCICIO      ORGSUP_EXERCICIO  \\\n",
       "96539  Comando do Exército                 40105  Ministério da Defesa   \n",
       "\n",
       "       TIPO_VINCULO  SITUACAO_VINCULO DATA_INICIO_AFASTAMENTO  \\\n",
       "96539             2  MILITAR DA ATIVA                     NaN   \n",
       "\n",
       "       DATA_TERMINO_AFASTAMENTO         REGIME_JURIDICO JORNADA_DE_TRABALHO  \\\n",
       "96539                       NaN  ESTATUTO DOS MILITARES    DSPN. PERMANENTE   \n",
       "\n",
       "       DATA_INGRESSO_CARGOFUNCAO  DATA_NOMEACAO_CARGOFUNCAO  \\\n",
       "96539                        NaN                        NaN   \n",
       "\n",
       "       DATA_INGRESSO_ORGAO DOCUMENTO_INGRESSO_SERVICOPUBLICO  \\\n",
       "96539                  NaN                               001   \n",
       "\n",
       "       DATA_DIPLOMA_INGRESSO_SERVICOPUBLICO  DIPLOMA_INGRESSO_CARGOFUNCAO  \\\n",
       "96539                                   NaN                           NaN   \n",
       "\n",
       "      DIPLOMA_INGRESSO_ORGAO DIPLOMA_INGRESSO_SERVICOPUBLICO  UF_EXERCICIO  \\\n",
       "96539         Sem informação                          OUTROS            -1   \n",
       "\n",
       "         file  \n",
       "96539  201505  "
      ]
     },
     "execution_count": 6,
     "metadata": {},
     "output_type": "execute_result"
    }
   ],
   "source": [
    "df_militares.sample()"
   ]
  },
  {
   "cell_type": "code",
   "execution_count": 7,
   "metadata": {
    "ExecuteTime": {
     "end_time": "2020-01-14T20:04:22.787726Z",
     "start_time": "2020-01-14T20:04:22.777935Z"
    },
    "scrolled": false
   },
   "outputs": [],
   "source": [
    "# df_militares['unique_id'] = df_militares['NOME'] + \\\n",
    "#     df_militares['CPF'].str.replace('[.-]', '', regex=True)\n",
    "# teste = df_militares[df_militares['unique_id'].str.contains(\n",
    "#     'RAFAEL MENDES DOS ANJOS|ALVARO DIAS DA SILVA OLIVEIRA|FRANCISCO DE PAULA SANTANA|DALIANE DEBORAH NEGREIROS DA SILVA|FABIO DINIZ DOS SANTOS|ANDERSON AUGUSTO QUEIROZ DE ANDRADE|RODRIGO LEANDRO GOMES DA SILVA|ALEXSANDRO DANIEL DA SILVA BENTO|FRANCISCO ELMO VITOR DA SILVA|DANIELE ADRIANA GOULART LOPES|ISRAEL PIO DA CRUZ FILHO|LUIS VENANCIO COUTINHO CONCEICAO|JORGE ALAN DUTRA MORAES|VICTOR NORONHA SOARES|LUCAS CASTRO FERNANDES|RAFAEL MACHADO EUSTAQUIO|LUCAS DA SILVA VIDAL|VICTOR HUGO GOMES DE SOUZA|LEVI DA COSTA SOARES|WALDIR GONCALVES FREITAS NETO|MARCUS VINICIUS SANTANA DA SILVA'\n",
    "# )]\n",
    "# pd.DataFrame(teste.groupby(['NOME', 'DESCRICAO_CARGO',\"ORG_EXERCICIO\"])['CPF'].count())"
   ]
  },
  {
   "cell_type": "code",
   "execution_count": 8,
   "metadata": {
    "ExecuteTime": {
     "end_time": "2020-01-14T20:04:22.803605Z",
     "start_time": "2020-01-14T20:04:22.792316Z"
    }
   },
   "outputs": [],
   "source": [
    "# df_militares['unique_id'].value_counts()\n",
    "# pd.DataFrame(teste.groupby(['NOME', 'DESCRICAO_CARGO',\"ORG_EXERCICIO\"])['CPF'].count())"
   ]
  },
  {
   "cell_type": "code",
   "execution_count": 9,
   "metadata": {
    "ExecuteTime": {
     "end_time": "2020-01-14T20:04:23.614489Z",
     "start_time": "2020-01-14T20:04:22.808160Z"
    }
   },
   "outputs": [
    {
     "name": "stdout",
     "output_type": "stream",
     "text": [
      "<class 'pandas.core.frame.DataFrame'>\n",
      "RangeIndex: 376678 entries, 0 to 376677\n",
      "Data columns (total 44 columns):\n",
      "Unnamed: 0                              376678 non-null int64\n",
      "Id_SERVIDOR_PORTAL                      376678 non-null int64\n",
      "NOME                                    376678 non-null object\n",
      "CPF                                     376678 non-null object\n",
      "MATRICULA                               376678 non-null object\n",
      "DESCRICAO_CARGO                         376678 non-null object\n",
      "CLASSE_CARGO                            376678 non-null int64\n",
      "REFERENCIA_CARGO                        376678 non-null int64\n",
      "PADRAO_CARGO                            376678 non-null int64\n",
      "NIVEL_CARGO                             376678 non-null int64\n",
      "SIGLA_FUNCAO                            376678 non-null int64\n",
      "NIVEL_FUNCAO                            376678 non-null int64\n",
      "FUNCAO                                  376678 non-null object\n",
      "CODIGO_ATIVIDADE                        376678 non-null int64\n",
      "ATIVIDADE                               376678 non-null object\n",
      "OPCAO_PARCIAL                           0 non-null float64\n",
      "COD_UORG_LOTACAO                        376678 non-null int64\n",
      "UORG_LOTACAO                            376678 non-null object\n",
      "COD_ORG_LOTACAO                         376678 non-null int64\n",
      "ORG_LOTACAO                             376678 non-null object\n",
      "COD_ORGSUP_LOTACAO                      376678 non-null int64\n",
      "ORGSUP_LOTACAO                          376678 non-null object\n",
      "COD_UORG_EXERCICIO                      376678 non-null int64\n",
      "UORG_EXERCICIO                          376678 non-null object\n",
      "COD_ORG_EXERCICIO                       376678 non-null int64\n",
      "ORG_EXERCICIO                           376678 non-null object\n",
      "COD_ORGSUP_EXERCICIO                    376678 non-null int64\n",
      "ORGSUP_EXERCICIO                        376678 non-null object\n",
      "TIPO_VINCULO                            376678 non-null int64\n",
      "SITUACAO_VINCULO                        376678 non-null object\n",
      "DATA_INICIO_AFASTAMENTO                 41 non-null object\n",
      "DATA_TERMINO_AFASTAMENTO                0 non-null float64\n",
      "REGIME_JURIDICO                         376678 non-null object\n",
      "JORNADA_DE_TRABALHO                     376678 non-null object\n",
      "DATA_INGRESSO_CARGOFUNCAO               0 non-null float64\n",
      "DATA_NOMEACAO_CARGOFUNCAO               0 non-null float64\n",
      "DATA_INGRESSO_ORGAO                     0 non-null float64\n",
      "DOCUMENTO_INGRESSO_SERVICOPUBLICO       318976 non-null object\n",
      "DATA_DIPLOMA_INGRESSO_SERVICOPUBLICO    0 non-null float64\n",
      "DIPLOMA_INGRESSO_CARGOFUNCAO            0 non-null float64\n",
      "DIPLOMA_INGRESSO_ORGAO                  376678 non-null object\n",
      "DIPLOMA_INGRESSO_SERVICOPUBLICO         376678 non-null object\n",
      "UF_EXERCICIO                            376678 non-null int64\n",
      "file                                    376678 non-null int64\n",
      "dtypes: float64(7), int64(18), object(19)\n",
      "memory usage: 126.4+ MB\n"
     ]
    }
   ],
   "source": [
    "df_militares.info()"
   ]
  },
  {
   "cell_type": "code",
   "execution_count": 10,
   "metadata": {
    "ExecuteTime": {
     "end_time": "2020-01-14T20:04:23.680034Z",
     "start_time": "2020-01-14T20:04:23.618532Z"
    }
   },
   "outputs": [
    {
     "data": {
      "text/html": [
       "<div>\n",
       "<style scoped>\n",
       "    .dataframe tbody tr th:only-of-type {\n",
       "        vertical-align: middle;\n",
       "    }\n",
       "\n",
       "    .dataframe tbody tr th {\n",
       "        vertical-align: top;\n",
       "    }\n",
       "\n",
       "    .dataframe thead th {\n",
       "        text-align: right;\n",
       "    }\n",
       "</style>\n",
       "<table border=\"1\" class=\"dataframe\">\n",
       "  <thead>\n",
       "    <tr style=\"text-align: right;\">\n",
       "      <th></th>\n",
       "      <th>Unnamed: 0</th>\n",
       "      <th>Id_SERVIDOR_PORTAL</th>\n",
       "      <th>NOME</th>\n",
       "      <th>CPF</th>\n",
       "      <th>MATRICULA</th>\n",
       "      <th>DESCRICAO_CARGO</th>\n",
       "      <th>CLASSE_CARGO</th>\n",
       "      <th>REFERENCIA_CARGO</th>\n",
       "      <th>PADRAO_CARGO</th>\n",
       "      <th>NIVEL_CARGO</th>\n",
       "      <th>SIGLA_FUNCAO</th>\n",
       "      <th>NIVEL_FUNCAO</th>\n",
       "      <th>FUNCAO</th>\n",
       "      <th>CODIGO_ATIVIDADE</th>\n",
       "      <th>ATIVIDADE</th>\n",
       "      <th>OPCAO_PARCIAL</th>\n",
       "      <th>COD_UORG_LOTACAO</th>\n",
       "      <th>UORG_LOTACAO</th>\n",
       "      <th>COD_ORG_LOTACAO</th>\n",
       "      <th>ORG_LOTACAO</th>\n",
       "      <th>COD_ORGSUP_LOTACAO</th>\n",
       "      <th>ORGSUP_LOTACAO</th>\n",
       "      <th>COD_UORG_EXERCICIO</th>\n",
       "      <th>UORG_EXERCICIO</th>\n",
       "      <th>COD_ORG_EXERCICIO</th>\n",
       "      <th>ORG_EXERCICIO</th>\n",
       "      <th>COD_ORGSUP_EXERCICIO</th>\n",
       "      <th>ORGSUP_EXERCICIO</th>\n",
       "      <th>TIPO_VINCULO</th>\n",
       "      <th>SITUACAO_VINCULO</th>\n",
       "      <th>DATA_INICIO_AFASTAMENTO</th>\n",
       "      <th>DATA_TERMINO_AFASTAMENTO</th>\n",
       "      <th>REGIME_JURIDICO</th>\n",
       "      <th>JORNADA_DE_TRABALHO</th>\n",
       "      <th>DATA_INGRESSO_CARGOFUNCAO</th>\n",
       "      <th>DATA_NOMEACAO_CARGOFUNCAO</th>\n",
       "      <th>DATA_INGRESSO_ORGAO</th>\n",
       "      <th>DOCUMENTO_INGRESSO_SERVICOPUBLICO</th>\n",
       "      <th>DATA_DIPLOMA_INGRESSO_SERVICOPUBLICO</th>\n",
       "      <th>DIPLOMA_INGRESSO_CARGOFUNCAO</th>\n",
       "      <th>DIPLOMA_INGRESSO_ORGAO</th>\n",
       "      <th>DIPLOMA_INGRESSO_SERVICOPUBLICO</th>\n",
       "      <th>UF_EXERCICIO</th>\n",
       "      <th>file</th>\n",
       "    </tr>\n",
       "  </thead>\n",
       "  <tbody>\n",
       "    <tr>\n",
       "      <th>65971</th>\n",
       "      <td>65971</td>\n",
       "      <td>2402715</td>\n",
       "      <td>CLEVERSON PAIXAO</td>\n",
       "      <td>***.909.529-**</td>\n",
       "      <td>052****</td>\n",
       "      <td>Soldado</td>\n",
       "      <td>0</td>\n",
       "      <td>0</td>\n",
       "      <td>0</td>\n",
       "      <td>0</td>\n",
       "      <td>-1</td>\n",
       "      <td>-1</td>\n",
       "      <td>Sem informação</td>\n",
       "      <td>-1</td>\n",
       "      <td>Sem informação</td>\n",
       "      <td>NaN</td>\n",
       "      <td>-1</td>\n",
       "      <td>Sem informação</td>\n",
       "      <td>16000</td>\n",
       "      <td>Comando do Exército</td>\n",
       "      <td>40105</td>\n",
       "      <td>Ministério da Defesa</td>\n",
       "      <td>-1</td>\n",
       "      <td>Sem informação</td>\n",
       "      <td>16000</td>\n",
       "      <td>Comando do Exército</td>\n",
       "      <td>40105</td>\n",
       "      <td>Ministério da Defesa</td>\n",
       "      <td>2</td>\n",
       "      <td>MILITAR DA ATIVA</td>\n",
       "      <td>NaN</td>\n",
       "      <td>NaN</td>\n",
       "      <td>ESTATUTO DOS MILITARES</td>\n",
       "      <td>DSPN. PERMANENTE</td>\n",
       "      <td>NaN</td>\n",
       "      <td>NaN</td>\n",
       "      <td>NaN</td>\n",
       "      <td>2</td>\n",
       "      <td>NaN</td>\n",
       "      <td>NaN</td>\n",
       "      <td>Sem informação</td>\n",
       "      <td>OUTROS</td>\n",
       "      <td>-1</td>\n",
       "      <td>201505</td>\n",
       "    </tr>\n",
       "  </tbody>\n",
       "</table>\n",
       "</div>"
      ],
      "text/plain": [
       "       Unnamed: 0  Id_SERVIDOR_PORTAL              NOME             CPF  \\\n",
       "65971       65971             2402715  CLEVERSON PAIXAO  ***.909.529-**   \n",
       "\n",
       "      MATRICULA DESCRICAO_CARGO  CLASSE_CARGO  REFERENCIA_CARGO  PADRAO_CARGO  \\\n",
       "65971   052****         Soldado             0                 0             0   \n",
       "\n",
       "       NIVEL_CARGO  SIGLA_FUNCAO  NIVEL_FUNCAO          FUNCAO  \\\n",
       "65971            0            -1            -1  Sem informação   \n",
       "\n",
       "       CODIGO_ATIVIDADE       ATIVIDADE  OPCAO_PARCIAL  COD_UORG_LOTACAO  \\\n",
       "65971                -1  Sem informação            NaN                -1   \n",
       "\n",
       "         UORG_LOTACAO  COD_ORG_LOTACAO          ORG_LOTACAO  \\\n",
       "65971  Sem informação            16000  Comando do Exército   \n",
       "\n",
       "       COD_ORGSUP_LOTACAO        ORGSUP_LOTACAO  COD_UORG_EXERCICIO  \\\n",
       "65971               40105  Ministério da Defesa                  -1   \n",
       "\n",
       "       UORG_EXERCICIO  COD_ORG_EXERCICIO        ORG_EXERCICIO  \\\n",
       "65971  Sem informação              16000  Comando do Exército   \n",
       "\n",
       "       COD_ORGSUP_EXERCICIO      ORGSUP_EXERCICIO  TIPO_VINCULO  \\\n",
       "65971                 40105  Ministério da Defesa             2   \n",
       "\n",
       "       SITUACAO_VINCULO DATA_INICIO_AFASTAMENTO  DATA_TERMINO_AFASTAMENTO  \\\n",
       "65971  MILITAR DA ATIVA                     NaN                       NaN   \n",
       "\n",
       "              REGIME_JURIDICO JORNADA_DE_TRABALHO  DATA_INGRESSO_CARGOFUNCAO  \\\n",
       "65971  ESTATUTO DOS MILITARES    DSPN. PERMANENTE                        NaN   \n",
       "\n",
       "       DATA_NOMEACAO_CARGOFUNCAO  DATA_INGRESSO_ORGAO  \\\n",
       "65971                        NaN                  NaN   \n",
       "\n",
       "      DOCUMENTO_INGRESSO_SERVICOPUBLICO  DATA_DIPLOMA_INGRESSO_SERVICOPUBLICO  \\\n",
       "65971                                 2                                   NaN   \n",
       "\n",
       "       DIPLOMA_INGRESSO_CARGOFUNCAO DIPLOMA_INGRESSO_ORGAO  \\\n",
       "65971                           NaN         Sem informação   \n",
       "\n",
       "      DIPLOMA_INGRESSO_SERVICOPUBLICO  UF_EXERCICIO    file  \n",
       "65971                          OUTROS            -1  201505  "
      ]
     },
     "execution_count": 10,
     "metadata": {},
     "output_type": "execute_result"
    }
   ],
   "source": [
    "df_militares.sample()"
   ]
  },
  {
   "cell_type": "markdown",
   "metadata": {},
   "source": [
    "# Merge"
   ]
  },
  {
   "cell_type": "code",
   "execution_count": 11,
   "metadata": {
    "ExecuteTime": {
     "end_time": "2020-01-14T20:04:23.727155Z",
     "start_time": "2020-01-14T20:04:23.714636Z"
    }
   },
   "outputs": [
    {
     "name": "stdout",
     "output_type": "stream",
     "text": [
      "df_militares (376678, 44)\n",
      "df_DAS (371789, 15)\n"
     ]
    }
   ],
   "source": [
    "print('df_militares', df_militares.shape)\n",
    "print('df_DAS', df_DAS.shape)"
   ]
  },
  {
   "cell_type": "code",
   "execution_count": 12,
   "metadata": {
    "ExecuteTime": {
     "end_time": "2020-01-14T20:04:25.530958Z",
     "start_time": "2020-01-14T20:04:23.734423Z"
    }
   },
   "outputs": [],
   "source": [
    "df_militares['unique_id'] = df_militares['NOME'] + \\\n",
    "    df_militares['CPF'].str.replace('[.-]', '', regex=True)\n",
    "df_DAS['unique_id'] = df_DAS['Nome'] + \\\n",
    "    df_DAS['CPF'].str.replace('[.-]', '', regex=True)"
   ]
  },
  {
   "cell_type": "markdown",
   "metadata": {},
   "source": [
    "![Figure 1-1](http://www.datasciencemadesimple.com/wp-content/uploads/2017/09/join-or-merge-in-python-pandas-1.png \"Figure 1-1\")"
   ]
  },
  {
   "cell_type": "markdown",
   "metadata": {},
   "source": [
    "Vamos juntar as tabelas de Militares e DAS em uma só usando a propriedade 'INNER' para garantir que temos somente os militares em cargos DAS. Mas para isso precisamos criar uma chave única formada por nome do servidor + CPF."
   ]
  },
  {
   "cell_type": "code",
   "execution_count": 13,
   "metadata": {
    "ExecuteTime": {
     "end_time": "2020-01-14T20:04:26.802274Z",
     "start_time": "2020-01-14T20:04:25.534007Z"
    }
   },
   "outputs": [
    {
     "name": "stdout",
     "output_type": "stream",
     "text": [
      "df_DAS_mil (6497, 60)\n"
     ]
    }
   ],
   "source": [
    "df_DAS_mil = pd.merge(df_DAS, df_militares, how='inner', on='unique_id')\n",
    "print('df_DAS_mil', df_DAS_mil.shape)"
   ]
  },
  {
   "cell_type": "code",
   "execution_count": 14,
   "metadata": {
    "ExecuteTime": {
     "end_time": "2020-01-14T20:04:26.924608Z",
     "start_time": "2020-01-14T20:04:26.807620Z"
    }
   },
   "outputs": [
    {
     "name": "stdout",
     "output_type": "stream",
     "text": [
      "df_DAS_mil (2090, 59)\n"
     ]
    }
   ],
   "source": [
    "df_DAS_mil = df_DAS_mil.drop(['Unnamed: 0_x'], axis=1)\n",
    "df_DAS_mil = df_DAS_mil.drop_duplicates()\n",
    "print('df_DAS_mil', df_DAS_mil.shape)"
   ]
  },
  {
   "cell_type": "code",
   "execution_count": 15,
   "metadata": {
    "ExecuteTime": {
     "end_time": "2020-01-14T20:04:26.950596Z",
     "start_time": "2020-01-14T20:04:26.928366Z"
    }
   },
   "outputs": [],
   "source": [
    "df_militares_no_governo = df_DAS_mil[[\n",
    "    'Nome', 'CPF_x', 'ORG_EXERCICIO','ORG_LOTACAO','DESCRICAO_CARGO','Descrição do cargo emprego', 'Situação servidor',\n",
    "    'Denominação do órgão de atuação', 'UF da UPAG de vinculação',\n",
    "    'Denominação unidade organizacional', 'UF da Residência',\n",
    "    'Cidade da residência', 'Data início DAS', 'DL nomeação', 'Valor da DAS',\n",
    "    'unique_id', 'Id_SERVIDOR_PORTAL', 'MATRICULA',\n",
    "    'UF_EXERCICIO', 'file'\n",
    "]]"
   ]
  },
  {
   "cell_type": "code",
   "execution_count": 16,
   "metadata": {
    "ExecuteTime": {
     "end_time": "2020-01-14T20:04:26.983135Z",
     "start_time": "2020-01-14T20:04:26.956940Z"
    }
   },
   "outputs": [],
   "source": [
    "# df_militares_no_governo['DESCRICAO_CARGO'].value_counts()"
   ]
  },
  {
   "cell_type": "code",
   "execution_count": 17,
   "metadata": {
    "ExecuteTime": {
     "end_time": "2020-01-14T20:04:27.004866Z",
     "start_time": "2020-01-14T20:04:26.986781Z"
    }
   },
   "outputs": [],
   "source": [
    "filter_ = 'Soldado'\n",
    "df_oficiais_no_governo = df_militares_no_governo[~(\n",
    "    df_militares_no_governo['DESCRICAO_CARGO'].str.contains(filter_))]"
   ]
  },
  {
   "cell_type": "markdown",
   "metadata": {},
   "source": [
    "# Ajustando strings"
   ]
  },
  {
   "cell_type": "code",
   "execution_count": 18,
   "metadata": {
    "ExecuteTime": {
     "end_time": "2020-01-14T20:04:27.329603Z",
     "start_time": "2020-01-14T20:04:27.010930Z"
    }
   },
   "outputs": [
    {
     "name": "stderr",
     "output_type": "stream",
     "text": [
      "/Users/mattosoerick/anaconda3/lib/python3.6/site-packages/ipykernel_launcher.py:3: SettingWithCopyWarning: \n",
      "A value is trying to be set on a copy of a slice from a DataFrame.\n",
      "Try using .loc[row_indexer,col_indexer] = value instead\n",
      "\n",
      "See the caveats in the documentation: http://pandas.pydata.org/pandas-docs/stable/indexing.html#indexing-view-versus-copy\n",
      "  This is separate from the ipykernel package so we can avoid doing imports until\n",
      "/Users/mattosoerick/anaconda3/lib/python3.6/site-packages/ipykernel_launcher.py:5: SettingWithCopyWarning: \n",
      "A value is trying to be set on a copy of a slice from a DataFrame.\n",
      "Try using .loc[row_indexer,col_indexer] = value instead\n",
      "\n",
      "See the caveats in the documentation: http://pandas.pydata.org/pandas-docs/stable/indexing.html#indexing-view-versus-copy\n",
      "  \"\"\"\n",
      "/Users/mattosoerick/anaconda3/lib/python3.6/site-packages/ipykernel_launcher.py:7: SettingWithCopyWarning: \n",
      "A value is trying to be set on a copy of a slice from a DataFrame.\n",
      "Try using .loc[row_indexer,col_indexer] = value instead\n",
      "\n",
      "See the caveats in the documentation: http://pandas.pydata.org/pandas-docs/stable/indexing.html#indexing-view-versus-copy\n",
      "  import sys\n",
      "/Users/mattosoerick/anaconda3/lib/python3.6/site-packages/ipykernel_launcher.py:9: SettingWithCopyWarning: \n",
      "A value is trying to be set on a copy of a slice from a DataFrame.\n",
      "Try using .loc[row_indexer,col_indexer] = value instead\n",
      "\n",
      "See the caveats in the documentation: http://pandas.pydata.org/pandas-docs/stable/indexing.html#indexing-view-versus-copy\n",
      "  if __name__ == '__main__':\n"
     ]
    }
   ],
   "source": [
    "col = 'Denominação do órgão de atuação'\n",
    "df_oficiais_no_governo[col] = df_oficiais_no_governo[col].str.replace(\n",
    "    ('.*' + 'JUSTI.*A' + '.*'), ('MINISTERIO DA JUSTIÇA'), regex=True)\n",
    "df_oficiais_no_governo[col] = df_oficiais_no_governo[col].str.replace(\n",
    "    ('.*' + 'ESTADOS.*MUNICIPIOS' + '.*'), ('ESTADOS/MUNICIPIOS/ADM.DIR-AUT/FUNDACOES'), regex=True)\n",
    "df_oficiais_no_governo[col] = df_oficiais_no_governo[col].str.replace(\n",
    "    ('.*' + 'MINIST.DA CI' + '.*'), ('MINISTÉRIO CIÊNCIA TEC.INOV.COMUNICAÇÕES'), regex=True)\n",
    "df_oficiais_no_governo[col] = df_oficiais_no_governo[col].str.replace(\n",
    "    ('.*' + 'HUMANOS' + '.*'), ('MINISTERIO DOS DIREITOS HUMANOS'), regex=True)"
   ]
  },
  {
   "cell_type": "code",
   "execution_count": 19,
   "metadata": {
    "ExecuteTime": {
     "end_time": "2020-01-14T20:04:27.635991Z",
     "start_time": "2020-01-14T20:04:27.333421Z"
    }
   },
   "outputs": [
    {
     "name": "stderr",
     "output_type": "stream",
     "text": [
      "/Users/mattosoerick/anaconda3/lib/python3.6/site-packages/ipykernel_launcher.py:3: SettingWithCopyWarning: \n",
      "A value is trying to be set on a copy of a slice from a DataFrame.\n",
      "Try using .loc[row_indexer,col_indexer] = value instead\n",
      "\n",
      "See the caveats in the documentation: http://pandas.pydata.org/pandas-docs/stable/indexing.html#indexing-view-versus-copy\n",
      "  This is separate from the ipykernel package so we can avoid doing imports until\n",
      "/Users/mattosoerick/anaconda3/lib/python3.6/site-packages/ipykernel_launcher.py:5: SettingWithCopyWarning: \n",
      "A value is trying to be set on a copy of a slice from a DataFrame.\n",
      "Try using .loc[row_indexer,col_indexer] = value instead\n",
      "\n",
      "See the caveats in the documentation: http://pandas.pydata.org/pandas-docs/stable/indexing.html#indexing-view-versus-copy\n",
      "  \"\"\"\n",
      "/Users/mattosoerick/anaconda3/lib/python3.6/site-packages/ipykernel_launcher.py:7: SettingWithCopyWarning: \n",
      "A value is trying to be set on a copy of a slice from a DataFrame.\n",
      "Try using .loc[row_indexer,col_indexer] = value instead\n",
      "\n",
      "See the caveats in the documentation: http://pandas.pydata.org/pandas-docs/stable/indexing.html#indexing-view-versus-copy\n",
      "  import sys\n",
      "/Users/mattosoerick/anaconda3/lib/python3.6/site-packages/ipykernel_launcher.py:9: SettingWithCopyWarning: \n",
      "A value is trying to be set on a copy of a slice from a DataFrame.\n",
      "Try using .loc[row_indexer,col_indexer] = value instead\n",
      "\n",
      "See the caveats in the documentation: http://pandas.pydata.org/pandas-docs/stable/indexing.html#indexing-view-versus-copy\n",
      "  if __name__ == '__main__':\n",
      "/Users/mattosoerick/anaconda3/lib/python3.6/site-packages/ipykernel_launcher.py:11: SettingWithCopyWarning: \n",
      "A value is trying to be set on a copy of a slice from a DataFrame.\n",
      "Try using .loc[row_indexer,col_indexer] = value instead\n",
      "\n",
      "See the caveats in the documentation: http://pandas.pydata.org/pandas-docs/stable/indexing.html#indexing-view-versus-copy\n",
      "  # This is added back by InteractiveShellApp.init_path()\n"
     ]
    }
   ],
   "source": [
    "col = 'Cidade da residência'\n",
    "df_oficiais_no_governo[col] = df_oficiais_no_governo[col].str.replace(\n",
    "    ('.*BRAS.*A$'), ('BRASILIA'))\n",
    "df_oficiais_no_governo[col] = df_oficiais_no_governo[col].str.replace(\n",
    "    ('GRAVATAI - RS'), ('GRAVATAI'))\n",
    "df_oficiais_no_governo[col] = df_oficiais_no_governo[col].str.replace(\n",
    "    ('RJ$'), ('RIO DE JANEIRO'))\n",
    "df_oficiais_no_governo[col] = df_oficiais_no_governo[col].str.replace(\n",
    "    ('.*TAGUATING.*'), ('TAGUATINGUA'))\n",
    "df_oficiais_no_governo['endereço'] = (\n",
    "    df_oficiais_no_governo[col]+' - '+df_oficiais_no_governo['UF da Residência'])"
   ]
  },
  {
   "cell_type": "code",
   "execution_count": 20,
   "metadata": {
    "ExecuteTime": {
     "end_time": "2020-01-14T20:04:27.705511Z",
     "start_time": "2020-01-14T20:04:27.639380Z"
    }
   },
   "outputs": [
    {
     "name": "stderr",
     "output_type": "stream",
     "text": [
      "/Users/mattosoerick/anaconda3/lib/python3.6/site-packages/ipykernel_launcher.py:3: SettingWithCopyWarning: \n",
      "A value is trying to be set on a copy of a slice from a DataFrame.\n",
      "Try using .loc[row_indexer,col_indexer] = value instead\n",
      "\n",
      "See the caveats in the documentation: http://pandas.pydata.org/pandas-docs/stable/indexing.html#indexing-view-versus-copy\n",
      "  This is separate from the ipykernel package so we can avoid doing imports until\n"
     ]
    }
   ],
   "source": [
    "col = 'Data início DAS'\n",
    "df_oficiais_no_governo[col] = pd.to_datetime(\n",
    "    df_oficiais_no_governo[col], format=\"%Y%m%d\")"
   ]
  },
  {
   "cell_type": "code",
   "execution_count": 21,
   "metadata": {
    "ExecuteTime": {
     "end_time": "2020-01-14T20:04:27.833304Z",
     "start_time": "2020-01-14T20:04:27.709201Z"
    }
   },
   "outputs": [
    {
     "name": "stderr",
     "output_type": "stream",
     "text": [
      "/Users/mattosoerick/anaconda3/lib/python3.6/site-packages/ipykernel_launcher.py:2: SettingWithCopyWarning: \n",
      "A value is trying to be set on a copy of a slice from a DataFrame.\n",
      "Try using .loc[row_indexer,col_indexer] = value instead\n",
      "\n",
      "See the caveats in the documentation: http://pandas.pydata.org/pandas-docs/stable/indexing.html#indexing-view-versus-copy\n",
      "  \n",
      "/Users/mattosoerick/anaconda3/lib/python3.6/site-packages/ipykernel_launcher.py:3: SettingWithCopyWarning: \n",
      "A value is trying to be set on a copy of a slice from a DataFrame.\n",
      "Try using .loc[row_indexer,col_indexer] = value instead\n",
      "\n",
      "See the caveats in the documentation: http://pandas.pydata.org/pandas-docs/stable/indexing.html#indexing-view-versus-copy\n",
      "  This is separate from the ipykernel package so we can avoid doing imports until\n"
     ]
    }
   ],
   "source": [
    "col = 'Valor da DAS'\n",
    "df_oficiais_no_governo[col] = df_oficiais_no_governo[col].str.replace((','),('.'))\n",
    "df_oficiais_no_governo[col] = df_oficiais_no_governo[col].astype(float)"
   ]
  },
  {
   "cell_type": "code",
   "execution_count": 22,
   "metadata": {
    "ExecuteTime": {
     "end_time": "2020-01-14T20:04:27.848692Z",
     "start_time": "2020-01-14T20:04:27.836642Z"
    }
   },
   "outputs": [
    {
     "data": {
      "text/plain": [
       "(2054, 21)"
      ]
     },
     "execution_count": 22,
     "metadata": {},
     "output_type": "execute_result"
    }
   ],
   "source": [
    "df_oficiais_no_governo.shape"
   ]
  },
  {
   "cell_type": "markdown",
   "metadata": {},
   "source": [
    "# fim"
   ]
  },
  {
   "cell_type": "code",
   "execution_count": 23,
   "metadata": {
    "ExecuteTime": {
     "end_time": "2020-01-14T20:04:28.175279Z",
     "start_time": "2020-01-14T20:04:27.855890Z"
    }
   },
   "outputs": [
    {
     "name": "stderr",
     "output_type": "stream",
     "text": [
      "/Users/mattosoerick/anaconda3/lib/python3.6/site-packages/pandas/core/indexing.py:362: SettingWithCopyWarning: \n",
      "A value is trying to be set on a copy of a slice from a DataFrame.\n",
      "Try using .loc[row_indexer,col_indexer] = value instead\n",
      "\n",
      "See the caveats in the documentation: http://pandas.pydata.org/pandas-docs/stable/indexing.html#indexing-view-versus-copy\n",
      "  self.obj[key] = _infer_fill_value(value)\n",
      "/Users/mattosoerick/anaconda3/lib/python3.6/site-packages/pandas/core/indexing.py:543: SettingWithCopyWarning: \n",
      "A value is trying to be set on a copy of a slice from a DataFrame.\n",
      "Try using .loc[row_indexer,col_indexer] = value instead\n",
      "\n",
      "See the caveats in the documentation: http://pandas.pydata.org/pandas-docs/stable/indexing.html#indexing-view-versus-copy\n",
      "  self.obj[item] = s\n"
     ]
    },
    {
     "data": {
      "text/html": [
       "<div>\n",
       "<style scoped>\n",
       "    .dataframe tbody tr th:only-of-type {\n",
       "        vertical-align: middle;\n",
       "    }\n",
       "\n",
       "    .dataframe tbody tr th {\n",
       "        vertical-align: top;\n",
       "    }\n",
       "\n",
       "    .dataframe thead th {\n",
       "        text-align: right;\n",
       "    }\n",
       "</style>\n",
       "<table border=\"1\" class=\"dataframe\">\n",
       "  <thead>\n",
       "    <tr style=\"text-align: right;\">\n",
       "      <th></th>\n",
       "      <th>Nome</th>\n",
       "      <th>CPF_x</th>\n",
       "      <th>ORG_EXERCICIO</th>\n",
       "      <th>ORG_LOTACAO</th>\n",
       "      <th>DESCRICAO_CARGO</th>\n",
       "      <th>Descrição do cargo emprego</th>\n",
       "      <th>Situação servidor</th>\n",
       "      <th>Denominação do órgão de atuação</th>\n",
       "      <th>UF da UPAG de vinculação</th>\n",
       "      <th>Denominação unidade organizacional</th>\n",
       "      <th>UF da Residência</th>\n",
       "      <th>Cidade da residência</th>\n",
       "      <th>Data início DAS</th>\n",
       "      <th>DL nomeação</th>\n",
       "      <th>Valor da DAS</th>\n",
       "      <th>unique_id</th>\n",
       "      <th>Id_SERVIDOR_PORTAL</th>\n",
       "      <th>MATRICULA</th>\n",
       "      <th>UF_EXERCICIO</th>\n",
       "      <th>file</th>\n",
       "      <th>endereço</th>\n",
       "      <th>presidente</th>\n",
       "    </tr>\n",
       "  </thead>\n",
       "  <tbody>\n",
       "    <tr>\n",
       "      <th>3004</th>\n",
       "      <td>FRANCISCO CARLOS SEDENHO</td>\n",
       "      <td>***444298**</td>\n",
       "      <td>Comando do Exército</td>\n",
       "      <td>Comando do Exército</td>\n",
       "      <td>Segundo-Tenente</td>\n",
       "      <td>NaN</td>\n",
       "      <td>REQ. MILITAR</td>\n",
       "      <td>COMANDO DO EXERCITO</td>\n",
       "      <td>DF</td>\n",
       "      <td>GERENCIA DE GESTAO DE PESSOAS</td>\n",
       "      <td>DF</td>\n",
       "      <td>BRASILIA</td>\n",
       "      <td>2015-06-29</td>\n",
       "      <td>PORT 001452/2015, SEORI PUB: DO 29JUN2015</td>\n",
       "      <td>3116.41</td>\n",
       "      <td>FRANCISCO CARLOS SEDENHO***444298**</td>\n",
       "      <td>1318131</td>\n",
       "      <td>012****</td>\n",
       "      <td>-1</td>\n",
       "      <td>201505</td>\n",
       "      <td>BRASILIA - DF</td>\n",
       "      <td>Dilma Rousseff</td>\n",
       "    </tr>\n",
       "  </tbody>\n",
       "</table>\n",
       "</div>"
      ],
      "text/plain": [
       "                          Nome        CPF_x        ORG_EXERCICIO  \\\n",
       "3004  FRANCISCO CARLOS SEDENHO  ***444298**  Comando do Exército   \n",
       "\n",
       "              ORG_LOTACAO  DESCRICAO_CARGO Descrição do cargo emprego  \\\n",
       "3004  Comando do Exército  Segundo-Tenente                        NaN   \n",
       "\n",
       "     Situação servidor Denominação do órgão de atuação  \\\n",
       "3004      REQ. MILITAR             COMANDO DO EXERCITO   \n",
       "\n",
       "     UF da UPAG de vinculação Denominação unidade organizacional  \\\n",
       "3004                       DF      GERENCIA DE GESTAO DE PESSOAS   \n",
       "\n",
       "     UF da Residência Cidade da residência Data início DAS  \\\n",
       "3004               DF             BRASILIA      2015-06-29   \n",
       "\n",
       "                                    DL nomeação  Valor da DAS  \\\n",
       "3004  PORT 001452/2015, SEORI PUB: DO 29JUN2015       3116.41   \n",
       "\n",
       "                                unique_id  Id_SERVIDOR_PORTAL MATRICULA  \\\n",
       "3004  FRANCISCO CARLOS SEDENHO***444298**             1318131   012****   \n",
       "\n",
       "      UF_EXERCICIO    file       endereço      presidente  \n",
       "3004            -1  201505  BRASILIA - DF  Dilma Rousseff  "
      ]
     },
     "execution_count": 23,
     "metadata": {},
     "output_type": "execute_result"
    }
   ],
   "source": [
    "Dilma_Rousseff = (df_oficiais_no_governo['Data início DAS'] >=\n",
    "                  '2011-01-01') & (df_oficiais_no_governo['Data início DAS'] < '2016-08-31')\n",
    "Michel_Temer = (df_oficiais_no_governo['Data início DAS'] >=\n",
    "                '2016-08-01') & (df_oficiais_no_governo['Data início DAS'] < '2019-01-01')\n",
    "Jair_Bolsonaro = (df_oficiais_no_governo['Data início DAS'] >=\n",
    "                  '2019-01-01') & (df_oficiais_no_governo['Data início DAS'] < '2022-01-01')\n",
    "\n",
    "df_oficiais_no_governo.loc[Dilma_Rousseff, 'presidente'] = 'Dilma Rousseff'\n",
    "df_oficiais_no_governo.loc[Michel_Temer, 'presidente'] = 'Michel Temer'\n",
    "df_oficiais_no_governo.loc[Jair_Bolsonaro, 'presidente'] = 'Jair Bolsonaro'\n",
    "\n",
    "df_oficiais_no_governo.sample()"
   ]
  },
  {
   "cell_type": "code",
   "execution_count": 24,
   "metadata": {
    "ExecuteTime": {
     "end_time": "2020-01-14T20:04:28.939510Z",
     "start_time": "2020-01-14T20:04:28.180648Z"
    }
   },
   "outputs": [
    {
     "name": "stderr",
     "output_type": "stream",
     "text": [
      "/Users/mattosoerick/anaconda3/lib/python3.6/site-packages/pandas/plotting/_converter.py:129: FutureWarning: Using an implicitly registered datetime converter for a matplotlib plotting method. The converter was registered by pandas on import. Future versions of pandas will require you to explicitly register matplotlib converters.\n",
      "\n",
      "To register the converters:\n",
      "\t>>> from pandas.plotting import register_matplotlib_converters\n",
      "\t>>> register_matplotlib_converters()\n",
      "  warnings.warn(msg, FutureWarning)\n"
     ]
    },
    {
     "data": {
      "text/plain": [
       "<matplotlib.axes._subplots.AxesSubplot at 0x109afc208>"
      ]
     },
     "execution_count": 24,
     "metadata": {},
     "output_type": "execute_result"
    },
    {
     "data": {
      "image/png": "[encoded data removed]",
      "text/plain": [
       "<Figure size 1080x288 with 1 Axes>"
      ]
     },
     "metadata": {},
     "output_type": "display_data"
    }
   ],
   "source": [
    "sns.set()\n",
    "plot_df = pd.DataFrame(\n",
    "    df_oficiais_no_governo.groupby(['Data início DAS',\n",
    "                   'presidente'])['unique_id'].count()).reset_index()\n",
    "plt.figure(figsize=(15, 4))\n",
    "sns.lineplot(x='Data início DAS',\n",
    "             y='unique_id',\n",
    "             hue=\"presidente\",\n",
    "             markers=\"o\",\n",
    "             data=plot_df)\n",
    "\n"
   ]
  },
  {
   "cell_type": "code",
   "execution_count": 25,
   "metadata": {
    "ExecuteTime": {
     "end_time": "2020-01-14T20:04:28.959066Z",
     "start_time": "2020-01-14T20:04:28.943392Z"
    }
   },
   "outputs": [
    {
     "name": "stdout",
     "output_type": "stream",
     "text": [
      "presidente\n",
      "Dilma Rousseff     137\n",
      "Jair Bolsonaro     882\n",
      "Michel Temer      1035\n",
      "Name: unique_id, dtype: int64\n"
     ]
    }
   ],
   "source": [
    "print(df_oficiais_no_governo.groupby(['presidente'])['unique_id'].count())"
   ]
  },
  {
   "cell_type": "code",
   "execution_count": 26,
   "metadata": {
    "ExecuteTime": {
     "end_time": "2020-01-14T20:04:28.976443Z",
     "start_time": "2020-01-14T20:04:28.964188Z"
    }
   },
   "outputs": [],
   "source": [
    "Jair_Bolsonaro = (df_oficiais_no_governo['Data início DAS'] >= '2019-01-01') & (df_oficiais_no_governo['Data início DAS'] < '2022-01-01')\n",
    "df_oficiais_bolsonaro = df_oficiais_no_governo[Jair_Bolsonaro]"
   ]
  },
  {
   "cell_type": "code",
   "execution_count": 27,
   "metadata": {
    "ExecuteTime": {
     "end_time": "2020-01-14T20:09:21.068535Z",
     "start_time": "2020-01-14T20:04:28.981159Z"
    }
   },
   "outputs": [
    {
     "name": "stderr",
     "output_type": "stream",
     "text": [
      "/Users/mattosoerick/anaconda3/lib/python3.6/site-packages/ipykernel_launcher.py:3: SettingWithCopyWarning: \n",
      "A value is trying to be set on a copy of a slice from a DataFrame.\n",
      "Try using .loc[row_indexer,col_indexer] = value instead\n",
      "\n",
      "See the caveats in the documentation: http://pandas.pydata.org/pandas-docs/stable/indexing.html#indexing-view-versus-copy\n",
      "  This is separate from the ipykernel package so we can avoid doing imports until\n",
      "/Users/mattosoerick/anaconda3/lib/python3.6/site-packages/pandas/core/indexing.py:362: SettingWithCopyWarning: \n",
      "A value is trying to be set on a copy of a slice from a DataFrame.\n",
      "Try using .loc[row_indexer,col_indexer] = value instead\n",
      "\n",
      "See the caveats in the documentation: http://pandas.pydata.org/pandas-docs/stable/indexing.html#indexing-view-versus-copy\n",
      "  self.obj[key] = _infer_fill_value(value)\n",
      "/Users/mattosoerick/anaconda3/lib/python3.6/site-packages/pandas/core/indexing.py:543: SettingWithCopyWarning: \n",
      "A value is trying to be set on a copy of a slice from a DataFrame.\n",
      "Try using .loc[row_indexer,col_indexer] = value instead\n",
      "\n",
      "See the caveats in the documentation: http://pandas.pydata.org/pandas-docs/stable/indexing.html#indexing-view-versus-copy\n",
      "  self.obj[item] = s\n"
     ]
    }
   ],
   "source": [
    "from key_google import *\n",
    "\n",
    "df_oficiais_bolsonaro['endereço'] = (df_oficiais_bolsonaro['Cidade da residência']+' - '+df_oficiais_bolsonaro['UF da Residência'])\n",
    "\n",
    "for address in df_oficiais_bolsonaro['endereço']:   \n",
    "    gmaps = googlemaps.Client(key=key)\n",
    "    try:\n",
    "        geocode_result = gmaps.geocode(address)\n",
    "        lat = geocode_result[0]['geometry']['location']['lat']\n",
    "        lng = geocode_result[0]['geometry']['location']['lng']\n",
    "        \n",
    "        df_oficiais_bolsonaro.loc[df_oficiais_bolsonaro['endereço']==address,'lat'] = lat\n",
    "        df_oficiais_bolsonaro.loc[df_oficiais_bolsonaro['endereço']==address,'lng'] = lng\n",
    "    except:\n",
    "        pass"
   ]
  },
  {
   "cell_type": "code",
   "execution_count": 28,
   "metadata": {
    "ExecuteTime": {
     "end_time": "2020-01-14T20:09:21.165772Z",
     "start_time": "2020-01-14T20:09:21.072053Z"
    }
   },
   "outputs": [],
   "source": [
    "# Save to a compress format\n",
    "df_oficiais_bolsonaro.to_csv('data/df_cc.csv.gz', compression='gzip')"
   ]
  }
 ],
 "metadata": {
  "kernelspec": {
   "display_name": "Python 3",
   "language": "python",
   "name": "python3"
  },
  "language_info": {
   "codemirror_mode": {
    "name": "ipython",
    "version": 3
   },
   "file_extension": ".py",
   "mimetype": "text/x-python",
   "name": "python",
   "nbconvert_exporter": "python",
   "pygments_lexer": "ipython3",
   "version": "3.6.4"
  },
  "toc": {
   "base_numbering": 1,
   "nav_menu": {},
   "number_sections": true,
   "sideBar": true,
   "skip_h1_title": false,
   "title_cell": "Table of Contents",
   "title_sidebar": "Contents",
   "toc_cell": false,
   "toc_position": {},
   "toc_section_display": true,
   "toc_window_display": false
  },
  "varInspector": {
   "cols": {
    "lenName": 16,
    "lenType": 16,
    "lenVar": 40
   },
   "kernels_config": {
    "python": {
     "delete_cmd_postfix": "",
     "delete_cmd_prefix": "del ",
     "library": "var_list.py",
     "varRefreshCmd": "print(var_dic_list())"
    },
    "r": {
     "delete_cmd_postfix": ") ",
     "delete_cmd_prefix": "rm(",
     "library": "var_list.r",
     "varRefreshCmd": "cat(var_dic_list()) "
    }
   },
   "types_to_exclude": [
    "module",
    "function",
    "builtin_function_or_method",
    "instance",
    "_Feature"
   ],
   "window_display": false
  }
 },
 "nbformat": 4,
 "nbformat_minor": 2
}
