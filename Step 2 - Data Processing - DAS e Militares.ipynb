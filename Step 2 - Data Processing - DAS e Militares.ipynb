{
 "cells": [
  {
   "cell_type": "markdown",
   "metadata": {},
   "source": [
    "# Bibliotecas"
   ]
  },
  {
   "cell_type": "code",
   "execution_count": 1,
   "metadata": {
    "ExecuteTime": {
     "end_time": "2020-01-10T22:18:32.645120Z",
     "start_time": "2020-01-10T22:18:30.937699Z"
    }
   },
   "outputs": [],
   "source": [
    "%run libs.py"
   ]
  },
  {
   "cell_type": "markdown",
   "metadata": {},
   "source": [
    "# Ingest Data"
   ]
  },
  {
   "cell_type": "markdown",
   "metadata": {},
   "source": [
    "## cargo das"
   ]
  },
  {
   "cell_type": "code",
   "execution_count": 2,
   "metadata": {
    "ExecuteTime": {
     "end_time": "2020-01-10T22:18:35.266344Z",
     "start_time": "2020-01-10T22:18:32.649071Z"
    }
   },
   "outputs": [
    {
     "data": {
      "text/plain": [
       "(371789, 15)"
      ]
     },
     "execution_count": 2,
     "metadata": {},
     "output_type": "execute_result"
    }
   ],
   "source": [
    "df_DAS = pd.read_csv('data/cargodas.csv.gz', compression='gzip')\n",
    "df_DAS.shape"
   ]
  },
  {
   "cell_type": "markdown",
   "metadata": {},
   "source": [
    "## df militares"
   ]
  },
  {
   "cell_type": "code",
   "execution_count": 3,
   "metadata": {
    "ExecuteTime": {
     "end_time": "2020-01-10T22:18:40.751970Z",
     "start_time": "2020-01-10T22:18:35.269924Z"
    }
   },
   "outputs": [
    {
     "name": "stderr",
     "output_type": "stream",
     "text": [
      "/Users/mattosoerick/anaconda3/lib/python3.6/site-packages/IPython/core/interactiveshell.py:2728: DtypeWarning: Columns (30) have mixed types. Specify dtype option on import or set low_memory=False.\n",
      "  interactivity=interactivity, compiler=compiler, result=result)\n"
     ]
    },
    {
     "data": {
      "text/plain": [
       "(376678, 44)"
      ]
     },
     "execution_count": 3,
     "metadata": {},
     "output_type": "execute_result"
    }
   ],
   "source": [
    "df_militares = pd.read_csv('data/df_militares.csv.gz',compression='gzip')\n",
    "df_militares.shape"
   ]
  },
  {
   "cell_type": "markdown",
   "metadata": {},
   "source": [
    "# Merge"
   ]
  },
  {
   "cell_type": "code",
   "execution_count": 4,
   "metadata": {
    "ExecuteTime": {
     "end_time": "2020-01-10T22:18:40.775510Z",
     "start_time": "2020-01-10T22:18:40.757823Z"
    }
   },
   "outputs": [
    {
     "name": "stdout",
     "output_type": "stream",
     "text": [
      "df_militares (376678, 44)\n",
      "df_DAS (371789, 15)\n"
     ]
    }
   ],
   "source": [
    "print('df_militares', df_militares.shape)\n",
    "print('df_DAS', df_DAS.shape)"
   ]
  },
  {
   "cell_type": "code",
   "execution_count": 5,
   "metadata": {
    "ExecuteTime": {
     "end_time": "2020-01-10T22:18:42.776471Z",
     "start_time": "2020-01-10T22:18:40.789446Z"
    }
   },
   "outputs": [],
   "source": [
    "df_militares['unique_id'] = df_militares['NOME'] + \\\n",
    "    df_militares['CPF'].str.replace('[.-]', '', regex=True)\n",
    "df_DAS['unique_id'] = df_DAS['Nome'] + \\\n",
    "    df_DAS['CPF'].str.replace('[.-]', '', regex=True)"
   ]
  },
  {
   "cell_type": "markdown",
   "metadata": {},
   "source": [
    "![Figure 1-1](http://www.datasciencemadesimple.com/wp-content/uploads/2017/09/join-or-merge-in-python-pandas-1.png \"Figure 1-1\")"
   ]
  },
  {
   "cell_type": "markdown",
   "metadata": {},
   "source": [
    "Vamos juntar as tabelas de Militares e DAS em uma só usando a propriedade 'INNER' para garantir que temos somente os militares em cargos DAS. Mas para isso precisamos criar uma chave única formada por nome do servidor + CPF."
   ]
  },
  {
   "cell_type": "code",
   "execution_count": 6,
   "metadata": {
    "ExecuteTime": {
     "end_time": "2020-01-10T22:18:44.043927Z",
     "start_time": "2020-01-10T22:18:42.781570Z"
    }
   },
   "outputs": [
    {
     "name": "stdout",
     "output_type": "stream",
     "text": [
      "df_DAS_mil (6497, 60)\n"
     ]
    }
   ],
   "source": [
    "df_DAS_mil = pd.merge(df_DAS, df_militares, how='inner', on='unique_id')\n",
    "print('df_DAS_mil', df_DAS_mil.shape)"
   ]
  },
  {
   "cell_type": "code",
   "execution_count": 7,
   "metadata": {
    "ExecuteTime": {
     "end_time": "2020-01-10T22:18:44.169915Z",
     "start_time": "2020-01-10T22:18:44.050370Z"
    }
   },
   "outputs": [
    {
     "data": {
      "text/html": [
       "<div>\n",
       "<style scoped>\n",
       "    .dataframe tbody tr th:only-of-type {\n",
       "        vertical-align: middle;\n",
       "    }\n",
       "\n",
       "    .dataframe tbody tr th {\n",
       "        vertical-align: top;\n",
       "    }\n",
       "\n",
       "    .dataframe thead th {\n",
       "        text-align: right;\n",
       "    }\n",
       "</style>\n",
       "<table border=\"1\" class=\"dataframe\">\n",
       "  <thead>\n",
       "    <tr style=\"text-align: right;\">\n",
       "      <th></th>\n",
       "      <th>Unnamed: 0_x</th>\n",
       "      <th>Nome</th>\n",
       "      <th>CPF_x</th>\n",
       "      <th>Descrição do cargo emprego</th>\n",
       "      <th>Nível de Escolaridade</th>\n",
       "      <th>Situação servidor</th>\n",
       "      <th>Denominação do órgão de atuação</th>\n",
       "      <th>UF da UPAG de vinculação</th>\n",
       "      <th>Denominação unidade organizacional</th>\n",
       "      <th>UF da Residência</th>\n",
       "      <th>Cidade da residência</th>\n",
       "      <th>Data início DAS</th>\n",
       "      <th>DL nomeação</th>\n",
       "      <th>Valor da DAS</th>\n",
       "      <th>Unnamed: 14</th>\n",
       "      <th>unique_id</th>\n",
       "      <th>Unnamed: 0_y</th>\n",
       "      <th>Id_SERVIDOR_PORTAL</th>\n",
       "      <th>NOME</th>\n",
       "      <th>CPF_y</th>\n",
       "      <th>MATRICULA</th>\n",
       "      <th>DESCRICAO_CARGO</th>\n",
       "      <th>CLASSE_CARGO</th>\n",
       "      <th>REFERENCIA_CARGO</th>\n",
       "      <th>PADRAO_CARGO</th>\n",
       "      <th>NIVEL_CARGO</th>\n",
       "      <th>SIGLA_FUNCAO</th>\n",
       "      <th>NIVEL_FUNCAO</th>\n",
       "      <th>FUNCAO</th>\n",
       "      <th>CODIGO_ATIVIDADE</th>\n",
       "      <th>ATIVIDADE</th>\n",
       "      <th>OPCAO_PARCIAL</th>\n",
       "      <th>COD_UORG_LOTACAO</th>\n",
       "      <th>UORG_LOTACAO</th>\n",
       "      <th>COD_ORG_LOTACAO</th>\n",
       "      <th>ORG_LOTACAO</th>\n",
       "      <th>COD_ORGSUP_LOTACAO</th>\n",
       "      <th>ORGSUP_LOTACAO</th>\n",
       "      <th>COD_UORG_EXERCICIO</th>\n",
       "      <th>UORG_EXERCICIO</th>\n",
       "      <th>COD_ORG_EXERCICIO</th>\n",
       "      <th>ORG_EXERCICIO</th>\n",
       "      <th>COD_ORGSUP_EXERCICIO</th>\n",
       "      <th>ORGSUP_EXERCICIO</th>\n",
       "      <th>TIPO_VINCULO</th>\n",
       "      <th>SITUACAO_VINCULO</th>\n",
       "      <th>DATA_INICIO_AFASTAMENTO</th>\n",
       "      <th>DATA_TERMINO_AFASTAMENTO</th>\n",
       "      <th>REGIME_JURIDICO</th>\n",
       "      <th>JORNADA_DE_TRABALHO</th>\n",
       "      <th>DATA_INGRESSO_CARGOFUNCAO</th>\n",
       "      <th>DATA_NOMEACAO_CARGOFUNCAO</th>\n",
       "      <th>DATA_INGRESSO_ORGAO</th>\n",
       "      <th>DOCUMENTO_INGRESSO_SERVICOPUBLICO</th>\n",
       "      <th>DATA_DIPLOMA_INGRESSO_SERVICOPUBLICO</th>\n",
       "      <th>DIPLOMA_INGRESSO_CARGOFUNCAO</th>\n",
       "      <th>DIPLOMA_INGRESSO_ORGAO</th>\n",
       "      <th>DIPLOMA_INGRESSO_SERVICOPUBLICO</th>\n",
       "      <th>UF_EXERCICIO</th>\n",
       "      <th>file</th>\n",
       "    </tr>\n",
       "  </thead>\n",
       "  <tbody>\n",
       "    <tr>\n",
       "      <th>1625</th>\n",
       "      <td>2591</td>\n",
       "      <td>ELIAS DOS REIS</td>\n",
       "      <td>***512938**</td>\n",
       "      <td>NaN</td>\n",
       "      <td>ENSINO MEDIO</td>\n",
       "      <td>REQ. MILITAR F. ARM</td>\n",
       "      <td>COMANDO DO EXERCITO</td>\n",
       "      <td>DF</td>\n",
       "      <td>GERENCIA DE ADMINIST.DE RECURSOS HUMANOS</td>\n",
       "      <td>SP</td>\n",
       "      <td>SAO PAULO</td>\n",
       "      <td>20110606</td>\n",
       "      <td>DEC 009038/2017, AUT.EXT.: PR PUB: DO 27ABR2017</td>\n",
       "      <td>1480,74</td>\n",
       "      <td>NaN</td>\n",
       "      <td>ELIAS DOS REIS***512938**</td>\n",
       "      <td>99814</td>\n",
       "      <td>8303246</td>\n",
       "      <td>ELIAS DOS REIS</td>\n",
       "      <td>***.512.938-**</td>\n",
       "      <td>026****</td>\n",
       "      <td>Terceiro-Sargento</td>\n",
       "      <td>0</td>\n",
       "      <td>0</td>\n",
       "      <td>0</td>\n",
       "      <td>0</td>\n",
       "      <td>-1</td>\n",
       "      <td>-1</td>\n",
       "      <td>Sem informação</td>\n",
       "      <td>-1</td>\n",
       "      <td>Sem informação</td>\n",
       "      <td>NaN</td>\n",
       "      <td>-1</td>\n",
       "      <td>Sem informação</td>\n",
       "      <td>16000</td>\n",
       "      <td>Comando do Exército</td>\n",
       "      <td>40105</td>\n",
       "      <td>Ministério da Defesa</td>\n",
       "      <td>-1</td>\n",
       "      <td>Sem informação</td>\n",
       "      <td>16000</td>\n",
       "      <td>Comando do Exército</td>\n",
       "      <td>40105</td>\n",
       "      <td>Ministério da Defesa</td>\n",
       "      <td>2</td>\n",
       "      <td>MILITAR DA ATIVA</td>\n",
       "      <td>NaN</td>\n",
       "      <td>NaN</td>\n",
       "      <td>ESTATUTO DOS MILITARES</td>\n",
       "      <td>DSPN. PERMANENTE</td>\n",
       "      <td>NaN</td>\n",
       "      <td>NaN</td>\n",
       "      <td>NaN</td>\n",
       "      <td>NaN</td>\n",
       "      <td>NaN</td>\n",
       "      <td>NaN</td>\n",
       "      <td>Sem informação</td>\n",
       "      <td>Inválido</td>\n",
       "      <td>-1</td>\n",
       "      <td>201505</td>\n",
       "    </tr>\n",
       "  </tbody>\n",
       "</table>\n",
       "</div>"
      ],
      "text/plain": [
       "      Unnamed: 0_x            Nome        CPF_x Descrição do cargo emprego  \\\n",
       "1625          2591  ELIAS DOS REIS  ***512938**                        NaN   \n",
       "\n",
       "     Nível de Escolaridade    Situação servidor  \\\n",
       "1625          ENSINO MEDIO  REQ. MILITAR F. ARM   \n",
       "\n",
       "     Denominação do órgão de atuação UF da UPAG de vinculação  \\\n",
       "1625             COMANDO DO EXERCITO                       DF   \n",
       "\n",
       "            Denominação unidade organizacional UF da Residência  \\\n",
       "1625  GERENCIA DE ADMINIST.DE RECURSOS HUMANOS               SP   \n",
       "\n",
       "     Cidade da residência  Data início DAS  \\\n",
       "1625            SAO PAULO         20110606   \n",
       "\n",
       "                                          DL nomeação Valor da DAS  \\\n",
       "1625  DEC 009038/2017, AUT.EXT.: PR PUB: DO 27ABR2017      1480,74   \n",
       "\n",
       "      Unnamed: 14                  unique_id  Unnamed: 0_y  \\\n",
       "1625          NaN  ELIAS DOS REIS***512938**         99814   \n",
       "\n",
       "      Id_SERVIDOR_PORTAL            NOME           CPF_y MATRICULA  \\\n",
       "1625             8303246  ELIAS DOS REIS  ***.512.938-**   026****   \n",
       "\n",
       "        DESCRICAO_CARGO  CLASSE_CARGO  REFERENCIA_CARGO  PADRAO_CARGO  \\\n",
       "1625  Terceiro-Sargento             0                 0             0   \n",
       "\n",
       "      NIVEL_CARGO  SIGLA_FUNCAO  NIVEL_FUNCAO          FUNCAO  \\\n",
       "1625            0            -1            -1  Sem informação   \n",
       "\n",
       "      CODIGO_ATIVIDADE       ATIVIDADE  OPCAO_PARCIAL  COD_UORG_LOTACAO  \\\n",
       "1625                -1  Sem informação            NaN                -1   \n",
       "\n",
       "        UORG_LOTACAO  COD_ORG_LOTACAO          ORG_LOTACAO  \\\n",
       "1625  Sem informação            16000  Comando do Exército   \n",
       "\n",
       "      COD_ORGSUP_LOTACAO        ORGSUP_LOTACAO  COD_UORG_EXERCICIO  \\\n",
       "1625               40105  Ministério da Defesa                  -1   \n",
       "\n",
       "      UORG_EXERCICIO  COD_ORG_EXERCICIO        ORG_EXERCICIO  \\\n",
       "1625  Sem informação              16000  Comando do Exército   \n",
       "\n",
       "      COD_ORGSUP_EXERCICIO      ORGSUP_EXERCICIO  TIPO_VINCULO  \\\n",
       "1625                 40105  Ministério da Defesa             2   \n",
       "\n",
       "      SITUACAO_VINCULO DATA_INICIO_AFASTAMENTO  DATA_TERMINO_AFASTAMENTO  \\\n",
       "1625  MILITAR DA ATIVA                     NaN                       NaN   \n",
       "\n",
       "             REGIME_JURIDICO JORNADA_DE_TRABALHO  DATA_INGRESSO_CARGOFUNCAO  \\\n",
       "1625  ESTATUTO DOS MILITARES    DSPN. PERMANENTE                        NaN   \n",
       "\n",
       "      DATA_NOMEACAO_CARGOFUNCAO  DATA_INGRESSO_ORGAO  \\\n",
       "1625                        NaN                  NaN   \n",
       "\n",
       "     DOCUMENTO_INGRESSO_SERVICOPUBLICO  DATA_DIPLOMA_INGRESSO_SERVICOPUBLICO  \\\n",
       "1625                               NaN                                   NaN   \n",
       "\n",
       "      DIPLOMA_INGRESSO_CARGOFUNCAO DIPLOMA_INGRESSO_ORGAO  \\\n",
       "1625                           NaN         Sem informação   \n",
       "\n",
       "     DIPLOMA_INGRESSO_SERVICOPUBLICO  UF_EXERCICIO    file  \n",
       "1625                        Inválido            -1  201505  "
      ]
     },
     "execution_count": 7,
     "metadata": {},
     "output_type": "execute_result"
    }
   ],
   "source": [
    "df_DAS_mil.sample()"
   ]
  },
  {
   "cell_type": "code",
   "execution_count": 8,
   "metadata": {
    "ExecuteTime": {
     "end_time": "2020-01-10T22:18:44.190625Z",
     "start_time": "2020-01-10T22:18:44.174497Z"
    }
   },
   "outputs": [],
   "source": [
    "df_militares_no_governo = df_DAS_mil[[\n",
    "    'Nome', 'CPF_x', 'ORG_EXERCICIO','ORG_LOTACAO','DESCRICAO_CARGO','Descrição do cargo emprego', 'Situação servidor',\n",
    "    'Denominação do órgão de atuação', 'UF da UPAG de vinculação',\n",
    "    'Denominação unidade organizacional', 'UF da Residência',\n",
    "    'Cidade da residência', 'Data início DAS', 'DL nomeação', 'Valor da DAS',\n",
    "    'unique_id', 'Id_SERVIDOR_PORTAL', 'MATRICULA',\n",
    "    'UF_EXERCICIO', 'file'\n",
    "]]"
   ]
  },
  {
   "cell_type": "code",
   "execution_count": 9,
   "metadata": {
    "ExecuteTime": {
     "end_time": "2020-01-10T22:18:44.216024Z",
     "start_time": "2020-01-10T22:18:44.197391Z"
    }
   },
   "outputs": [
    {
     "data": {
      "text/plain": [
       "Coronel                                 1158\n",
       "Segundo-Sargento                         810\n",
       "Primeiro-Tenente                         737\n",
       "Tenente-Coronel                          479\n",
       "Segundo-Tenente                          369\n",
       "Suboficial                               315\n",
       "Terceiro-Sargento                        309\n",
       "Primeiro-Sargento                        277\n",
       "Cabo (engajado)                          245\n",
       "Capitao-de-Mar-e-Guerra                  236\n",
       "Capitao                                  201\n",
       "Major                                    194\n",
       "General-de-Brigada                       162\n",
       "General-de-Divisao                       157\n",
       "Brigadeiro                               134\n",
       "Subtenente                               122\n",
       "Contra-Almirante                          93\n",
       "Soldado                                   78\n",
       "Tenente-Brigadeiro-do-Ar                  77\n",
       "Capitao-de-Fragata                        71\n",
       "General-de-Exercito                       56\n",
       "Vice-Almirante                            46\n",
       "Major-Brigadeiro                          38\n",
       "Aspirante-a-Oficial                       34\n",
       "Capitao-Tenente                           28\n",
       "Capitao-de-Corveta                        28\n",
       "Soldado de 1ª Classe                      18\n",
       "Soldado-Recruta/Soldado de 2ª Classe      15\n",
       "Soldado-Recruta                           10\n",
       "Name: DESCRICAO_CARGO, dtype: int64"
      ]
     },
     "execution_count": 9,
     "metadata": {},
     "output_type": "execute_result"
    }
   ],
   "source": [
    "df_militares_no_governo['DESCRICAO_CARGO'].value_counts()"
   ]
  },
  {
   "cell_type": "code",
   "execution_count": 10,
   "metadata": {
    "ExecuteTime": {
     "end_time": "2020-01-10T22:18:44.248141Z",
     "start_time": "2020-01-10T22:18:44.224014Z"
    }
   },
   "outputs": [],
   "source": [
    "filter_ = 'Soldado|Cabo'\n",
    "df_oficiais_no_governo = df_militares_no_governo[~(\n",
    "    df_militares_no_governo['DESCRICAO_CARGO'].str.contains(filter_))]"
   ]
  },
  {
   "cell_type": "code",
   "execution_count": 11,
   "metadata": {
    "ExecuteTime": {
     "end_time": "2020-01-10T22:18:44.281915Z",
     "start_time": "2020-01-10T22:18:44.254572Z"
    }
   },
   "outputs": [
    {
     "data": {
      "text/plain": [
       "MINIST. DA JUSTIÇA E SEGURANÇA PUBLICA    118\n",
       "MINISTERIO DA JUSTIÇA                      50\n",
       "MINISTERIO DA JUSTICA                      48\n",
       "MINISTERIO DA JUSTIA                       3\n",
       "Name: Denominação do órgão de atuação, dtype: int64"
      ]
     },
     "execution_count": 11,
     "metadata": {},
     "output_type": "execute_result"
    }
   ],
   "source": [
    "df_oficiais_no_governo[(\n",
    "    df_oficiais_no_governo['Denominação do órgão de atuação'].str.contains(\n",
    "        'JUSTI'))]['Denominação do órgão de atuação'].value_counts()"
   ]
  },
  {
   "cell_type": "code",
   "execution_count": 12,
   "metadata": {
    "ExecuteTime": {
     "end_time": "2020-01-10T22:18:44.415040Z",
     "start_time": "2020-01-10T22:18:44.286544Z"
    }
   },
   "outputs": [
    {
     "data": {
      "text/html": [
       "<div>\n",
       "<style scoped>\n",
       "    .dataframe tbody tr th:only-of-type {\n",
       "        vertical-align: middle;\n",
       "    }\n",
       "\n",
       "    .dataframe tbody tr th {\n",
       "        vertical-align: top;\n",
       "    }\n",
       "\n",
       "    .dataframe thead th {\n",
       "        text-align: right;\n",
       "    }\n",
       "</style>\n",
       "<table border=\"1\" class=\"dataframe\">\n",
       "  <thead>\n",
       "    <tr style=\"text-align: right;\">\n",
       "      <th></th>\n",
       "      <th>Denominação do órgão de atuação</th>\n",
       "    </tr>\n",
       "  </thead>\n",
       "  <tbody>\n",
       "    <tr>\n",
       "      <th>COMANDO DO EXERCITO</th>\n",
       "      <td>1533</td>\n",
       "    </tr>\n",
       "    <tr>\n",
       "      <th>PRESIDENCIA DA REPUBLICA</th>\n",
       "      <td>1147</td>\n",
       "    </tr>\n",
       "    <tr>\n",
       "      <th>MINISTERIO DA DEFESA</th>\n",
       "      <td>941</td>\n",
       "    </tr>\n",
       "    <tr>\n",
       "      <th>COMANDO DA MARINHA</th>\n",
       "      <td>481</td>\n",
       "    </tr>\n",
       "    <tr>\n",
       "      <th>COMANDO DA AERONAUTICA</th>\n",
       "      <td>425</td>\n",
       "    </tr>\n",
       "    <tr>\n",
       "      <th>MINISTERIO DA JUSTIÇA</th>\n",
       "      <td>219</td>\n",
       "    </tr>\n",
       "    <tr>\n",
       "      <th>MINISTERIO DA EDUCACAO</th>\n",
       "      <td>141</td>\n",
       "    </tr>\n",
       "    <tr>\n",
       "      <th>VICE-PRESIDENCIA DA REPUBLICA</th>\n",
       "      <td>105</td>\n",
       "    </tr>\n",
       "    <tr>\n",
       "      <th>MINISTERIO DA CIDADANIA</th>\n",
       "      <td>98</td>\n",
       "    </tr>\n",
       "    <tr>\n",
       "      <th>DEPARTAMENTO NAC.DE INFRAEST. DE TRANSP.</th>\n",
       "      <td>96</td>\n",
       "    </tr>\n",
       "    <tr>\n",
       "      <th>MINISTÉRIO CIÊNCIA TEC.INOV.COMUNICAÇÕES</th>\n",
       "      <td>92</td>\n",
       "    </tr>\n",
       "    <tr>\n",
       "      <th>MINISTERIO DA ECONOMIA</th>\n",
       "      <td>83</td>\n",
       "    </tr>\n",
       "    <tr>\n",
       "      <th>MINISTERIO DE MINAS E ENERGIA</th>\n",
       "      <td>79</td>\n",
       "    </tr>\n",
       "    <tr>\n",
       "      <th>MINISTERIO DA INFRAESTRUTURA</th>\n",
       "      <td>63</td>\n",
       "    </tr>\n",
       "    <tr>\n",
       "      <th>SUPERINTENDENCIA ZONA FRANCA DE MANAUS</th>\n",
       "      <td>57</td>\n",
       "    </tr>\n",
       "    <tr>\n",
       "      <th>MINISTERIO DO MEIO AMBIENTE</th>\n",
       "      <td>55</td>\n",
       "    </tr>\n",
       "    <tr>\n",
       "      <th>MINISTERIO DO ESPORTE</th>\n",
       "      <td>46</td>\n",
       "    </tr>\n",
       "    <tr>\n",
       "      <th>MINISTERIO DA SAUDE</th>\n",
       "      <td>38</td>\n",
       "    </tr>\n",
       "    <tr>\n",
       "      <th>ESTADOS/MUNICIPIOS/ADM.DIR-AUT/FUNDACOES</th>\n",
       "      <td>37</td>\n",
       "    </tr>\n",
       "    <tr>\n",
       "      <th>MINISTERIO DA FAZENDA</th>\n",
       "      <td>37</td>\n",
       "    </tr>\n",
       "    <tr>\n",
       "      <th>MINISTERIO DESENVOLV. SOCIAL E AGRÁRIO</th>\n",
       "      <td>37</td>\n",
       "    </tr>\n",
       "    <tr>\n",
       "      <th>INSTITUTO NAC. DE COLONIZ E REF AGRARIA</th>\n",
       "      <td>30</td>\n",
       "    </tr>\n",
       "    <tr>\n",
       "      <th>MINIST.DA AGRICULTURA,PECUARIA E ABAST.</th>\n",
       "      <td>29</td>\n",
       "    </tr>\n",
       "    <tr>\n",
       "      <th>MINISTERIO DOS DIREITOS HUMANOS</th>\n",
       "      <td>28</td>\n",
       "    </tr>\n",
       "    <tr>\n",
       "      <th>FUNDACAO NACIONAL DO INDIO</th>\n",
       "      <td>25</td>\n",
       "    </tr>\n",
       "    <tr>\n",
       "      <th>MINISTERIO DA CULTURA</th>\n",
       "      <td>24</td>\n",
       "    </tr>\n",
       "    <tr>\n",
       "      <th>INST. BR. MEIO AMB. REC. NAT. RENOVAVEIS</th>\n",
       "      <td>22</td>\n",
       "    </tr>\n",
       "    <tr>\n",
       "      <th>MINISTERIO DO DESENVOLVIMENTO SOCIAL</th>\n",
       "      <td>20</td>\n",
       "    </tr>\n",
       "    <tr>\n",
       "      <th>MINISTERIO DO PLANEJ. DESENV. E GESTAO</th>\n",
       "      <td>20</td>\n",
       "    </tr>\n",
       "    <tr>\n",
       "      <th>FUNDACAO JOAQUIM NABUCO</th>\n",
       "      <td>20</td>\n",
       "    </tr>\n",
       "    <tr>\n",
       "      <th>AGENCIA ESPACIAL BRASILEIRA</th>\n",
       "      <td>15</td>\n",
       "    </tr>\n",
       "    <tr>\n",
       "      <th>INSTITUTO BRASILEIRO DE TURISMO</th>\n",
       "      <td>15</td>\n",
       "    </tr>\n",
       "    <tr>\n",
       "      <th>FUNDO NACIONAL DE DESENVOLV. DA EDUCACAO</th>\n",
       "      <td>14</td>\n",
       "    </tr>\n",
       "    <tr>\n",
       "      <th>INSTITUTO NACIONAL DE SEGURO SOCIAL</th>\n",
       "      <td>14</td>\n",
       "    </tr>\n",
       "    <tr>\n",
       "      <th>ADVOCACIA-GERAL DA UNIAO</th>\n",
       "      <td>13</td>\n",
       "    </tr>\n",
       "    <tr>\n",
       "      <th>INST.NACIONAL DE EST.E PESQ.EDUCACIONAIS</th>\n",
       "      <td>11</td>\n",
       "    </tr>\n",
       "    <tr>\n",
       "      <th>CAIXA DE FINANCIAMENTO IMOB.AERONAUTICA</th>\n",
       "      <td>11</td>\n",
       "    </tr>\n",
       "    <tr>\n",
       "      <th>MINIST.TRANSP.,PORTOS E AVIACAO CIVIL</th>\n",
       "      <td>6</td>\n",
       "    </tr>\n",
       "    <tr>\n",
       "      <th>INSTITUTO CHICO MENDES CONSERV.BIODIVER.</th>\n",
       "      <td>4</td>\n",
       "    </tr>\n",
       "  </tbody>\n",
       "</table>\n",
       "</div>"
      ],
      "text/plain": [
       "                                          Denominação do órgão de atuação\n",
       "COMANDO DO EXERCITO                                                  1533\n",
       "PRESIDENCIA DA REPUBLICA                                             1147\n",
       "MINISTERIO DA DEFESA                                                  941\n",
       "COMANDO DA MARINHA                                                    481\n",
       "COMANDO DA AERONAUTICA                                                425\n",
       "MINISTERIO DA JUSTIÇA                                                 219\n",
       "MINISTERIO DA EDUCACAO                                                141\n",
       "VICE-PRESIDENCIA DA REPUBLICA                                         105\n",
       "MINISTERIO DA CIDADANIA                                                98\n",
       "DEPARTAMENTO NAC.DE INFRAEST. DE TRANSP.                               96\n",
       "MINISTÉRIO CIÊNCIA TEC.INOV.COMUNICAÇÕES                               92\n",
       "MINISTERIO DA ECONOMIA                                                 83\n",
       "MINISTERIO DE MINAS E ENERGIA                                          79\n",
       "MINISTERIO DA INFRAESTRUTURA                                           63\n",
       "SUPERINTENDENCIA ZONA FRANCA DE MANAUS                                 57\n",
       "MINISTERIO DO MEIO AMBIENTE                                            55\n",
       "MINISTERIO DO ESPORTE                                                  46\n",
       "MINISTERIO DA SAUDE                                                    38\n",
       "ESTADOS/MUNICIPIOS/ADM.DIR-AUT/FUNDACOES                               37\n",
       "MINISTERIO DA FAZENDA                                                  37\n",
       "MINISTERIO DESENVOLV. SOCIAL E AGRÁRIO                                 37\n",
       "INSTITUTO NAC. DE COLONIZ E REF AGRARIA                                30\n",
       "MINIST.DA AGRICULTURA,PECUARIA E ABAST.                                29\n",
       "MINISTERIO DOS DIREITOS HUMANOS                                        28\n",
       "FUNDACAO NACIONAL DO INDIO                                             25\n",
       "MINISTERIO DA CULTURA                                                  24\n",
       "INST. BR. MEIO AMB. REC. NAT. RENOVAVEIS                               22\n",
       "MINISTERIO DO DESENVOLVIMENTO SOCIAL                                   20\n",
       "MINISTERIO DO PLANEJ. DESENV. E GESTAO                                 20\n",
       "FUNDACAO JOAQUIM NABUCO                                                20\n",
       "AGENCIA ESPACIAL BRASILEIRA                                            15\n",
       "INSTITUTO BRASILEIRO DE TURISMO                                        15\n",
       "FUNDO NACIONAL DE DESENVOLV. DA EDUCACAO                               14\n",
       "INSTITUTO NACIONAL DE SEGURO SOCIAL                                    14\n",
       "ADVOCACIA-GERAL DA UNIAO                                               13\n",
       "INST.NACIONAL DE EST.E PESQ.EDUCACIONAIS                               11\n",
       "CAIXA DE FINANCIAMENTO IMOB.AERONAUTICA                                11\n",
       "MINIST.TRANSP.,PORTOS E AVIACAO CIVIL                                   6\n",
       "INSTITUTO CHICO MENDES CONSERV.BIODIVER.                                4"
      ]
     },
     "execution_count": 12,
     "metadata": {},
     "output_type": "execute_result"
    }
   ],
   "source": [
    "teste = df_oficiais_no_governo.copy()\n",
    "col = 'Denominação do órgão de atuação'\n",
    "teste[col] = teste[col].str.replace(('.*' + 'JUSTI.*A' + '.*'),\n",
    "                                    ('MINISTERIO DA JUSTIÇA'),\n",
    "                                    regex=True)\n",
    "teste[col] = teste[col].str.replace(\n",
    "    ('.*' + 'ESTADOS.*MUNICIPIOS' + '.*'),\n",
    "    ('ESTADOS/MUNICIPIOS/ADM.DIR-AUT/FUNDACOES'),\n",
    "    regex=True)\n",
    "teste[col] = teste[col].str.replace(\n",
    "    ('.*' + 'MINIST.DA CI' + '.*'),\n",
    "    ('MINISTÉRIO CIÊNCIA TEC.INOV.COMUNICAÇÕES'),\n",
    "    regex=True)\n",
    "teste[col] = teste[col].str.replace(('.*' + 'HUMANOS' + '.*'),\n",
    "                                    ('MINISTERIO DOS DIREITOS HUMANOS'),\n",
    "                                    regex=True)\n",
    "pd.DataFrame(teste[col].value_counts())"
   ]
  },
  {
   "cell_type": "code",
   "execution_count": 13,
   "metadata": {
    "ExecuteTime": {
     "end_time": "2020-01-10T22:18:44.452771Z",
     "start_time": "2020-01-10T22:18:44.425910Z"
    }
   },
   "outputs": [],
   "source": [
    "teste['Data início DAS'] = pd.to_datetime(teste['Data início DAS'],\n",
    "                                          format=\"%Y%m%d\")\n",
    "teste2 = teste[(teste['Data início DAS'] > '2018-12-31')\n",
    "               & (teste['Data início DAS'] < '2021-01-01')]"
   ]
  },
  {
   "cell_type": "code",
   "execution_count": 14,
   "metadata": {
    "ExecuteTime": {
     "end_time": "2020-01-10T22:18:44.498688Z",
     "start_time": "2020-01-10T22:18:44.458951Z"
    }
   },
   "outputs": [
    {
     "name": "stdout",
     "output_type": "stream",
     "text": [
      "(6131, 20)\n",
      "(2501, 20)\n",
      "(1969, 20)\n"
     ]
    }
   ],
   "source": [
    "print(teste.shape)\n",
    "print(teste2.shape)\n",
    "print(teste.drop_duplicates().shape)"
   ]
  },
  {
   "cell_type": "code",
   "execution_count": 15,
   "metadata": {
    "ExecuteTime": {
     "end_time": "2020-01-10T22:18:44.548131Z",
     "start_time": "2020-01-10T22:18:44.506013Z"
    }
   },
   "outputs": [],
   "source": [
    "teste = teste.drop_duplicates()"
   ]
  },
  {
   "cell_type": "code",
   "execution_count": 16,
   "metadata": {
    "ExecuteTime": {
     "end_time": "2020-01-10T22:18:44.764846Z",
     "start_time": "2020-01-10T22:18:44.557782Z"
    }
   },
   "outputs": [
    {
     "data": {
      "text/html": [
       "<div>\n",
       "<style scoped>\n",
       "    .dataframe tbody tr th:only-of-type {\n",
       "        vertical-align: middle;\n",
       "    }\n",
       "\n",
       "    .dataframe tbody tr th {\n",
       "        vertical-align: top;\n",
       "    }\n",
       "\n",
       "    .dataframe thead th {\n",
       "        text-align: right;\n",
       "    }\n",
       "</style>\n",
       "<table border=\"1\" class=\"dataframe\">\n",
       "  <thead>\n",
       "    <tr style=\"text-align: right;\">\n",
       "      <th></th>\n",
       "      <th>Nome</th>\n",
       "      <th>CPF_x</th>\n",
       "      <th>ORG_EXERCICIO</th>\n",
       "      <th>ORG_LOTACAO</th>\n",
       "      <th>DESCRICAO_CARGO</th>\n",
       "      <th>Descrição do cargo emprego</th>\n",
       "      <th>Situação servidor</th>\n",
       "      <th>Denominação do órgão de atuação</th>\n",
       "      <th>UF da UPAG de vinculação</th>\n",
       "      <th>Denominação unidade organizacional</th>\n",
       "      <th>UF da Residência</th>\n",
       "      <th>Cidade da residência</th>\n",
       "      <th>Data início DAS</th>\n",
       "      <th>DL nomeação</th>\n",
       "      <th>Valor da DAS</th>\n",
       "      <th>unique_id</th>\n",
       "      <th>Id_SERVIDOR_PORTAL</th>\n",
       "      <th>MATRICULA</th>\n",
       "      <th>UF_EXERCICIO</th>\n",
       "      <th>file</th>\n",
       "      <th>presidente</th>\n",
       "    </tr>\n",
       "  </thead>\n",
       "  <tbody>\n",
       "    <tr>\n",
       "      <th>0</th>\n",
       "      <td>IVO BARBOSA LEITE</td>\n",
       "      <td>***035598**</td>\n",
       "      <td>Comando da Marinha</td>\n",
       "      <td>Comando da Marinha</td>\n",
       "      <td>Suboficial</td>\n",
       "      <td>NaN</td>\n",
       "      <td>NOMEADO CARGO COMIS.</td>\n",
       "      <td>MINIST.DA AGRICULTURA,PECUARIA E ABAST.</td>\n",
       "      <td>DF</td>\n",
       "      <td>COORD GERAL ADM DE PESSOAS</td>\n",
       "      <td>GO</td>\n",
       "      <td>AGUAS LINDAS DE GOIAS</td>\n",
       "      <td>2019-03-13</td>\n",
       "      <td>PORT 001166/2019, SE PUB: DO 13MAR2019</td>\n",
       "      <td>5685,55</td>\n",
       "      <td>IVO BARBOSA LEITE***035598**</td>\n",
       "      <td>213879</td>\n",
       "      <td>057****</td>\n",
       "      <td>-1</td>\n",
       "      <td>201505</td>\n",
       "      <td>Jair Bolsonaro</td>\n",
       "    </tr>\n",
       "    <tr>\n",
       "      <th>1</th>\n",
       "      <td>IVO BARBOSA LEITE</td>\n",
       "      <td>***035598**</td>\n",
       "      <td>Comando da Marinha</td>\n",
       "      <td>Comando da Marinha</td>\n",
       "      <td>Suboficial</td>\n",
       "      <td>NaN</td>\n",
       "      <td>NOMEADO CARGO COMIS.</td>\n",
       "      <td>MINISTERIO DA JUSTIÇA</td>\n",
       "      <td>DF</td>\n",
       "      <td>MJ/SE/SAA/CGGP</td>\n",
       "      <td>GO</td>\n",
       "      <td>AGUAS LINDAS DE GOIAS</td>\n",
       "      <td>2019-01-03</td>\n",
       "      <td>PORT 000022/2019, SE PUB: DO 03JAN2019</td>\n",
       "      <td>10719,07</td>\n",
       "      <td>IVO BARBOSA LEITE***035598**</td>\n",
       "      <td>213879</td>\n",
       "      <td>057****</td>\n",
       "      <td>-1</td>\n",
       "      <td>201505</td>\n",
       "      <td>Jair Bolsonaro</td>\n",
       "    </tr>\n",
       "    <tr>\n",
       "      <th>2</th>\n",
       "      <td>IVO BARBOSA LEITE</td>\n",
       "      <td>***035598**</td>\n",
       "      <td>Comando da Marinha</td>\n",
       "      <td>Comando da Marinha</td>\n",
       "      <td>Suboficial</td>\n",
       "      <td>NaN</td>\n",
       "      <td>NOMEADO CARGO COMIS.</td>\n",
       "      <td>MINISTERIO DA DEFESA</td>\n",
       "      <td>DF</td>\n",
       "      <td>GERENCIA DE GESTAO DE PESSOAS</td>\n",
       "      <td>DF</td>\n",
       "      <td>BRASILIA</td>\n",
       "      <td>2017-03-07</td>\n",
       "      <td>PORT 000782/2017, DEADI PUB: DO 07MAR2017</td>\n",
       "      <td>5440,72</td>\n",
       "      <td>IVO BARBOSA LEITE***035598**</td>\n",
       "      <td>213879</td>\n",
       "      <td>057****</td>\n",
       "      <td>-1</td>\n",
       "      <td>201505</td>\n",
       "      <td>Michel Temer</td>\n",
       "    </tr>\n",
       "    <tr>\n",
       "      <th>3</th>\n",
       "      <td>IVO BARBOSA LEITE</td>\n",
       "      <td>***035598**</td>\n",
       "      <td>Comando da Marinha</td>\n",
       "      <td>Comando da Marinha</td>\n",
       "      <td>Suboficial</td>\n",
       "      <td>NaN</td>\n",
       "      <td>NOMEADO CARGO COMIS.</td>\n",
       "      <td>MINISTERIO DA JUSTIÇA</td>\n",
       "      <td>DF</td>\n",
       "      <td>MJ/SE/SAA/CGGP</td>\n",
       "      <td>DF</td>\n",
       "      <td>BRASILIA</td>\n",
       "      <td>2018-05-22</td>\n",
       "      <td>PORTARIA Nº181/CASA CIVIL DOU 22MAI2018</td>\n",
       "      <td>9926,60</td>\n",
       "      <td>IVO BARBOSA LEITE***035598**</td>\n",
       "      <td>213879</td>\n",
       "      <td>057****</td>\n",
       "      <td>-1</td>\n",
       "      <td>201505</td>\n",
       "      <td>Michel Temer</td>\n",
       "    </tr>\n",
       "    <tr>\n",
       "      <th>4</th>\n",
       "      <td>IVO BARBOSA LEITE</td>\n",
       "      <td>***035598**</td>\n",
       "      <td>Comando da Marinha</td>\n",
       "      <td>Comando da Marinha</td>\n",
       "      <td>Suboficial</td>\n",
       "      <td>NaN</td>\n",
       "      <td>NOMEADO CARGO COMIS.</td>\n",
       "      <td>MINISTERIO DA DEFESA</td>\n",
       "      <td>DF</td>\n",
       "      <td>GERENCIA DE GESTAO DE PESSOAS</td>\n",
       "      <td>DF</td>\n",
       "      <td>BRASILIA</td>\n",
       "      <td>2017-03-07</td>\n",
       "      <td>PORT 000782/2017, DEADI PUB: DO 07MAR2017</td>\n",
       "      <td>5194,01</td>\n",
       "      <td>IVO BARBOSA LEITE***035598**</td>\n",
       "      <td>213879</td>\n",
       "      <td>057****</td>\n",
       "      <td>-1</td>\n",
       "      <td>201505</td>\n",
       "      <td>Michel Temer</td>\n",
       "    </tr>\n",
       "  </tbody>\n",
       "</table>\n",
       "</div>"
      ],
      "text/plain": [
       "                Nome        CPF_x       ORG_EXERCICIO         ORG_LOTACAO  \\\n",
       "0  IVO BARBOSA LEITE  ***035598**  Comando da Marinha  Comando da Marinha   \n",
       "1  IVO BARBOSA LEITE  ***035598**  Comando da Marinha  Comando da Marinha   \n",
       "2  IVO BARBOSA LEITE  ***035598**  Comando da Marinha  Comando da Marinha   \n",
       "3  IVO BARBOSA LEITE  ***035598**  Comando da Marinha  Comando da Marinha   \n",
       "4  IVO BARBOSA LEITE  ***035598**  Comando da Marinha  Comando da Marinha   \n",
       "\n",
       "  DESCRICAO_CARGO Descrição do cargo emprego     Situação servidor  \\\n",
       "0      Suboficial                        NaN  NOMEADO CARGO COMIS.   \n",
       "1      Suboficial                        NaN  NOMEADO CARGO COMIS.   \n",
       "2      Suboficial                        NaN  NOMEADO CARGO COMIS.   \n",
       "3      Suboficial                        NaN  NOMEADO CARGO COMIS.   \n",
       "4      Suboficial                        NaN  NOMEADO CARGO COMIS.   \n",
       "\n",
       "           Denominação do órgão de atuação UF da UPAG de vinculação  \\\n",
       "0  MINIST.DA AGRICULTURA,PECUARIA E ABAST.                       DF   \n",
       "1                    MINISTERIO DA JUSTIÇA                       DF   \n",
       "2                     MINISTERIO DA DEFESA                       DF   \n",
       "3                    MINISTERIO DA JUSTIÇA                       DF   \n",
       "4                     MINISTERIO DA DEFESA                       DF   \n",
       "\n",
       "  Denominação unidade organizacional UF da Residência   Cidade da residência  \\\n",
       "0         COORD GERAL ADM DE PESSOAS               GO  AGUAS LINDAS DE GOIAS   \n",
       "1                     MJ/SE/SAA/CGGP               GO  AGUAS LINDAS DE GOIAS   \n",
       "2      GERENCIA DE GESTAO DE PESSOAS               DF               BRASILIA   \n",
       "3                     MJ/SE/SAA/CGGP               DF               BRASILIA   \n",
       "4      GERENCIA DE GESTAO DE PESSOAS               DF               BRASILIA   \n",
       "\n",
       "  Data início DAS                                DL nomeação Valor da DAS  \\\n",
       "0      2019-03-13     PORT 001166/2019, SE PUB: DO 13MAR2019      5685,55   \n",
       "1      2019-01-03     PORT 000022/2019, SE PUB: DO 03JAN2019     10719,07   \n",
       "2      2017-03-07  PORT 000782/2017, DEADI PUB: DO 07MAR2017      5440,72   \n",
       "3      2018-05-22    PORTARIA Nº181/CASA CIVIL DOU 22MAI2018      9926,60   \n",
       "4      2017-03-07  PORT 000782/2017, DEADI PUB: DO 07MAR2017      5194,01   \n",
       "\n",
       "                      unique_id  Id_SERVIDOR_PORTAL MATRICULA  UF_EXERCICIO  \\\n",
       "0  IVO BARBOSA LEITE***035598**              213879   057****            -1   \n",
       "1  IVO BARBOSA LEITE***035598**              213879   057****            -1   \n",
       "2  IVO BARBOSA LEITE***035598**              213879   057****            -1   \n",
       "3  IVO BARBOSA LEITE***035598**              213879   057****            -1   \n",
       "4  IVO BARBOSA LEITE***035598**              213879   057****            -1   \n",
       "\n",
       "     file      presidente  \n",
       "0  201505  Jair Bolsonaro  \n",
       "1  201505  Jair Bolsonaro  \n",
       "2  201505    Michel Temer  \n",
       "3  201505    Michel Temer  \n",
       "4  201505    Michel Temer  "
      ]
     },
     "execution_count": 16,
     "metadata": {},
     "output_type": "execute_result"
    }
   ],
   "source": [
    "teste_teste = teste.copy()\n",
    "Dilma_Rousseff = (teste['Data início DAS'] >=\n",
    "                  '2011-01-01') & (teste['Data início DAS'] < '2016-08-31')\n",
    "Michel_Temer = (teste['Data início DAS'] >=\n",
    "                '2016-08-01') & (teste['Data início DAS'] < '2019-01-01')\n",
    "Jair_Bolsonaro = (teste['Data início DAS'] >=\n",
    "                  '2019-01-01') & (teste['Data início DAS'] < '2022-01-01')\n",
    "\n",
    "teste.loc[Dilma_Rousseff, 'presidente'] = 'Dilma Rousseff'\n",
    "teste.loc[Michel_Temer, 'presidente'] = 'Michel Temer'\n",
    "teste.loc[Jair_Bolsonaro, 'presidente'] = 'Jair Bolsonaro'\n",
    "\n",
    "teste.head()"
   ]
  },
  {
   "cell_type": "code",
   "execution_count": 17,
   "metadata": {
    "ExecuteTime": {
     "end_time": "2020-01-10T22:18:46.826381Z",
     "start_time": "2020-01-10T22:18:44.777647Z"
    }
   },
   "outputs": [
    {
     "name": "stderr",
     "output_type": "stream",
     "text": [
      "/Users/mattosoerick/anaconda3/lib/python3.6/site-packages/pandas/plotting/_converter.py:129: FutureWarning: Using an implicitly registered datetime converter for a matplotlib plotting method. The converter was registered by pandas on import. Future versions of pandas will require you to explicitly register matplotlib converters.\n",
      "\n",
      "To register the converters:\n",
      "\t>>> from pandas.plotting import register_matplotlib_converters\n",
      "\t>>> register_matplotlib_converters()\n",
      "  warnings.warn(msg, FutureWarning)\n"
     ]
    },
    {
     "name": "stdout",
     "output_type": "stream",
     "text": [
      "presidente\n",
      "Dilma Rousseff    132\n",
      "Jair Bolsonaro    863\n",
      "Michel Temer      974\n",
      "Name: Nome, dtype: int64\n"
     ]
    },
    {
     "data": {
      "image/png": "[encoded data removed]",
      "text/plain": [
       "<Figure size 1080x288 with 1 Axes>"
      ]
     },
     "metadata": {},
     "output_type": "display_data"
    }
   ],
   "source": [
    "import seaborn as sns\n",
    "sns.set()\n",
    "plot_df = pd.DataFrame(\n",
    "    teste.groupby(['Data início DAS',\n",
    "                   'presidente'])['Nome'].count()).reset_index()\n",
    "plt.figure(figsize=(15, 4))\n",
    "sns.lineplot(x='Data início DAS',\n",
    "             y='Nome',\n",
    "             hue=\"presidente\",\n",
    "             markers=\"o\",\n",
    "             data=plot_df)\n",
    "print(teste.groupby(['presidente'])['Nome'].count())"
   ]
  },
  {
   "cell_type": "code",
   "execution_count": 18,
   "metadata": {
    "ExecuteTime": {
     "end_time": "2020-01-10T22:18:46.885577Z",
     "start_time": "2020-01-10T22:18:46.831603Z"
    }
   },
   "outputs": [
    {
     "data": {
      "text/html": [
       "<div>\n",
       "<style scoped>\n",
       "    .dataframe tbody tr th:only-of-type {\n",
       "        vertical-align: middle;\n",
       "    }\n",
       "\n",
       "    .dataframe tbody tr th {\n",
       "        vertical-align: top;\n",
       "    }\n",
       "\n",
       "    .dataframe thead th {\n",
       "        text-align: right;\n",
       "    }\n",
       "</style>\n",
       "<table border=\"1\" class=\"dataframe\">\n",
       "  <thead>\n",
       "    <tr style=\"text-align: right;\">\n",
       "      <th></th>\n",
       "      <th>Data início DAS</th>\n",
       "      <th>presidente</th>\n",
       "      <th>Nome</th>\n",
       "    </tr>\n",
       "  </thead>\n",
       "  <tbody>\n",
       "    <tr>\n",
       "      <th>21</th>\n",
       "      <td>2019-01-30</td>\n",
       "      <td>Jair Bolsonaro</td>\n",
       "      <td>97</td>\n",
       "    </tr>\n",
       "    <tr>\n",
       "      <th>25</th>\n",
       "      <td>2019-02-05</td>\n",
       "      <td>Jair Bolsonaro</td>\n",
       "      <td>29</td>\n",
       "    </tr>\n",
       "    <tr>\n",
       "      <th>24</th>\n",
       "      <td>2019-02-04</td>\n",
       "      <td>Jair Bolsonaro</td>\n",
       "      <td>20</td>\n",
       "    </tr>\n",
       "    <tr>\n",
       "      <th>40</th>\n",
       "      <td>2019-03-01</td>\n",
       "      <td>Jair Bolsonaro</td>\n",
       "      <td>16</td>\n",
       "    </tr>\n",
       "    <tr>\n",
       "      <th>20</th>\n",
       "      <td>2019-01-29</td>\n",
       "      <td>Jair Bolsonaro</td>\n",
       "      <td>15</td>\n",
       "    </tr>\n",
       "  </tbody>\n",
       "</table>\n",
       "</div>"
      ],
      "text/plain": [
       "   Data início DAS      presidente  Nome\n",
       "21      2019-01-30  Jair Bolsonaro    97\n",
       "25      2019-02-05  Jair Bolsonaro    29\n",
       "24      2019-02-04  Jair Bolsonaro    20\n",
       "40      2019-03-01  Jair Bolsonaro    16\n",
       "20      2019-01-29  Jair Bolsonaro    15"
      ]
     },
     "execution_count": 18,
     "metadata": {},
     "output_type": "execute_result"
    }
   ],
   "source": [
    "Jair_Bolsonaro = (teste['Data início DAS'] >=\n",
    "                  '2019-01-01') & (teste['Data início DAS'] < '2022-01-01')\n",
    "bozonaro = teste[Jair_Bolsonaro]\n",
    "bozonaro = pd.DataFrame(\n",
    "    bozonaro.groupby(['Data início DAS',\n",
    "                      'presidente'])['Nome'].count()).reset_index()\n",
    "bozonaro.sort_values(\"Nome\", ascending=False).head()"
   ]
  },
  {
   "cell_type": "code",
   "execution_count": 19,
   "metadata": {
    "ExecuteTime": {
     "end_time": "2020-01-10T22:18:46.970733Z",
     "start_time": "2020-01-10T22:18:46.888518Z"
    }
   },
   "outputs": [],
   "source": [
    "# Save to a compress format\n",
    "teste[Jair_Bolsonaro].to_csv('data/df_cc.csv.gz', compression='gzip')"
   ]
  },
  {
   "cell_type": "code",
   "execution_count": null,
   "metadata": {},
   "outputs": [],
   "source": []
  }
 ],
 "metadata": {
  "kernelspec": {
   "display_name": "Python 3",
   "language": "python",
   "name": "python3"
  },
  "language_info": {
   "codemirror_mode": {
    "name": "ipython",
    "version": 3
   },
   "file_extension": ".py",
   "mimetype": "text/x-python",
   "name": "python",
   "nbconvert_exporter": "python",
   "pygments_lexer": "ipython3",
   "version": "3.6.4"
  },
  "toc": {
   "base_numbering": 1,
   "nav_menu": {},
   "number_sections": true,
   "sideBar": true,
   "skip_h1_title": false,
   "title_cell": "Table of Contents",
   "title_sidebar": "Contents",
   "toc_cell": false,
   "toc_position": {},
   "toc_section_display": true,
   "toc_window_display": false
  },
  "varInspector": {
   "cols": {
    "lenName": 16,
    "lenType": 16,
    "lenVar": 40
   },
   "kernels_config": {
    "python": {
     "delete_cmd_postfix": "",
     "delete_cmd_prefix": "del ",
     "library": "var_list.py",
     "varRefreshCmd": "print(var_dic_list())"
    },
    "r": {
     "delete_cmd_postfix": ") ",
     "delete_cmd_prefix": "rm(",
     "library": "var_list.r",
     "varRefreshCmd": "cat(var_dic_list()) "
    }
   },
   "types_to_exclude": [
    "module",
    "function",
    "builtin_function_or_method",
    "instance",
    "_Feature"
   ],
   "window_display": false
  }
 },
 "nbformat": 4,
 "nbformat_minor": 2
}
