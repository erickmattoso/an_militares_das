{
 "cells": [
  {
   "cell_type": "markdown",
   "metadata": {},
   "source": [
    "# scrapping servidores públicos DAS\n",
    "Esse notebook tem por objetivo fazer uma coleta de dados do [PORTAL DA TRANSPARÊNCIA](http://www.portaltransparencia.gov.br/).<br>\n",
    "Os dados aqui buscados são informações em formato `.CSV` dos __servidores públicos DAS(Direção e Assessoramento Superiores).__"
   ]
  },
  {
   "cell_type": "code",
   "execution_count": 1,
   "metadata": {
    "ExecuteTime": {
     "end_time": "2020-01-10T20:27:52.937445Z",
     "start_time": "2020-01-10T20:27:52.653684Z"
    }
   },
   "outputs": [],
   "source": [
    "%run libs.py"
   ]
  },
  {
   "cell_type": "code",
   "execution_count": 2,
   "metadata": {
    "ExecuteTime": {
     "end_time": "2020-01-10T20:27:52.952706Z",
     "start_time": "2020-01-10T20:27:52.940786Z"
    }
   },
   "outputs": [],
   "source": [
    "path = 'cargodas'\n",
    "os.mkdir(path)"
   ]
  },
  {
   "cell_type": "code",
   "execution_count": 3,
   "metadata": {
    "ExecuteTime": {
     "end_time": "2020-01-10T20:27:52.973512Z",
     "start_time": "2020-01-10T20:27:52.956104Z"
    }
   },
   "outputs": [],
   "source": [
    "def download_url(url):\n",
    "    file_name = url.split('/')[-1]\n",
    "    r = requests.get(url, stream=True)\n",
    "    if r.status_code == requests.codes.ok:\n",
    "        print('downloading: ', file_name, '\\n')\n",
    "        urllib.request.urlretrieve(url, path + '/' + file_name)\n",
    "    else:\n",
    "        print('Sorry, url not found.')"
   ]
  },
  {
   "cell_type": "code",
   "execution_count": 4,
   "metadata": {
    "ExecuteTime": {
     "end_time": "2020-01-10T20:27:52.999509Z",
     "start_time": "2020-01-10T20:27:52.981116Z"
    }
   },
   "outputs": [],
   "source": [
    "urls = []\n",
    "for ano in range(2013, 2020):\n",
    "    for mes in [\"%.2d\" % mes for mes in range(1, 13)]:\n",
    "        url = 'http://repositorio.dados.gov.br/segrt/CARGODAS_' + str(\n",
    "            mes) + str(ano) + '.csv'\n",
    "\n",
    "        urls.append(url)"
   ]
  },
  {
   "cell_type": "code",
   "execution_count": 5,
   "metadata": {
    "ExecuteTime": {
     "end_time": "2020-01-10T20:28:37.994779Z",
     "start_time": "2020-01-10T20:27:53.007381Z"
    },
    "scrolled": true
   },
   "outputs": [
    {
     "name": "stdout",
     "output_type": "stream",
     "text": [
      "Sorry, url not found.Sorry, url not found.Sorry, url not found.Sorry, url not found.Sorry, url not found.\n",
      "\n",
      "\n",
      "\n",
      "\n",
      "results =  None\n",
      "results =  None\n",
      "results =  None\n",
      "results =  None\n",
      "results =  None\n",
      "Sorry, url not found.Sorry, url not found.\n",
      "\n",
      "Sorry, url not found.Sorry, url not found.\n",
      "results = \n",
      " None\n",
      "results =  None\n",
      "results =  None\n",
      "results =  None\n",
      "Sorry, url not found.\n",
      "results =  None\n",
      "Sorry, url not found.Sorry, url not found.Sorry, url not found.\n",
      "\n",
      "\n",
      "results = Sorry, url not found.Sorry, url not found.\n",
      " \n",
      "None\n",
      "results =  None\n",
      "results =  None\n",
      "results =  None\n",
      "results =  None\n",
      "Sorry, url not found.\n",
      "Sorry, url not found.results = \n",
      " None\n",
      "Sorry, url not found.\n",
      "Sorry, url not found.\n",
      "Sorry, url not found.results = \n",
      " None\n",
      "results =  None\n",
      "results =  None\n",
      "results =  None\n",
      "Sorry, url not found.\n",
      "results =  None\n",
      "Sorry, url not found.Sorry, url not found.\n",
      "\n",
      "Sorry, url not found.Sorry, url not found.\n",
      "\n",
      "results =  None\n",
      "results =  None\n",
      "results =  None\n",
      "results =  None\n",
      "Sorry, url not found.\n",
      "results =  None\n",
      "Sorry, url not found.\n",
      "results =  None\n",
      "Sorry, url not found.Sorry, url not found.\n",
      "\n",
      "Sorry, url not found.\n",
      "results =  None\n",
      "results =  None\n",
      "results =  None\n",
      "Sorry, url not found.\n",
      "results =  None\n",
      "Sorry, url not found.\n",
      "results =  None\n",
      "Sorry, url not found.\n",
      "results =  None\n",
      "Sorry, url not found.Sorry, url not found.\n",
      "\n",
      "results =  None\n",
      "results =  None\n",
      "Sorry, url not found.\n",
      "results =  None\n",
      "Sorry, url not found.\n",
      "results =  None\n",
      "Sorry, url not found.\n",
      "Sorry, url not found.\n",
      "Sorry, url not found.\n",
      "results =  None\n",
      "results =  None\n",
      "results =  None\n",
      "Sorry, url not found.\n",
      "results =  None\n",
      "Sorry, url not found.\n",
      "results =  None\n",
      "Sorry, url not found.Sorry, url not found.Sorry, url not found.\n",
      "\n",
      "\n",
      "results =  None\n",
      "results =  None\n",
      "results =  None\n",
      "Sorry, url not found.\n",
      "results =  None\n",
      "Sorry, url not found.\n",
      "results =  None\n",
      "Sorry, url not found.\n",
      "downloading: results =  CARGODAS_022017.csv \n",
      "\n",
      " None\n",
      "downloading:  CARGODAS_012017.csv \n",
      "\n",
      "downloading:  CARGODAS_042017.csv \n",
      "\n",
      "downloading:  CARGODAS_032017.csv \n",
      "\n",
      "downloading:  CARGODAS_052017.csv \n",
      "\n",
      "results =  None\n",
      "downloading:  CARGODAS_062017.csv \n",
      "\n",
      "results =  None\n",
      "results =  None\n",
      "downloading:  CARGODAS_072017.csv \n",
      "\n",
      "downloading:  CARGODAS_082017.csv \n",
      "\n",
      "results =  None\n",
      "downloading:  CARGODAS_092017.csv \n",
      "\n",
      "results =  None\n",
      "downloading:  CARGODAS_102017.csv \n",
      "\n",
      "results =  None\n",
      "downloading:  CARGODAS_112017.csv \n",
      "\n",
      "results =  None\n",
      "downloading:  CARGODAS_122017.csv \n",
      "\n",
      "results =  None\n",
      "downloading:  CARGODAS_012018.csv \n",
      "\n",
      "results =  None\n",
      "results =  None\n",
      "downloading:  CARGODAS_022018.csv \n",
      "\n",
      "downloading:  CARGODAS_032018.csv \n",
      "\n",
      "results =  None\n",
      "downloading:  CARGODAS_042018.csv \n",
      "\n",
      "results =  None\n",
      "downloading:  CARGODAS_052018.csv \n",
      "\n",
      "results =  None\n",
      "downloading:  CARGODAS_062018.csv \n",
      "\n",
      "results =  None\n",
      "downloading:  CARGODAS_072018.csv \n",
      "\n",
      "results =  None\n",
      "downloading:  CARGODAS_082018.csv \n",
      "\n",
      "results =  None\n",
      "Sorry, url not found.\n",
      "results =  None\n",
      "downloading:  CARGODAS_102018.csv \n",
      "\n",
      "results =  None\n",
      "downloading:  CARGODAS_112018.csv \n",
      "\n",
      "results =  None\n",
      "downloading:  CARGODAS_122018.csv \n",
      "\n",
      "results =  None\n",
      "downloading:  CARGODAS_012019.csv \n",
      "\n",
      "results =  None\n",
      "downloading:  CARGODAS_022019.csv \n",
      "\n",
      "results =  None\n",
      "downloading:  CARGODAS_032019.csv \n",
      "\n",
      "results =  None\n",
      "downloading:  CARGODAS_042019.csv \n",
      "\n",
      "results =  None\n",
      "downloading:  CARGODAS_052019.csv \n",
      "\n",
      "results =  None\n",
      "downloading:  CARGODAS_062019.csv \n",
      "\n",
      "results =  None\n",
      "downloading:  CARGODAS_072019.csv \n",
      "\n",
      "results =  None\n",
      "downloading:  CARGODAS_082019.csv \n",
      "\n",
      "results =  None\n",
      "downloading:  CARGODAS_092019.csv \n",
      "\n",
      "results =  None\n",
      "downloading:  CARGODAS_102019.csv \n",
      "\n",
      "results =  None\n",
      "downloading:  CARGODAS_112019.csv \n",
      "\n",
      "results =  None\n",
      "downloading:  CARGODAS_122019.csv \n",
      "\n",
      "results =  None\n",
      "results =  None\n",
      "results =  None\n",
      "results =  None\n",
      "results =  None\n"
     ]
    }
   ],
   "source": [
    "results = ThreadPool(5).imap_unordered(download_url, urls)\n",
    "for r in results:\n",
    "    print('results = ', r)"
   ]
  },
  {
   "cell_type": "code",
   "execution_count": null,
   "metadata": {},
   "outputs": [],
   "source": []
  }
 ],
 "metadata": {
  "kernelspec": {
   "display_name": "Python 3",
   "language": "python",
   "name": "python3"
  },
  "language_info": {
   "codemirror_mode": {
    "name": "ipython",
    "version": 3
   },
   "file_extension": ".py",
   "mimetype": "text/x-python",
   "name": "python",
   "nbconvert_exporter": "python",
   "pygments_lexer": "ipython3",
   "version": "3.6.4"
  },
  "toc": {
   "base_numbering": 1,
   "nav_menu": {},
   "number_sections": true,
   "sideBar": true,
   "skip_h1_title": false,
   "title_cell": "Table of Contents",
   "title_sidebar": "Contents",
   "toc_cell": false,
   "toc_position": {},
   "toc_section_display": true,
   "toc_window_display": false
  },
  "varInspector": {
   "cols": {
    "lenName": 16,
    "lenType": 16,
    "lenVar": 40
   },
   "kernels_config": {
    "python": {
     "delete_cmd_postfix": "",
     "delete_cmd_prefix": "del ",
     "library": "var_list.py",
     "varRefreshCmd": "print(var_dic_list())"
    },
    "r": {
     "delete_cmd_postfix": ") ",
     "delete_cmd_prefix": "rm(",
     "library": "var_list.r",
     "varRefreshCmd": "cat(var_dic_list()) "
    }
   },
   "types_to_exclude": [
    "module",
    "function",
    "builtin_function_or_method",
    "instance",
    "_Feature"
   ],
   "window_display": false
  }
 },
 "nbformat": 4,
 "nbformat_minor": 2
}
