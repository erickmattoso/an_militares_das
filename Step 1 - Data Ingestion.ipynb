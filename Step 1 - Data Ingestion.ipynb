{
 "cells": [
  {
   "cell_type": "markdown",
   "metadata": {},
   "source": [
    "# Militares em cargos comissionados\n",
    "\n",
    "Esse notebook tem por objetivo fazer um estudo dos __servidores públicos militares brasileiros__ que estão atuando em atividades civis através de __cargos comissionados__. Todos os dados aqui presentes são dados públicos disponíveis no site do [PORTAL DA TRANSPARÊNCIA](http://www.portaltransparencia.gov.br/)."
   ]
  },
  {
   "cell_type": "markdown",
   "metadata": {},
   "source": [
    "# Bibliotecas"
   ]
  },
  {
   "cell_type": "code",
   "execution_count": null,
   "metadata": {
    "ExecuteTime": {
     "end_time": "2020-01-10T22:04:58.513676Z",
     "start_time": "2020-01-10T22:04:57.383552Z"
    }
   },
   "outputs": [],
   "source": [
    "%run libs.py"
   ]
  },
  {
   "cell_type": "markdown",
   "metadata": {},
   "source": [
    "# Ingestão de dados"
   ]
  },
  {
   "cell_type": "markdown",
   "metadata": {},
   "source": [
    "## dataframe militares"
   ]
  },
  {
   "cell_type": "markdown",
   "metadata": {},
   "source": [
    "http://www.portaltransparencia.gov.br/download-de-dados/servidores"
   ]
  },
  {
   "cell_type": "code",
   "execution_count": null,
   "metadata": {
    "ExecuteTime": {
     "end_time": "2020-01-10T22:04:58.559790Z",
     "start_time": "2020-01-10T22:04:58.516284Z"
    }
   },
   "outputs": [],
   "source": [
    "def create_dataframe(folder, csv_file_name, df_ind_name,sep='_'):\n",
    "    \n",
    "    # listar todos os arquivos zip no diretório selecionado\n",
    "    files = os.listdir(folder)\n",
    "    \n",
    "    # lista que armazenará todos os dataframes\n",
    "    dfs_list=[]\n",
    "    \n",
    "    # Loop para cada arquivo encontrado no diretório selecionado\n",
    "    for zip_files in files:\n",
    "\n",
    "        # este módulo fornece ferramentas para criar, ler, escrever, anexar e listar um arquivo ZIP    \n",
    "        zf = zipfile.ZipFile(folder+'/'+zip_files)\n",
    "\n",
    "        # cria str com o nome do arquivo csv\n",
    "        csv_file = (zip_files[0:6] + '_' + csv_file_name)\n",
    "        \n",
    "        # lê arquivo csv dentro do zip e transforma em dataframe.\n",
    "        globals()[df_ind_name + zip_files[0:6]] = pd.read_csv(zf.open(csv_file), encoding='latin-1', sep=';')\n",
    "\n",
    "        # adiciona uma coluna que conterá informação do nome do arquivo\n",
    "        globals()[df_ind_name + zip_files[0:6]]['file'] = zip_files[0:6]\n",
    "\n",
    "        # lista que armazenará todos os dataframes\n",
    "        dfs_list.append(globals()[df_ind_name + zip_files[0:6]])\n",
    "        \n",
    "        # concatenar lista de de dataframes\n",
    "        df_final = pd.concat(dfs_list)\n",
    "        \n",
    "        return df_final"
   ]
  },
  {
   "cell_type": "code",
   "execution_count": null,
   "metadata": {
    "ExecuteTime": {
     "end_time": "2020-01-10T22:05:04.287891Z",
     "start_time": "2020-01-10T22:04:58.562252Z"
    },
    "scrolled": true
   },
   "outputs": [],
   "source": [
    "df_militares = create_dataframe('data/servidores_militares', 'CadastroMilitares.csv', 'df_mil')\n",
    "df_militares.sample(3)"
   ]
  },
  {
   "cell_type": "code",
   "execution_count": null,
   "metadata": {
    "ExecuteTime": {
     "end_time": "2020-01-10T22:05:04.309777Z",
     "start_time": "2020-01-10T22:05:04.296380Z"
    }
   },
   "outputs": [],
   "source": [
    "# Temos um DataFrame com o seguinte shape\n",
    "df_militares.shape"
   ]
  },
  {
   "cell_type": "code",
   "execution_count": null,
   "metadata": {
    "ExecuteTime": {
     "end_time": "2020-01-10T22:05:27.372060Z",
     "start_time": "2020-01-10T22:05:04.314696Z"
    }
   },
   "outputs": [],
   "source": [
    "# Save to a compress format\n",
    "df_militares.to_csv('data/df_militares.csv.gz', compression='gzip')"
   ]
  },
  {
   "cell_type": "code",
   "execution_count": null,
   "metadata": {
    "ExecuteTime": {
     "end_time": "2020-01-10T22:05:27.874176Z",
     "start_time": "2020-01-10T22:05:27.375444Z"
    }
   },
   "outputs": [],
   "source": [
    "# os arquivos originais não serão mais necessários, podemos deletá-los\n",
    "path = 'data/servidores_militares_'\n",
    "shutil.rmtree(path)"
   ]
  },
  {
   "cell_type": "markdown",
   "metadata": {},
   "source": [
    "## dataframe DAS (Direção e Assessoramento Superiores)"
   ]
  },
  {
   "cell_type": "markdown",
   "metadata": {},
   "source": [
    "http://repositorio.dados.gov.br/dataset/direcao-e-assessoramento-superiores-das\n",
    "\n",
    "Arquivos estão disponíveis em format `.CSV`. Para isso iremos juntar todos em apenas 1 único DF. Como temos diversos problemas nos arquivos, iremos criar um DF de apenas uma coluna para ajustar a formatação e depois separar em diversas colunas."
   ]
  },
  {
   "cell_type": "code",
   "execution_count": null,
   "metadata": {
    "ExecuteTime": {
     "end_time": "2020-01-10T22:08:53.029592Z",
     "start_time": "2020-01-10T22:08:53.013534Z"
    }
   },
   "outputs": [],
   "source": [
    "def create_dataframe(folder):\n",
    "    # listar todos os arquivos no diretório selecionado\n",
    "    files = os.listdir(folder)\n",
    "\n",
    "    # lista que armazenará todos os dataframes\n",
    "    dfs_list=[]\n",
    "    \n",
    "    # leitura dinâmica de files\n",
    "    for file in files:\n",
    "        \n",
    "        # ler CSV eadicionar a uma lista\n",
    "        dfs_list.append(pd.read_csv((folder+'/'+file),encoding='latin-1',sep='separator',header=None,engine='python'))#\n",
    "    \n",
    "    # concatenar todos os DFs dentro da lista\n",
    "    return pd.concat(dfs_list)"
   ]
  },
  {
   "cell_type": "code",
   "execution_count": null,
   "metadata": {
    "ExecuteTime": {
     "end_time": "2020-01-10T22:08:55.615543Z",
     "start_time": "2020-01-10T22:08:55.585622Z"
    }
   },
   "outputs": [],
   "source": [
    "# DataFrame contém diversos problemas que precisam ser ajustados\n",
    "df_DAS_to_fix = create_dataframe('data/cargodas')"
   ]
  },
  {
   "cell_type": "code",
   "execution_count": null,
   "metadata": {
    "ExecuteTime": {
     "end_time": "2020-01-10T22:08:41.254128Z",
     "start_time": "2020-01-10T22:08:41.205472Z"
    }
   },
   "outputs": [],
   "source": [
    "# colunas para corrigir\n",
    "col_to_fix = df_DAS_to_fix.columns[0]"
   ]
  },
  {
   "cell_type": "markdown",
   "metadata": {},
   "source": [
    "### Remover Caracteres que causam problemas na criação de novas colunas"
   ]
  },
  {
   "cell_type": "code",
   "execution_count": null,
   "metadata": {
    "ExecuteTime": {
     "end_time": "2020-01-10T22:08:41.520729Z",
     "start_time": "2020-01-10T22:08:41.484768Z"
    }
   },
   "outputs": [],
   "source": [
    "df_DAS_to_fix[col_to_fix] = df_DAS_to_fix[col_to_fix].str.replace('; BS', ', BS',regex=True)\n",
    "df_DAS_to_fix[col_to_fix] = df_DAS_to_fix[col_to_fix].str.replace('; D.O.U.', ', D.O.U.',regex=True)\n",
    "df_DAS_to_fix[col_to_fix] = df_DAS_to_fix[col_to_fix].str.replace('; DOU .*; .*\\/.*\\/',', DOU .*, .*\\/.*\\/',regex=True)\n",
    "df_DAS_to_fix[col_to_fix] = df_DAS_to_fix[col_to_fix].str.replace('; DOU', ', DOU',regex=True)\n",
    "df_DAS_to_fix[col_to_fix] = df_DAS_to_fix[col_to_fix].str.replace('; NO DOU', ', NO DOU',regex=True)\n",
    "df_DAS_to_fix[col_to_fix] = df_DAS_to_fix[col_to_fix].str.replace('; PUBLICADA NO DOU', ', PUBLICADA NO DOU',regex=True)\n",
    "df_DAS_to_fix[col_to_fix] = df_DAS_to_fix[col_to_fix].str.replace(';05/02/2018', ',05/02/2018',regex=True)\n",
    "df_DAS_to_fix[col_to_fix] = df_DAS_to_fix[col_to_fix].str.replace(';        ;', ';',regex=True)"
   ]
  },
  {
   "cell_type": "code",
   "execution_count": null,
   "metadata": {
    "ExecuteTime": {
     "end_time": "2020-01-10T22:08:41.632290Z",
     "start_time": "2020-01-10T22:08:41.626Z"
    }
   },
   "outputs": [],
   "source": [
    "# Separar coluna única em diversas colunas\n",
    "df_DAS = df_DAS_to_fix[col_to_fix].str.split(';', expand = True)\n",
    "\n",
    "# Usar a primeira linha como coluna \n",
    "df_DAS.columns = df_DAS.iloc[0]\n",
    "\n",
    "# Como usamos header=None, precisamos remover todas as linhas do header original\n",
    "df_DAS = df_DAS[~df_DAS['Valor da DAS'].str.contains(\"DAS\")]\n",
    "\n",
    "# Mas esse DF tem diversos espaços antes e após o valor. Vamos excluir.\n",
    "df_DAS = df_DAS.apply(lambda x: x.str.strip())\n",
    "\n",
    "# Resultado\n",
    "df_DAS.head()"
   ]
  },
  {
   "cell_type": "code",
   "execution_count": null,
   "metadata": {
    "ExecuteTime": {
     "end_time": "2020-01-10T22:08:41.799548Z",
     "start_time": "2020-01-10T22:08:41.782273Z"
    }
   },
   "outputs": [],
   "source": [
    "# salvar para um único arquivo \n",
    "df_DAS.to_csv('data/cargodas.csv.gz', compression='gzip')"
   ]
  },
  {
   "cell_type": "code",
   "execution_count": null,
   "metadata": {
    "ExecuteTime": {
     "end_time": "2020-01-10T22:08:41.936504Z",
     "start_time": "2020-01-10T22:08:41.929Z"
    }
   },
   "outputs": [],
   "source": [
    "# os arquivos originais não serão mais necessários, podemos deletá-los\n",
    "path = 'data/cargodas'\n",
    "shutil.rmtree(path)"
   ]
  },
  {
   "cell_type": "code",
   "execution_count": null,
   "metadata": {},
   "outputs": [],
   "source": []
  },
  {
   "cell_type": "code",
   "execution_count": null,
   "metadata": {},
   "outputs": [],
   "source": []
  },
  {
   "cell_type": "code",
   "execution_count": null,
   "metadata": {},
   "outputs": [],
   "source": []
  }
 ],
 "metadata": {
  "kernelspec": {
   "display_name": "Python 3",
   "language": "python",
   "name": "python3"
  },
  "language_info": {
   "codemirror_mode": {
    "name": "ipython",
    "version": 3
   },
   "file_extension": ".py",
   "mimetype": "text/x-python",
   "name": "python",
   "nbconvert_exporter": "python",
   "pygments_lexer": "ipython3",
   "version": "3.6.4"
  },
  "toc": {
   "base_numbering": 1,
   "nav_menu": {},
   "number_sections": true,
   "sideBar": true,
   "skip_h1_title": false,
   "title_cell": "Table of Contents",
   "title_sidebar": "Contents",
   "toc_cell": false,
   "toc_position": {},
   "toc_section_display": true,
   "toc_window_display": false
  },
  "varInspector": {
   "cols": {
    "lenName": 16,
    "lenType": 16,
    "lenVar": 40
   },
   "kernels_config": {
    "python": {
     "delete_cmd_postfix": "",
     "delete_cmd_prefix": "del ",
     "library": "var_list.py",
     "varRefreshCmd": "print(var_dic_list())"
    },
    "r": {
     "delete_cmd_postfix": ") ",
     "delete_cmd_prefix": "rm(",
     "library": "var_list.r",
     "varRefreshCmd": "cat(var_dic_list()) "
    }
   },
   "types_to_exclude": [
    "module",
    "function",
    "builtin_function_or_method",
    "instance",
    "_Feature"
   ],
   "window_display": false
  }
 },
 "nbformat": 4,
 "nbformat_minor": 2
}
